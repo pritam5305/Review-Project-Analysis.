{
 "cells": [
  {
   "cell_type": "markdown",
   "metadata": {},
   "source": [
    "<h1>DESCRIPTION</h1>\n",
    "\n",
    "Help a leading mobile brand understand the voice of the customer by analyzing the reviews of their product on <strong>Amazon</strong> and the topics that customers are talking about. You will perform topic modeling on specific parts of speech. You’ll finally interpret the emerging topics.\n",
    "\n",
    "<h2>Problem Statement</h2>\n",
    "\n",
    "A popular mobile phone brand, Lenovo has launched their budget smartphone in the Indian market. The client wants to understand the VOC (voice of the customer) on the product. This will be useful to not just evaluate the current product, but to also get some direction for developing the product pipeline. The client is particularly interested in the different aspects that customers care about. Product reviews by customers on a leading e-commerce site should provide a good view.\n",
    "\n",
    "\n",
    "<h3>Steps to perform</h3>:\n",
    "\n",
    "Discover the topics in the reviews and present it to business in a consumable format. Employ techniques in syntactic processing and topic modeling.\n",
    "\n",
    "Perform specific cleanup, POS tagging, and restricting to relevant POS tags, then, perform topic modeling using LDA. Finally, give business-friendly names to the topics and make a table for business.\n",
    "\n",
    "\n",
    "<h4>Content</h4>: \n",
    "\n",
    "Dataset: ‘K8 Reviews v0.2.csv’\n",
    "\n",
    "Columns:\n",
    "\n",
    "Sentiment: The sentiment against the review (4,5 star reviews are positive &#128512;  , 1,2 are negative &#128532;)\n",
    "\n",
    "Reviews: The main text of the review\n",
    "\n",
    "<h5>Tasks</h5>: \n",
    "\n",
    "<&#10148;>   Read the .csv file using Pandas. Take a look at the top few records.\n",
    "\n",
    "<&#10148;>   Normalize casings for the review text and extract the text into a list for easier manipulation.\n",
    "\n",
    "<&#10148;>   Tokenize the reviews using NLTKs word_tokenize function.\n",
    "\n",
    "<&#10148;>   Perform parts-of-speech tagging on each sentence using the NLTK POS tagger.\n",
    "\n",
    "<&#10148;>   For the topic model, we should  want to include only nouns.\n",
    "\n",
    "                 1. Find out all the POS tags that correspond to nouns.\n",
    "\n",
    "                 2. Limit the data to only terms with these tags.\n",
    "\n",
    "<&#10148;>  Lemmatize. \n",
    "\n",
    "                 1. Different forms of the terms need to be treated as one.\n",
    "\n",
    "                 2. No need to provide POS tag to lemmatizer for now.\n",
    "\n",
    "<&#10148;>  Remove stopwords and punctuation (if there are any). \n",
    "\n",
    "<&#10148;>  Create a topic model using LDA on the cleaned-up data with 12 topics.\n",
    "\n",
    "                 1. Print out the top terms for each topic.\n",
    "\n",
    "                 2. What is the coherence of the model with the c_v metric?\n",
    "\n",
    "<&#10148;>  Analyze the topics through the business lens.\n",
    " \n",
    "                 1. Determine which of the topics can be combined.\n",
    "\n",
    "<&#10148;>  Create topic model using LDA with what you think is the optimal number of topics\n",
    "\n",
    "                 1. What is the coherence of the model?\n",
    "\n",
    "<&#10148;>  The business should  be able to interpret the topics.\n",
    "\n",
    "                 1. Name each of the identified topics.\n",
    "\n",
    "                 2. Create a table with the topic name and the top 10 terms in each to present to the  business."
   ]
  },
  {
   "cell_type": "markdown",
   "metadata": {},
   "source": [
    "1.[Read the .csv file using Pandas. Take a look at the top few records.](#Read-the-.csv-file-using-Pandas.-Take-a-look-at-the-top-few-records.)\n",
    "\n",
    "2.[Normalize casings for the review text](#Normalize-casings-for-the-review-text)\n",
    "\n",
    "3.[extract the text into a list for easier manipulation](#extract-the-text-into-a-list-for-easier-manipulation)\n",
    "\n",
    "4.[Tokenize the reviews using NLTKs word_tokenize function](#Tokenize-the-reviews-using-NLTKs-word_tokenize-function)\n",
    "\n",
    "5.[Perform parts-of-speech tagging on each sentence using the NLTK POS tagger.](#Perform-parts-of-speech-tagging-on-each-sentence-using-the-NLTK-POS-tagger.)\n",
    "\n",
    "6.[Find out all the POS tags that correspond to nouns.](#Find-out-all-the-POS-tags-that-correspond-to-nouns.)\n",
    "\n",
    "7.[Lemmatize.](#Lemmatize.)\n",
    "\n",
    "8.[Print out the top terms for each topic.](#Print-out-the-top-terms-for-each-topic.)\n",
    "\n",
    "9.[Create topic model using LDA](#Create-topic-model-using-LDA)\n",
    "\n",
    "10.[What is the coherence of the model?](#What-is-the-coherence-of-the-model?)\n",
    "\n",
    "11.[Create a table with the topic name and the top 10 terms in each to present to the  business.](#Create-a-table-with-the-topic-name-and-the-top-10-terms-in-each-to-present-to-the-business.)\n",
    "\n",
    "12.[What is the coherence of the model?](#What-is-the-coherence-of-the-model?)"
   ]
  },
  {
   "cell_type": "code",
   "execution_count": 1,
   "metadata": {},
   "outputs": [],
   "source": [
    "##Import the Required libraries\n",
    "\n",
    "import pandas as pd\n",
    "import numpy as np\n",
    "import tqdm\n",
    "import nltk\n",
    "import os\n",
    "import texthero as hero\n",
    "from nltk.corpus import stopwords\n",
    "from nltk.stem import WordNetLemmatizer\n",
    "import gensim"
   ]
  },
  {
   "cell_type": "markdown",
   "metadata": {},
   "source": [
    "## Read the .csv file using Pandas. Take a look at the top few records."
   ]
  },
  {
   "cell_type": "code",
   "execution_count": 2,
   "metadata": {},
   "outputs": [
    {
     "data": {
      "text/html": [
       "<div>\n",
       "<style scoped>\n",
       "    .dataframe tbody tr th:only-of-type {\n",
       "        vertical-align: middle;\n",
       "    }\n",
       "\n",
       "    .dataframe tbody tr th {\n",
       "        vertical-align: top;\n",
       "    }\n",
       "\n",
       "    .dataframe thead th {\n",
       "        text-align: right;\n",
       "    }\n",
       "</style>\n",
       "<table border=\"1\" class=\"dataframe\">\n",
       "  <thead>\n",
       "    <tr style=\"text-align: right;\">\n",
       "      <th></th>\n",
       "      <th>sentiment</th>\n",
       "      <th>review</th>\n",
       "    </tr>\n",
       "  </thead>\n",
       "  <tbody>\n",
       "    <tr>\n",
       "      <th>0</th>\n",
       "      <td>1</td>\n",
       "      <td>Good but need updates and improvements</td>\n",
       "    </tr>\n",
       "    <tr>\n",
       "      <th>1</th>\n",
       "      <td>0</td>\n",
       "      <td>Worst mobile i have bought ever, Battery is dr...</td>\n",
       "    </tr>\n",
       "    <tr>\n",
       "      <th>2</th>\n",
       "      <td>1</td>\n",
       "      <td>when I will get my 10% cash back.... its alrea...</td>\n",
       "    </tr>\n",
       "    <tr>\n",
       "      <th>3</th>\n",
       "      <td>1</td>\n",
       "      <td>Good</td>\n",
       "    </tr>\n",
       "    <tr>\n",
       "      <th>4</th>\n",
       "      <td>0</td>\n",
       "      <td>The worst phone everThey have changed the last...</td>\n",
       "    </tr>\n",
       "  </tbody>\n",
       "</table>\n",
       "</div>"
      ],
      "text/plain": [
       "   sentiment                                             review\n",
       "0          1             Good but need updates and improvements\n",
       "1          0  Worst mobile i have bought ever, Battery is dr...\n",
       "2          1  when I will get my 10% cash back.... its alrea...\n",
       "3          1                                               Good\n",
       "4          0  The worst phone everThey have changed the last..."
      ]
     },
     "execution_count": 2,
     "metadata": {},
     "output_type": "execute_result"
    }
   ],
   "source": [
    "amazon=pd.read_csv(\"K8 Reviews v0.2.csv\")\n",
    "amazon.head()"
   ]
  },
  {
   "cell_type": "code",
   "execution_count": 3,
   "metadata": {},
   "outputs": [
    {
     "data": {
      "text/plain": [
       "0    7712\n",
       "1    6963\n",
       "Name: sentiment, dtype: int64"
      ]
     },
     "execution_count": 3,
     "metadata": {},
     "output_type": "execute_result"
    }
   ],
   "source": [
    "#check the unique values for sentimment and their counts\n",
    "\n",
    "amazon['sentiment'].value_counts()"
   ]
  },
  {
   "cell_type": "markdown",
   "metadata": {},
   "source": [
    "##  Normalize casings for the review text "
   ]
  },
  {
   "cell_type": "code",
   "execution_count": 4,
   "metadata": {},
   "outputs": [],
   "source": [
    "stopnltk=stopwords.words('english')\n",
    "stop_new=['lenevo']\n",
    "stopnltk=stopnltk+stop_new\n"
   ]
  },
  {
   "cell_type": "code",
   "execution_count": 5,
   "metadata": {},
   "outputs": [
    {
     "data": {
      "text/html": [
       "<div>\n",
       "<style scoped>\n",
       "    .dataframe tbody tr th:only-of-type {\n",
       "        vertical-align: middle;\n",
       "    }\n",
       "\n",
       "    .dataframe tbody tr th {\n",
       "        vertical-align: top;\n",
       "    }\n",
       "\n",
       "    .dataframe thead th {\n",
       "        text-align: right;\n",
       "    }\n",
       "</style>\n",
       "<table border=\"1\" class=\"dataframe\">\n",
       "  <thead>\n",
       "    <tr style=\"text-align: right;\">\n",
       "      <th></th>\n",
       "      <th>sentiment</th>\n",
       "      <th>review</th>\n",
       "    </tr>\n",
       "  </thead>\n",
       "  <tbody>\n",
       "    <tr>\n",
       "      <th>0</th>\n",
       "      <td>1</td>\n",
       "      <td>good need updates improvements</td>\n",
       "    </tr>\n",
       "    <tr>\n",
       "      <th>1</th>\n",
       "      <td>0</td>\n",
       "      <td>worst mobile bought ever battery draining like...</td>\n",
       "    </tr>\n",
       "    <tr>\n",
       "      <th>2</th>\n",
       "      <td>1</td>\n",
       "      <td>get cash back already january</td>\n",
       "    </tr>\n",
       "    <tr>\n",
       "      <th>3</th>\n",
       "      <td>1</td>\n",
       "      <td>good</td>\n",
       "    </tr>\n",
       "    <tr>\n",
       "      <th>4</th>\n",
       "      <td>0</td>\n",
       "      <td>worst phone everthey changed last phone proble...</td>\n",
       "    </tr>\n",
       "  </tbody>\n",
       "</table>\n",
       "</div>"
      ],
      "text/plain": [
       "   sentiment                                             review\n",
       "0          1                     good need updates improvements\n",
       "1          0  worst mobile bought ever battery draining like...\n",
       "2          1                      get cash back already january\n",
       "3          1                                               good\n",
       "4          0  worst phone everthey changed last phone proble..."
      ]
     },
     "execution_count": 5,
     "metadata": {},
     "output_type": "execute_result"
    }
   ],
   "source": [
    "from texthero import preprocessing#create a custom cleaning pipeline\n",
    "custom_pipeline = [preprocessing.fillna\n",
    "                   , preprocessing.lowercase\n",
    "                   , preprocessing.remove_digits\n",
    "                   , preprocessing.remove_punctuation\n",
    "                   , preprocessing.remove_diacritics\n",
    "                   , preprocessing.remove_stopwords\n",
    "                   , preprocessing.remove_whitespace]\n",
    "                   #, preprocessing.stem]#pass the custom_pipeline to the pipeline argument\n",
    "amazon['review'] = hero.clean(amazon['review'], pipeline = custom_pipeline)\n",
    "amazon.head()\n"
   ]
  },
  {
   "cell_type": "markdown",
   "metadata": {},
   "source": [
    "## extract the text into a list for easier manipulation"
   ]
  },
  {
   "cell_type": "code",
   "execution_count": 6,
   "metadata": {},
   "outputs": [
    {
     "data": {
      "text/plain": [
       "'good need updates improvements'"
      ]
     },
     "execution_count": 6,
     "metadata": {},
     "output_type": "execute_result"
    }
   ],
   "source": [
    "article0=list(amazon.review.values)\n",
    "article0[0]"
   ]
  },
  {
   "cell_type": "code",
   "execution_count": 7,
   "metadata": {},
   "outputs": [
    {
     "data": {
      "text/plain": [
       "list"
      ]
     },
     "execution_count": 7,
     "metadata": {},
     "output_type": "execute_result"
    }
   ],
   "source": [
    "type(article0)"
   ]
  },
  {
   "cell_type": "markdown",
   "metadata": {},
   "source": [
    "## Tokenize the reviews using NLTKs word_tokenize function"
   ]
  },
  {
   "cell_type": "code",
   "execution_count": 8,
   "metadata": {},
   "outputs": [
    {
     "data": {
      "text/plain": [
       "['good', 'need', 'updates', 'improvements']"
      ]
     },
     "execution_count": 8,
     "metadata": {},
     "output_type": "execute_result"
    }
   ],
   "source": [
    "article_tkn=[]\n",
    "for term in article0:\n",
    "    article_tkn.append(nltk.word_tokenize(term))\n",
    "\n",
    "article_tkn[0]"
   ]
  },
  {
   "cell_type": "markdown",
   "metadata": {},
   "source": [
    "## Perform parts-of-speech tagging on each sentence using the NLTK POS tagger."
   ]
  },
  {
   "cell_type": "code",
   "execution_count": 9,
   "metadata": {},
   "outputs": [
    {
     "data": {
      "text/plain": [
       "[('good', 'JJ'), ('need', 'NN'), ('updates', 'NNS'), ('improvements', 'NNS')]"
      ]
     },
     "execution_count": 9,
     "metadata": {},
     "output_type": "execute_result"
    }
   ],
   "source": [
    "article_pos=[]\n",
    "\n",
    "for term in article_tkn:\n",
    "    article_pos.append(nltk.pos_tag(term))\n",
    "    \n",
    "article_pos[0]"
   ]
  },
  {
   "cell_type": "markdown",
   "metadata": {},
   "source": [
    "## Find out all the POS tags that correspond to nouns."
   ]
  },
  {
   "cell_type": "code",
   "execution_count": 10,
   "metadata": {},
   "outputs": [
    {
     "data": {
      "text/plain": [
       "['need', 'updates', 'improvements']"
      ]
     },
     "execution_count": 10,
     "metadata": {},
     "output_type": "execute_result"
    }
   ],
   "source": [
    "[term for (term,pos) in article_pos[0] if pos.startswith ('NN')]"
   ]
  },
  {
   "cell_type": "code",
   "execution_count": 11,
   "metadata": {},
   "outputs": [
    {
     "data": {
      "text/plain": [
       "['mobile',\n",
       " 'hell',\n",
       " 'backup',\n",
       " 'hours',\n",
       " 'uses',\n",
       " 'lie',\n",
       " 'amazon',\n",
       " 'lenove',\n",
       " 'battery',\n",
       " 'booster',\n",
       " 'charger',\n",
       " 'hours',\n",
       " 'regret']"
      ]
     },
     "execution_count": 11,
     "metadata": {},
     "output_type": "execute_result"
    }
   ],
   "source": [
    "onlynouns=[]\n",
    "\n",
    "for term in article_pos:\n",
    "    onlynouns.append([term for (term,pos) in term if pos.startswith ('N')])\n",
    "    \n",
    "onlynouns[1]"
   ]
  },
  {
   "cell_type": "markdown",
   "metadata": {},
   "source": [
    "## Lemmatize."
   ]
  },
  {
   "cell_type": "code",
   "execution_count": 12,
   "metadata": {},
   "outputs": [
    {
     "data": {
      "text/plain": [
       "['need', 'update', 'improvement']"
      ]
     },
     "execution_count": 12,
     "metadata": {},
     "output_type": "execute_result"
    }
   ],
   "source": [
    "lemma=WordNetLemmatizer()\n",
    "article_lema=[]\n",
    "for term in onlynouns:\n",
    "    article_lema.append([lemma.lemmatize(word) for word in term])\n",
    "    \n",
    "    \n",
    "article_lema[0]"
   ]
  },
  {
   "cell_type": "markdown",
   "metadata": {},
   "source": [
    "## Create a topic model using LDA on the cleaned-up data with 12 topics."
   ]
  },
  {
   "cell_type": "code",
   "execution_count": 13,
   "metadata": {},
   "outputs": [],
   "source": [
    "dictionary=gensim.corpora.Dictionary(article_lema)"
   ]
  },
  {
   "cell_type": "code",
   "execution_count": 14,
   "metadata": {},
   "outputs": [
    {
     "name": "stdout",
     "output_type": "stream",
     "text": [
      "0 improvement\n",
      "1 need\n",
      "2 update\n",
      "3 amazon\n",
      "4 backup\n",
      "5 battery\n",
      "6 booster\n",
      "7 charger\n",
      "8 hell\n",
      "9 hour\n",
      "10 lenove\n",
      "11 lie\n",
      "12 mobile\n"
     ]
    }
   ],
   "source": [
    "count=0\n",
    "for k,v in dictionary.iteritems():\n",
    "    print(k,v)\n",
    "    count+=1\n",
    "    if count>12:\n",
    "        break"
   ]
  },
  {
   "cell_type": "markdown",
   "metadata": {},
   "source": [
    "## Print out the top terms for each topic."
   ]
  },
  {
   "cell_type": "code",
   "execution_count": 15,
   "metadata": {},
   "outputs": [
    {
     "data": {
      "text/plain": [
       "[(0, 1), (1, 1), (2, 1)]"
      ]
     },
     "execution_count": 15,
     "metadata": {},
     "output_type": "execute_result"
    }
   ],
   "source": [
    "bow_corpus=[dictionary.doc2bow(doc) for doc in article_lema]\n",
    "bow_corpus[0]"
   ]
  },
  {
   "cell_type": "code",
   "execution_count": 16,
   "metadata": {},
   "outputs": [
    {
     "name": "stdout",
     "output_type": "stream",
     "text": [
      "word 38 (\"option\") appears 2 time in document# 25\n",
      "word 50 (\"screen\") appears 1 time in document# 25\n",
      "word 71 (\"call\") appears 1 time in document# 25\n",
      "word 72 (\"cast\") appears 1 time in document# 25\n",
      "word 73 (\"hotspot\") appears 1 time in document# 25\n"
     ]
    }
   ],
   "source": [
    "document_num=25\n",
    "bow_doc_x=bow_corpus[document_num]\n",
    "for i in range(len(bow_doc_x)):\n",
    "    print(\"word {} (\\\"{}\\\") appears {} time in document# {}\".format(bow_doc_x[i][0],dictionary[bow_doc_x[i][0]],bow_doc_x[i][1],\n",
    "                                                                 document_num))"
   ]
  },
  {
   "cell_type": "markdown",
   "metadata": {},
   "source": [
    "## Create topic model using LDA "
   ]
  },
  {
   "cell_type": "code",
   "execution_count": 17,
   "metadata": {},
   "outputs": [],
   "source": [
    "lda_model=gensim.models.LdaMulticore(bow_corpus,\n",
    "                                    num_topics=12,\n",
    "                                    id2word=dictionary,\n",
    "                                    passes=20,\n",
    "                                    workers=2)"
   ]
  },
  {
   "cell_type": "code",
   "execution_count": 18,
   "metadata": {},
   "outputs": [
    {
     "name": "stdout",
     "output_type": "stream",
     "text": [
      "Topic :0 \n",
      " Words :0.355*\"product\" + 0.035*\"amazon\" + 0.030*\"return\" + 0.016*\"experience\" + 0.014*\"box\" + 0.012*\"love\" + 0.011*\"heat\" + 0.011*\"issue\" + 0.011*\"buy\" + 0.010*\"piece\" \n",
      "\n",
      "\n",
      "Topic :1 \n",
      " Words :0.074*\"delivery\" + 0.045*\"super\" + 0.040*\"awesome\" + 0.033*\"gallery\" + 0.026*\"fast\" + 0.024*\"thanks\" + 0.016*\"player\" + 0.015*\"recorder\" + 0.015*\"music\" + 0.015*\"facility\" \n",
      "\n",
      "\n",
      "Topic :2 \n",
      " Words :0.107*\"network\" + 0.051*\"sim\" + 0.043*\"problem\" + 0.036*\"support\" + 0.030*\"work\" + 0.030*\"jio\" + 0.029*\"issue\" + 0.029*\"handset\" + 0.024*\"volta\" + 0.019*\"time\" \n",
      "\n",
      "\n",
      "Topic :3 \n",
      " Words :0.102*\"phone\" + 0.047*\"issue\" + 0.039*\"day\" + 0.034*\"time\" + 0.028*\"problem\" + 0.026*\"call\" + 0.021*\"service\" + 0.020*\"option\" + 0.018*\"month\" + 0.015*\"lenovo\" \n",
      "\n",
      "\n",
      "Topic :4 \n",
      " Words :0.121*\"charger\" + 0.060*\"hai\" + 0.052*\"turbo\" + 0.044*\"h\" + 0.020*\"ho\" + 0.015*\"hi\" + 0.014*\"charge\" + 0.013*\"bhi\" + 0.012*\"ka\" + 0.011*\"cable\" \n",
      "\n",
      "\n",
      "Topic :5 \n",
      " Words :0.085*\"camera\" + 0.042*\"phone\" + 0.037*\"battery\" + 0.023*\"mode\" + 0.014*\"performance\" + 0.013*\"feature\" + 0.012*\"depth\" + 0.012*\"front\" + 0.012*\"day\" + 0.011*\"game\" \n",
      "\n",
      "\n",
      "Topic :6 \n",
      " Words :0.157*\"note\" + 0.097*\"money\" + 0.088*\"k8\" + 0.079*\"lenovo\" + 0.046*\"waste\" + 0.036*\"value\" + 0.027*\"device\" + 0.011*\"k4\" + 0.010*\"buy\" + 0.010*\"dont\" \n",
      "\n",
      "\n",
      "Topic :7 \n",
      " Words :0.101*\"performance\" + 0.100*\"phone\" + 0.033*\"heat\" + 0.024*\"issue\" + 0.023*\"hang\" + 0.020*\"lot\" + 0.018*\"time\" + 0.015*\"review\" + 0.013*\"camera\" + 0.011*\"cell\" \n",
      "\n",
      "\n",
      "Topic :8 \n",
      " Words :0.195*\"mobile\" + 0.053*\"glass\" + 0.044*\"service\" + 0.034*\"superb\" + 0.032*\"screen\" + 0.028*\"gorilla\" + 0.015*\"item\" + 0.015*\"use\" + 0.014*\"bill\" + 0.014*\"warranty\" \n",
      "\n",
      "\n",
      "Topic :9 \n",
      " Words :0.206*\"camera\" + 0.157*\"quality\" + 0.048*\"phone\" + 0.035*\"sound\" + 0.025*\"speaker\" + 0.020*\"display\" + 0.016*\"good\" + 0.015*\"headphone\" + 0.012*\"picture\" + 0.011*\"system\" \n",
      "\n",
      "\n",
      "Topic :10 \n",
      " Words :0.274*\"battery\" + 0.104*\"problem\" + 0.060*\"backup\" + 0.051*\"heating\" + 0.032*\"hour\" + 0.030*\"issue\" + 0.028*\"charge\" + 0.028*\"life\" + 0.027*\"camera\" + 0.025*\"drain\" \n",
      "\n",
      "\n",
      "Topic :11 \n",
      " Words :0.413*\"phone\" + 0.080*\"price\" + 0.051*\"feature\" + 0.030*\"range\" + 0.016*\"buy\" + 0.016*\"budget\" + 0.013*\"processor\" + 0.012*\"ok\" + 0.012*\"use\" + 0.010*\"specification\" \n",
      "\n",
      "\n"
     ]
    }
   ],
   "source": [
    "for idx,topic in lda_model.print_topics():\n",
    "    print(\"Topic :{} \\n Words :{} \".format(idx,topic))\n",
    "    print(\"\\n\")"
   ]
  },
  {
   "cell_type": "markdown",
   "metadata": {},
   "source": [
    "## What is the coherence of the model?"
   ]
  },
  {
   "cell_type": "code",
   "execution_count": 19,
   "metadata": {},
   "outputs": [],
   "source": [
    "from gensim.models import CoherenceModel\n",
    "def compute_coherence_values(corpus,texts,dictionary,k,a,b):\n",
    "    lda_model=gensim.models.LdaMulticore(corpus=corpus,\n",
    "                                        id2word=dictionary,\n",
    "                                        random_state=100,\n",
    "                                        chunksize=100,\n",
    "                                        passes=20,\n",
    "                                        alpha=a,\n",
    "                                        eta=b,\n",
    "                                        per_word_topics=True)\n",
    "    coherence_model_lda=CoherenceModel(model=lda_model,texts=texts,dictionary=dictionary,coherence='c_v')\n",
    "    return coherence_model_lda.get_coherence()\n"
   ]
  },
  {
   "cell_type": "code",
   "execution_count": 20,
   "metadata": {},
   "outputs": [
    {
     "data": {
      "text/plain": [
       "[(0, 1), (1, 1), (2, 1)]"
      ]
     },
     "execution_count": 20,
     "metadata": {},
     "output_type": "execute_result"
    }
   ],
   "source": [
    "grid={}\n",
    "grid['validation_set']={}\n",
    "#topics range\n",
    "min_topics=3\n",
    "max_topics=19\n",
    "step_size=3\n",
    "topics_range=range(min_topics,max_topics,step_size)\n",
    "#Alpha Parameter\n",
    "alpha=list(np.arange(0.01,1,0.3))\n",
    "#Beta Parameter\n",
    "beta=list(np.arange(0.01,1,0.3))\n",
    "#Validation Sets\n",
    "num_of_docs=len(bow_corpus)\n",
    "corpus_sets=[gensim.utils.ClippedCorpus(bow_corpus,num_of_docs*0.75).corpus,bow_corpus]\n",
    "corpus_sets[0][0]\n"
   ]
  },
  {
   "cell_type": "code",
   "execution_count": 22,
   "metadata": {},
   "outputs": [
    {
     "name": "stderr",
     "output_type": "stream",
     "text": [
      "  1%|▋                                                                              | 1/126 [01:43<3:36:21, 103.85s/it]"
     ]
    },
    {
     "name": "stdout",
     "output_type": "stream",
     "text": [
      "i is 0, k is 3, a is 0.01, b is 0.01 and final cv is 0.3882555592099666\n"
     ]
    },
    {
     "name": "stderr",
     "output_type": "stream",
     "text": [
      "\r",
      "  2%|█▎                                                                             | 2/126 [03:22<3:31:41, 102.43s/it]"
     ]
    },
    {
     "name": "stdout",
     "output_type": "stream",
     "text": [
      "i is 0, k is 3, a is 0.01, b is 0.31 and final cv is 0.4380762586310488\n"
     ]
    },
    {
     "name": "stderr",
     "output_type": "stream",
     "text": [
      "\r",
      "  2%|█▉                                                                             | 3/126 [04:59<3:26:20, 100.65s/it]"
     ]
    },
    {
     "name": "stdout",
     "output_type": "stream",
     "text": [
      "i is 0, k is 3, a is 0.01, b is 0.61 and final cv is 0.41497010132338863\n"
     ]
    },
    {
     "name": "stderr",
     "output_type": "stream",
     "text": [
      "\r",
      "  3%|██▌                                                                             | 4/126 [06:35<3:21:32, 99.12s/it]"
     ]
    },
    {
     "name": "stdout",
     "output_type": "stream",
     "text": [
      "i is 0, k is 3, a is 0.01, b is 0.9099999999999999 and final cv is 0.4125262561837527\n"
     ]
    },
    {
     "name": "stderr",
     "output_type": "stream",
     "text": [
      "\r",
      "  4%|███▏                                                                            | 5/126 [08:15<3:20:25, 99.38s/it]"
     ]
    },
    {
     "name": "stdout",
     "output_type": "stream",
     "text": [
      "i is 0, k is 3, a is 0.31, b is 0.01 and final cv is 0.4303766645256206\n"
     ]
    },
    {
     "name": "stderr",
     "output_type": "stream",
     "text": [
      "\r",
      "  5%|███▊                                                                            | 6/126 [09:51<3:16:44, 98.37s/it]"
     ]
    },
    {
     "name": "stdout",
     "output_type": "stream",
     "text": [
      "i is 0, k is 3, a is 0.31, b is 0.31 and final cv is 0.5266822638891019\n"
     ]
    },
    {
     "name": "stderr",
     "output_type": "stream",
     "text": [
      "\r",
      "  6%|████▍                                                                           | 7/126 [11:22<3:10:53, 96.25s/it]"
     ]
    },
    {
     "name": "stdout",
     "output_type": "stream",
     "text": [
      "i is 0, k is 3, a is 0.31, b is 0.61 and final cv is 0.5885321093408831\n"
     ]
    },
    {
     "name": "stderr",
     "output_type": "stream",
     "text": [
      "\r",
      "  6%|█████                                                                           | 8/126 [12:52<3:05:55, 94.54s/it]"
     ]
    },
    {
     "name": "stdout",
     "output_type": "stream",
     "text": [
      "i is 0, k is 3, a is 0.31, b is 0.9099999999999999 and final cv is 0.6699513202848246\n"
     ]
    },
    {
     "name": "stderr",
     "output_type": "stream",
     "text": [
      "\r",
      "  7%|█████▋                                                                          | 9/126 [14:32<3:07:10, 95.99s/it]"
     ]
    },
    {
     "name": "stdout",
     "output_type": "stream",
     "text": [
      "i is 0, k is 3, a is 0.61, b is 0.01 and final cv is 0.4130211612788922\n"
     ]
    },
    {
     "name": "stderr",
     "output_type": "stream",
     "text": [
      "\r",
      "  8%|██████▎                                                                        | 10/126 [16:04<3:03:09, 94.74s/it]"
     ]
    },
    {
     "name": "stdout",
     "output_type": "stream",
     "text": [
      "i is 0, k is 3, a is 0.61, b is 0.31 and final cv is 0.4410368684446031\n"
     ]
    },
    {
     "name": "stderr",
     "output_type": "stream",
     "text": [
      "\r",
      "  9%|██████▉                                                                        | 11/126 [17:37<3:00:45, 94.31s/it]"
     ]
    },
    {
     "name": "stdout",
     "output_type": "stream",
     "text": [
      "i is 0, k is 3, a is 0.61, b is 0.61 and final cv is 0.23923873579335783\n"
     ]
    },
    {
     "name": "stderr",
     "output_type": "stream",
     "text": [
      "\r",
      " 10%|███████▌                                                                       | 12/126 [19:06<2:56:00, 92.64s/it]"
     ]
    },
    {
     "name": "stdout",
     "output_type": "stream",
     "text": [
      "i is 0, k is 3, a is 0.61, b is 0.9099999999999999 and final cv is 0.2664457986806179\n"
     ]
    },
    {
     "name": "stderr",
     "output_type": "stream",
     "text": [
      "\r",
      " 10%|████████▏                                                                      | 13/126 [20:46<2:59:03, 95.08s/it]"
     ]
    },
    {
     "name": "stdout",
     "output_type": "stream",
     "text": [
      "i is 0, k is 3, a is 0.9099999999999999, b is 0.01 and final cv is 0.415492830793346\n"
     ]
    },
    {
     "name": "stderr",
     "output_type": "stream",
     "text": [
      "\r",
      " 11%|████████▊                                                                      | 14/126 [22:20<2:56:47, 94.71s/it]"
     ]
    },
    {
     "name": "stdout",
     "output_type": "stream",
     "text": [
      "i is 0, k is 3, a is 0.9099999999999999, b is 0.31 and final cv is 0.48420202151449165\n"
     ]
    },
    {
     "name": "stderr",
     "output_type": "stream",
     "text": [
      "\r",
      " 12%|█████████▍                                                                     | 15/126 [23:51<2:52:54, 93.46s/it]"
     ]
    },
    {
     "name": "stdout",
     "output_type": "stream",
     "text": [
      "i is 0, k is 3, a is 0.9099999999999999, b is 0.61 and final cv is 0.4158645706959013\n"
     ]
    },
    {
     "name": "stderr",
     "output_type": "stream",
     "text": [
      "\r",
      " 13%|██████████                                                                     | 16/126 [25:21<2:49:27, 92.43s/it]"
     ]
    },
    {
     "name": "stdout",
     "output_type": "stream",
     "text": [
      "i is 0, k is 3, a is 0.9099999999999999, b is 0.9099999999999999 and final cv is 0.37694018719582895\n"
     ]
    },
    {
     "name": "stderr",
     "output_type": "stream",
     "text": [
      "\r",
      " 13%|██████████▋                                                                    | 17/126 [27:03<2:53:18, 95.40s/it]"
     ]
    },
    {
     "name": "stdout",
     "output_type": "stream",
     "text": [
      "i is 0, k is 6, a is 0.01, b is 0.01 and final cv is 0.38114302801690947\n"
     ]
    },
    {
     "name": "stderr",
     "output_type": "stream",
     "text": [
      "\r",
      " 14%|███████████▎                                                                   | 18/126 [28:41<2:53:12, 96.23s/it]"
     ]
    },
    {
     "name": "stdout",
     "output_type": "stream",
     "text": [
      "i is 0, k is 6, a is 0.01, b is 0.31 and final cv is 0.4234271575416105\n"
     ]
    },
    {
     "name": "stderr",
     "output_type": "stream",
     "text": [
      "\r",
      " 15%|███████████▉                                                                   | 19/126 [30:17<2:51:31, 96.19s/it]"
     ]
    },
    {
     "name": "stdout",
     "output_type": "stream",
     "text": [
      "i is 0, k is 6, a is 0.01, b is 0.61 and final cv is 0.408699510867609\n"
     ]
    },
    {
     "name": "stderr",
     "output_type": "stream",
     "text": [
      "\r",
      " 16%|████████████▌                                                                  | 20/126 [31:52<2:49:19, 95.84s/it]"
     ]
    },
    {
     "name": "stdout",
     "output_type": "stream",
     "text": [
      "i is 0, k is 6, a is 0.01, b is 0.9099999999999999 and final cv is 0.3989156562484791\n"
     ]
    },
    {
     "name": "stderr",
     "output_type": "stream",
     "text": [
      "\r",
      " 17%|█████████████▏                                                                 | 21/126 [33:33<2:50:17, 97.31s/it]"
     ]
    },
    {
     "name": "stdout",
     "output_type": "stream",
     "text": [
      "i is 0, k is 6, a is 0.31, b is 0.01 and final cv is 0.4267673047501773\n"
     ]
    },
    {
     "name": "stderr",
     "output_type": "stream",
     "text": [
      "\r",
      " 17%|█████████████▊                                                                 | 22/126 [35:09<2:47:46, 96.79s/it]"
     ]
    },
    {
     "name": "stdout",
     "output_type": "stream",
     "text": [
      "i is 0, k is 6, a is 0.31, b is 0.31 and final cv is 0.5101012248240817\n"
     ]
    },
    {
     "name": "stderr",
     "output_type": "stream",
     "text": [
      "\r",
      " 18%|██████████████▍                                                                | 23/126 [36:39<2:42:57, 94.93s/it]"
     ]
    },
    {
     "name": "stdout",
     "output_type": "stream",
     "text": [
      "i is 0, k is 6, a is 0.31, b is 0.61 and final cv is 0.613788029577681\n"
     ]
    },
    {
     "name": "stderr",
     "output_type": "stream",
     "text": [
      "\r",
      " 19%|███████████████                                                                | 24/126 [38:09<2:38:56, 93.49s/it]"
     ]
    },
    {
     "name": "stdout",
     "output_type": "stream",
     "text": [
      "i is 0, k is 6, a is 0.31, b is 0.9099999999999999 and final cv is 0.6708726441835889\n"
     ]
    },
    {
     "name": "stderr",
     "output_type": "stream",
     "text": [
      "\r",
      " 20%|███████████████▋                                                               | 25/126 [39:52<2:41:54, 96.18s/it]"
     ]
    },
    {
     "name": "stdout",
     "output_type": "stream",
     "text": [
      "i is 0, k is 6, a is 0.61, b is 0.01 and final cv is 0.43324865939464174\n"
     ]
    },
    {
     "name": "stderr",
     "output_type": "stream",
     "text": [
      "\r",
      " 21%|████████████████▎                                                              | 26/126 [41:29<2:40:35, 96.36s/it]"
     ]
    },
    {
     "name": "stdout",
     "output_type": "stream",
     "text": [
      "i is 0, k is 6, a is 0.61, b is 0.31 and final cv is 0.42638596149597846\n"
     ]
    },
    {
     "name": "stderr",
     "output_type": "stream",
     "text": [
      "\r",
      " 21%|████████████████▉                                                              | 27/126 [43:02<2:37:21, 95.37s/it]"
     ]
    },
    {
     "name": "stdout",
     "output_type": "stream",
     "text": [
      "i is 0, k is 6, a is 0.61, b is 0.61 and final cv is 0.2907266533466791\n"
     ]
    },
    {
     "name": "stderr",
     "output_type": "stream",
     "text": [
      "\r",
      " 22%|█████████████████▌                                                             | 28/126 [44:33<2:33:33, 94.02s/it]"
     ]
    },
    {
     "name": "stdout",
     "output_type": "stream",
     "text": [
      "i is 0, k is 6, a is 0.61, b is 0.9099999999999999 and final cv is 0.3020718624268877\n"
     ]
    },
    {
     "name": "stderr",
     "output_type": "stream",
     "text": [
      "\r",
      " 23%|██████████████████▏                                                            | 29/126 [46:20<2:38:42, 98.17s/it]"
     ]
    },
    {
     "name": "stdout",
     "output_type": "stream",
     "text": [
      "i is 0, k is 6, a is 0.9099999999999999, b is 0.01 and final cv is 0.41409883183590296\n"
     ]
    },
    {
     "name": "stderr",
     "output_type": "stream",
     "text": [
      "\r",
      " 24%|██████████████████▊                                                            | 30/126 [47:56<2:35:58, 97.48s/it]"
     ]
    },
    {
     "name": "stdout",
     "output_type": "stream",
     "text": [
      "i is 0, k is 6, a is 0.9099999999999999, b is 0.31 and final cv is 0.4861493797995127\n"
     ]
    },
    {
     "name": "stderr",
     "output_type": "stream",
     "text": [
      "\r",
      " 25%|███████████████████▍                                                           | 31/126 [49:29<2:32:10, 96.11s/it]"
     ]
    },
    {
     "name": "stdout",
     "output_type": "stream",
     "text": [
      "i is 0, k is 6, a is 0.9099999999999999, b is 0.61 and final cv is 0.4120129558764784\n"
     ]
    },
    {
     "name": "stderr",
     "output_type": "stream",
     "text": [
      "\r",
      " 25%|████████████████████                                                           | 32/126 [51:03<2:29:28, 95.41s/it]"
     ]
    },
    {
     "name": "stdout",
     "output_type": "stream",
     "text": [
      "i is 0, k is 6, a is 0.9099999999999999, b is 0.9099999999999999 and final cv is 0.38312281320420616\n"
     ]
    },
    {
     "name": "stderr",
     "output_type": "stream",
     "text": [
      "\r",
      " 26%|████████████████████▋                                                          | 33/126 [52:46<2:31:33, 97.78s/it]"
     ]
    },
    {
     "name": "stdout",
     "output_type": "stream",
     "text": [
      "i is 0, k is 9, a is 0.01, b is 0.01 and final cv is 0.3849856686509164\n"
     ]
    },
    {
     "name": "stderr",
     "output_type": "stream",
     "text": [
      "\r",
      " 27%|█████████████████████▎                                                         | 34/126 [54:29<2:32:22, 99.37s/it]"
     ]
    },
    {
     "name": "stdout",
     "output_type": "stream",
     "text": [
      "i is 0, k is 9, a is 0.01, b is 0.31 and final cv is 0.4449383511856151\n"
     ]
    },
    {
     "name": "stderr",
     "output_type": "stream",
     "text": [
      "\r",
      " 28%|█████████████████████▉                                                         | 35/126 [56:05<2:29:11, 98.37s/it]"
     ]
    },
    {
     "name": "stdout",
     "output_type": "stream",
     "text": [
      "i is 0, k is 9, a is 0.01, b is 0.61 and final cv is 0.4340651461326259\n"
     ]
    },
    {
     "name": "stderr",
     "output_type": "stream",
     "text": [
      "\r",
      " 29%|██████████████████████▌                                                        | 36/126 [57:42<2:26:34, 97.71s/it]"
     ]
    },
    {
     "name": "stdout",
     "output_type": "stream",
     "text": [
      "i is 0, k is 9, a is 0.01, b is 0.9099999999999999 and final cv is 0.42330446588774506\n"
     ]
    },
    {
     "name": "stderr",
     "output_type": "stream",
     "text": [
      "\r",
      " 29%|███████████████████████▏                                                       | 37/126 [59:25<2:27:17, 99.30s/it]"
     ]
    },
    {
     "name": "stdout",
     "output_type": "stream",
     "text": [
      "i is 0, k is 9, a is 0.31, b is 0.01 and final cv is 0.41681135718693274\n"
     ]
    },
    {
     "name": "stderr",
     "output_type": "stream",
     "text": [
      "\r",
      " 30%|███████████████████████▏                                                     | 38/126 [1:01:05<2:26:07, 99.63s/it]"
     ]
    },
    {
     "name": "stdout",
     "output_type": "stream",
     "text": [
      "i is 0, k is 9, a is 0.31, b is 0.31 and final cv is 0.5210348438282614\n"
     ]
    },
    {
     "name": "stderr",
     "output_type": "stream",
     "text": [
      "\r",
      " 31%|███████████████████████▊                                                     | 39/126 [1:02:39<2:21:51, 97.84s/it]"
     ]
    },
    {
     "name": "stdout",
     "output_type": "stream",
     "text": [
      "i is 0, k is 9, a is 0.31, b is 0.61 and final cv is 0.6105043609134588\n"
     ]
    },
    {
     "name": "stderr",
     "output_type": "stream",
     "text": [
      "\r",
      " 32%|████████████████████████▍                                                    | 40/126 [1:04:11<2:18:01, 96.30s/it]"
     ]
    },
    {
     "name": "stdout",
     "output_type": "stream",
     "text": [
      "i is 0, k is 9, a is 0.31, b is 0.9099999999999999 and final cv is 0.5324600464864792\n"
     ]
    },
    {
     "name": "stderr",
     "output_type": "stream",
     "text": [
      "\r",
      " 33%|█████████████████████████                                                    | 41/126 [1:05:54<2:18:53, 98.04s/it]"
     ]
    },
    {
     "name": "stdout",
     "output_type": "stream",
     "text": [
      "i is 0, k is 9, a is 0.61, b is 0.01 and final cv is 0.41107059312315464\n"
     ]
    },
    {
     "name": "stderr",
     "output_type": "stream",
     "text": [
      "\r",
      " 33%|█████████████████████████▋                                                   | 42/126 [1:07:29<2:16:22, 97.41s/it]"
     ]
    },
    {
     "name": "stdout",
     "output_type": "stream",
     "text": [
      "i is 0, k is 9, a is 0.61, b is 0.31 and final cv is 0.42728863095368685\n"
     ]
    },
    {
     "name": "stderr",
     "output_type": "stream",
     "text": [
      "\r",
      " 34%|██████████████████████████▎                                                  | 43/126 [1:09:01<2:12:30, 95.78s/it]"
     ]
    },
    {
     "name": "stdout",
     "output_type": "stream",
     "text": [
      "i is 0, k is 9, a is 0.61, b is 0.61 and final cv is 0.24720298110087452\n"
     ]
    },
    {
     "name": "stderr",
     "output_type": "stream",
     "text": [
      "\r",
      " 35%|██████████████████████████▉                                                  | 44/126 [1:10:35<2:09:56, 95.08s/it]"
     ]
    },
    {
     "name": "stdout",
     "output_type": "stream",
     "text": [
      "i is 0, k is 9, a is 0.61, b is 0.9099999999999999 and final cv is 0.29779974115327795\n"
     ]
    },
    {
     "name": "stderr",
     "output_type": "stream",
     "text": [
      "\r",
      " 36%|███████████████████████████▌                                                 | 45/126 [1:12:20<2:12:16, 97.98s/it]"
     ]
    },
    {
     "name": "stdout",
     "output_type": "stream",
     "text": [
      "i is 0, k is 9, a is 0.9099999999999999, b is 0.01 and final cv is 0.4238093810731966\n"
     ]
    },
    {
     "name": "stderr",
     "output_type": "stream",
     "text": [
      "\r",
      " 37%|████████████████████████████                                                 | 46/126 [1:14:01<2:12:07, 99.09s/it]"
     ]
    },
    {
     "name": "stdout",
     "output_type": "stream",
     "text": [
      "i is 0, k is 9, a is 0.9099999999999999, b is 0.31 and final cv is 0.4813948224674933\n"
     ]
    },
    {
     "name": "stderr",
     "output_type": "stream",
     "text": [
      "\r",
      " 37%|████████████████████████████▋                                                | 47/126 [1:15:42<2:11:12, 99.65s/it]"
     ]
    },
    {
     "name": "stdout",
     "output_type": "stream",
     "text": [
      "i is 0, k is 9, a is 0.9099999999999999, b is 0.61 and final cv is 0.41894341905205257\n"
     ]
    },
    {
     "name": "stderr",
     "output_type": "stream",
     "text": [
      "\r",
      " 38%|█████████████████████████████▎                                               | 48/126 [1:17:16<2:07:06, 97.78s/it]"
     ]
    },
    {
     "name": "stdout",
     "output_type": "stream",
     "text": [
      "i is 0, k is 9, a is 0.9099999999999999, b is 0.9099999999999999 and final cv is 0.37238613572847684\n"
     ]
    },
    {
     "name": "stderr",
     "output_type": "stream",
     "text": [
      "\r",
      " 39%|█████████████████████████████▌                                              | 49/126 [1:19:05<2:09:53, 101.22s/it]"
     ]
    },
    {
     "name": "stdout",
     "output_type": "stream",
     "text": [
      "i is 0, k is 12, a is 0.01, b is 0.01 and final cv is 0.3848655782123114\n"
     ]
    },
    {
     "name": "stderr",
     "output_type": "stream",
     "text": [
      "\r",
      " 40%|██████████████████████████████▏                                             | 50/126 [1:20:53<2:10:43, 103.21s/it]"
     ]
    },
    {
     "name": "stdout",
     "output_type": "stream",
     "text": [
      "i is 0, k is 12, a is 0.01, b is 0.31 and final cv is 0.43926803203161435\n"
     ]
    },
    {
     "name": "stderr",
     "output_type": "stream",
     "text": [
      "\r",
      " 40%|██████████████████████████████▊                                             | 51/126 [1:22:33<2:07:51, 102.29s/it]"
     ]
    },
    {
     "name": "stdout",
     "output_type": "stream",
     "text": [
      "i is 0, k is 12, a is 0.01, b is 0.61 and final cv is 0.419140600588007\n"
     ]
    },
    {
     "name": "stderr",
     "output_type": "stream",
     "text": [
      "\r",
      " 41%|███████████████████████████████▎                                            | 52/126 [1:24:12<2:04:53, 101.26s/it]"
     ]
    },
    {
     "name": "stdout",
     "output_type": "stream",
     "text": [
      "i is 0, k is 12, a is 0.01, b is 0.9099999999999999 and final cv is 0.4277662321126458\n"
     ]
    },
    {
     "name": "stderr",
     "output_type": "stream",
     "text": [
      "\r",
      " 42%|███████████████████████████████▉                                            | 53/126 [1:25:55<2:03:59, 101.91s/it]"
     ]
    },
    {
     "name": "stdout",
     "output_type": "stream",
     "text": [
      "i is 0, k is 12, a is 0.31, b is 0.01 and final cv is 0.414913691072357\n"
     ]
    },
    {
     "name": "stderr",
     "output_type": "stream",
     "text": [
      "\r",
      " 43%|████████████████████████████████▌                                           | 54/126 [1:27:33<2:00:51, 100.71s/it]"
     ]
    },
    {
     "name": "stdout",
     "output_type": "stream",
     "text": [
      "i is 0, k is 12, a is 0.31, b is 0.31 and final cv is 0.5416607537523503\n"
     ]
    },
    {
     "name": "stderr",
     "output_type": "stream",
     "text": [
      "\r",
      " 44%|█████████████████████████████████▌                                           | 55/126 [1:29:08<1:57:02, 98.91s/it]"
     ]
    },
    {
     "name": "stdout",
     "output_type": "stream",
     "text": [
      "i is 0, k is 12, a is 0.31, b is 0.61 and final cv is 0.6155798793258714\n"
     ]
    },
    {
     "name": "stderr",
     "output_type": "stream",
     "text": [
      "\r",
      " 44%|██████████████████████████████████▏                                          | 56/126 [1:30:42<1:53:53, 97.62s/it]"
     ]
    },
    {
     "name": "stdout",
     "output_type": "stream",
     "text": [
      "i is 0, k is 12, a is 0.31, b is 0.9099999999999999 and final cv is 0.6926102644616506\n"
     ]
    },
    {
     "name": "stderr",
     "output_type": "stream",
     "text": [
      "\r",
      " 45%|██████████████████████████████████▊                                          | 57/126 [1:32:26<1:54:17, 99.38s/it]"
     ]
    },
    {
     "name": "stdout",
     "output_type": "stream",
     "text": [
      "i is 0, k is 12, a is 0.61, b is 0.01 and final cv is 0.4174542547167866\n"
     ]
    },
    {
     "name": "stderr",
     "output_type": "stream",
     "text": [
      "\r",
      " 46%|███████████████████████████████████▍                                         | 58/126 [1:34:01<1:51:06, 98.04s/it]"
     ]
    },
    {
     "name": "stdout",
     "output_type": "stream",
     "text": [
      "i is 0, k is 12, a is 0.61, b is 0.31 and final cv is 0.4341000167467995\n"
     ]
    },
    {
     "name": "stderr",
     "output_type": "stream",
     "text": [
      "\r",
      " 47%|████████████████████████████████████                                         | 59/126 [1:35:34<1:47:46, 96.51s/it]"
     ]
    },
    {
     "name": "stdout",
     "output_type": "stream",
     "text": [
      "i is 0, k is 12, a is 0.61, b is 0.61 and final cv is 0.2410159350773721\n"
     ]
    },
    {
     "name": "stderr",
     "output_type": "stream",
     "text": [
      "\r",
      " 48%|████████████████████████████████████▋                                        | 60/126 [1:37:06<1:44:43, 95.21s/it]"
     ]
    },
    {
     "name": "stdout",
     "output_type": "stream",
     "text": [
      "i is 0, k is 12, a is 0.61, b is 0.9099999999999999 and final cv is 0.27025369528962145\n"
     ]
    },
    {
     "name": "stderr",
     "output_type": "stream",
     "text": [
      "\r",
      " 48%|█████████████████████████████████████▎                                       | 61/126 [1:38:53<1:47:03, 98.82s/it]"
     ]
    },
    {
     "name": "stdout",
     "output_type": "stream",
     "text": [
      "i is 0, k is 12, a is 0.9099999999999999, b is 0.01 and final cv is 0.4193570936609025\n"
     ]
    },
    {
     "name": "stderr",
     "output_type": "stream",
     "text": [
      "\r",
      " 49%|█████████████████████████████████████▉                                       | 62/126 [1:40:29<1:44:19, 97.81s/it]"
     ]
    },
    {
     "name": "stdout",
     "output_type": "stream",
     "text": [
      "i is 0, k is 12, a is 0.9099999999999999, b is 0.31 and final cv is 0.48202692042768613\n"
     ]
    },
    {
     "name": "stderr",
     "output_type": "stream",
     "text": [
      "\r",
      " 50%|██████████████████████████████████████▌                                      | 63/126 [1:42:03<1:41:44, 96.90s/it]"
     ]
    },
    {
     "name": "stdout",
     "output_type": "stream",
     "text": [
      "i is 0, k is 12, a is 0.9099999999999999, b is 0.61 and final cv is 0.4140201754896179\n"
     ]
    },
    {
     "name": "stderr",
     "output_type": "stream",
     "text": [
      "\r",
      " 51%|███████████████████████████████████████                                      | 64/126 [1:43:37<1:39:01, 95.84s/it]"
     ]
    },
    {
     "name": "stdout",
     "output_type": "stream",
     "text": [
      "i is 0, k is 12, a is 0.9099999999999999, b is 0.9099999999999999 and final cv is 0.38552756118110326\n"
     ]
    },
    {
     "name": "stderr",
     "output_type": "stream",
     "text": [
      "\r",
      " 52%|███████████████████████████████████████▋                                     | 65/126 [1:45:20<1:39:41, 98.06s/it]"
     ]
    },
    {
     "name": "stdout",
     "output_type": "stream",
     "text": [
      "i is 0, k is 15, a is 0.01, b is 0.01 and final cv is 0.3814176280315676\n"
     ]
    },
    {
     "name": "stderr",
     "output_type": "stream",
     "text": [
      "\r",
      " 52%|████████████████████████████████████████▎                                    | 66/126 [1:47:04<1:39:52, 99.87s/it]"
     ]
    },
    {
     "name": "stdout",
     "output_type": "stream",
     "text": [
      "i is 0, k is 15, a is 0.01, b is 0.31 and final cv is 0.4524330012422638\n"
     ]
    },
    {
     "name": "stderr",
     "output_type": "stream",
     "text": [
      "\r",
      " 53%|████████████████████████████████████████▉                                    | 67/126 [1:48:40<1:37:04, 98.72s/it]"
     ]
    },
    {
     "name": "stdout",
     "output_type": "stream",
     "text": [
      "i is 0, k is 15, a is 0.01, b is 0.61 and final cv is 0.4279095568482014\n"
     ]
    },
    {
     "name": "stderr",
     "output_type": "stream",
     "text": [
      "\r",
      " 54%|█████████████████████████████████████████▌                                   | 68/126 [1:50:17<1:34:56, 98.22s/it]"
     ]
    },
    {
     "name": "stdout",
     "output_type": "stream",
     "text": [
      "i is 0, k is 15, a is 0.01, b is 0.9099999999999999 and final cv is 0.4145831916481902\n"
     ]
    },
    {
     "name": "stderr",
     "output_type": "stream",
     "text": [
      "\r",
      " 55%|██████████████████████████████████████████▏                                  | 69/126 [1:51:59<1:34:13, 99.19s/it]"
     ]
    },
    {
     "name": "stdout",
     "output_type": "stream",
     "text": [
      "i is 0, k is 15, a is 0.31, b is 0.01 and final cv is 0.42105783027581245\n"
     ]
    },
    {
     "name": "stderr",
     "output_type": "stream",
     "text": [
      "\r",
      " 56%|██████████████████████████████████████████▊                                  | 70/126 [1:53:34<1:31:35, 98.14s/it]"
     ]
    },
    {
     "name": "stdout",
     "output_type": "stream",
     "text": [
      "i is 0, k is 15, a is 0.31, b is 0.31 and final cv is 0.5293507652138245\n"
     ]
    },
    {
     "name": "stderr",
     "output_type": "stream",
     "text": [
      "\r",
      " 56%|███████████████████████████████████████████▍                                 | 71/126 [1:55:06<1:28:05, 96.10s/it]"
     ]
    },
    {
     "name": "stdout",
     "output_type": "stream",
     "text": [
      "i is 0, k is 15, a is 0.31, b is 0.61 and final cv is 0.6110058203078086\n"
     ]
    },
    {
     "name": "stderr",
     "output_type": "stream",
     "text": [
      "\r",
      " 57%|████████████████████████████████████████████                                 | 72/126 [1:56:37<1:25:10, 94.64s/it]"
     ]
    },
    {
     "name": "stdout",
     "output_type": "stream",
     "text": [
      "i is 0, k is 15, a is 0.31, b is 0.9099999999999999 and final cv is 0.6485298407901995\n"
     ]
    },
    {
     "name": "stderr",
     "output_type": "stream",
     "text": [
      "\r",
      " 58%|████████████████████████████████████████████▌                                | 73/126 [1:58:17<1:25:02, 96.27s/it]"
     ]
    },
    {
     "name": "stdout",
     "output_type": "stream",
     "text": [
      "i is 0, k is 15, a is 0.61, b is 0.01 and final cv is 0.4190702837577503\n"
     ]
    },
    {
     "name": "stderr",
     "output_type": "stream",
     "text": [
      "\r",
      " 59%|█████████████████████████████████████████████▏                               | 74/126 [1:59:49<1:22:21, 95.04s/it]"
     ]
    },
    {
     "name": "stdout",
     "output_type": "stream",
     "text": [
      "i is 0, k is 15, a is 0.61, b is 0.31 and final cv is 0.4290261199834309\n"
     ]
    },
    {
     "name": "stderr",
     "output_type": "stream",
     "text": [
      "\r",
      " 60%|█████████████████████████████████████████████▊                               | 75/126 [2:01:20<1:19:39, 93.71s/it]"
     ]
    },
    {
     "name": "stdout",
     "output_type": "stream",
     "text": [
      "i is 0, k is 15, a is 0.61, b is 0.61 and final cv is 0.2397179996678875\n"
     ]
    },
    {
     "name": "stderr",
     "output_type": "stream",
     "text": [
      "\r",
      " 60%|██████████████████████████████████████████████▍                              | 76/126 [2:02:49<1:17:03, 92.47s/it]"
     ]
    },
    {
     "name": "stdout",
     "output_type": "stream",
     "text": [
      "i is 0, k is 15, a is 0.61, b is 0.9099999999999999 and final cv is 0.26715939021615265\n"
     ]
    },
    {
     "name": "stderr",
     "output_type": "stream",
     "text": [
      "\r",
      " 61%|███████████████████████████████████████████████                              | 77/126 [2:04:31<1:17:42, 95.16s/it]"
     ]
    },
    {
     "name": "stdout",
     "output_type": "stream",
     "text": [
      "i is 0, k is 15, a is 0.9099999999999999, b is 0.01 and final cv is 0.4172831739782996\n"
     ]
    },
    {
     "name": "stderr",
     "output_type": "stream",
     "text": [
      "\r",
      " 62%|███████████████████████████████████████████████▋                             | 78/126 [2:06:04<1:15:45, 94.70s/it]"
     ]
    },
    {
     "name": "stdout",
     "output_type": "stream",
     "text": [
      "i is 0, k is 15, a is 0.9099999999999999, b is 0.31 and final cv is 0.484389439262988\n"
     ]
    },
    {
     "name": "stderr",
     "output_type": "stream",
     "text": [
      "\r",
      " 63%|████████████████████████████████████████████████▎                            | 79/126 [2:07:36<1:13:22, 93.68s/it]"
     ]
    },
    {
     "name": "stdout",
     "output_type": "stream",
     "text": [
      "i is 0, k is 15, a is 0.9099999999999999, b is 0.61 and final cv is 0.4175839421451788\n"
     ]
    },
    {
     "name": "stderr",
     "output_type": "stream",
     "text": [
      "\r",
      " 63%|████████████████████████████████████████████████▉                            | 80/126 [2:09:07<1:11:19, 93.04s/it]"
     ]
    },
    {
     "name": "stdout",
     "output_type": "stream",
     "text": [
      "i is 0, k is 15, a is 0.9099999999999999, b is 0.9099999999999999 and final cv is 0.36912723375509593\n"
     ]
    },
    {
     "name": "stderr",
     "output_type": "stream",
     "text": [
      "\r",
      " 64%|█████████████████████████████████████████████████▌                           | 81/126 [2:10:50<1:11:58, 95.97s/it]"
     ]
    },
    {
     "name": "stdout",
     "output_type": "stream",
     "text": [
      "i is 0, k is 18, a is 0.01, b is 0.01 and final cv is 0.38067916687248854\n"
     ]
    },
    {
     "name": "stderr",
     "output_type": "stream",
     "text": [
      "\r",
      " 65%|██████████████████████████████████████████████████                           | 82/126 [2:12:34<1:12:10, 98.42s/it]"
     ]
    },
    {
     "name": "stdout",
     "output_type": "stream",
     "text": [
      "i is 0, k is 18, a is 0.01, b is 0.31 and final cv is 0.4494214351229595\n"
     ]
    },
    {
     "name": "stderr",
     "output_type": "stream",
     "text": [
      "\r",
      " 66%|██████████████████████████████████████████████████▋                          | 83/126 [2:14:12<1:10:17, 98.09s/it]"
     ]
    },
    {
     "name": "stdout",
     "output_type": "stream",
     "text": [
      "i is 0, k is 18, a is 0.01, b is 0.61 and final cv is 0.420976766759084\n"
     ]
    },
    {
     "name": "stderr",
     "output_type": "stream",
     "text": [
      "\r",
      " 67%|███████████████████████████████████████████████████▎                         | 84/126 [2:15:53<1:09:24, 99.14s/it]"
     ]
    },
    {
     "name": "stdout",
     "output_type": "stream",
     "text": [
      "i is 0, k is 18, a is 0.01, b is 0.9099999999999999 and final cv is 0.43032334132151434\n"
     ]
    },
    {
     "name": "stderr",
     "output_type": "stream",
     "text": [
      "\r",
      " 67%|███████████████████████████████████████████████████▎                        | 85/126 [2:17:38<1:08:55, 100.87s/it]"
     ]
    },
    {
     "name": "stdout",
     "output_type": "stream",
     "text": [
      "i is 0, k is 18, a is 0.31, b is 0.01 and final cv is 0.42152397518543183\n"
     ]
    },
    {
     "name": "stderr",
     "output_type": "stream",
     "text": [
      "\r",
      " 68%|████████████████████████████████████████████████████▌                        | 86/126 [2:19:14<1:06:16, 99.42s/it]"
     ]
    },
    {
     "name": "stdout",
     "output_type": "stream",
     "text": [
      "i is 0, k is 18, a is 0.31, b is 0.31 and final cv is 0.5234800493042454\n"
     ]
    },
    {
     "name": "stderr",
     "output_type": "stream",
     "text": [
      "\r",
      " 69%|█████████████████████████████████████████████████████▏                       | 87/126 [2:20:54<1:04:48, 99.71s/it]"
     ]
    },
    {
     "name": "stdout",
     "output_type": "stream",
     "text": [
      "i is 0, k is 18, a is 0.31, b is 0.61 and final cv is 0.5799604744895173\n"
     ]
    },
    {
     "name": "stderr",
     "output_type": "stream",
     "text": [
      "\r",
      " 70%|█████████████████████████████████████████████████████▊                       | 88/126 [2:22:29<1:02:10, 98.16s/it]"
     ]
    },
    {
     "name": "stdout",
     "output_type": "stream",
     "text": [
      "i is 0, k is 18, a is 0.31, b is 0.9099999999999999 and final cv is 0.6970157115035246\n"
     ]
    },
    {
     "name": "stderr",
     "output_type": "stream",
     "text": [
      "\r",
      " 71%|██████████████████████████████████████████████████████▍                      | 89/126 [2:24:13<1:01:39, 99.98s/it]"
     ]
    },
    {
     "name": "stdout",
     "output_type": "stream",
     "text": [
      "i is 0, k is 18, a is 0.61, b is 0.01 and final cv is 0.4070879760740588\n"
     ]
    },
    {
     "name": "stderr",
     "output_type": "stream",
     "text": [
      "\r",
      " 71%|████████████████████████████████████████████████████████▍                      | 90/126 [2:25:53<59:56, 99.90s/it]"
     ]
    },
    {
     "name": "stdout",
     "output_type": "stream",
     "text": [
      "i is 0, k is 18, a is 0.61, b is 0.31 and final cv is 0.4329755593157821\n"
     ]
    },
    {
     "name": "stderr",
     "output_type": "stream",
     "text": [
      "\r",
      " 72%|█████████████████████████████████████████████████████████                      | 91/126 [2:27:25<56:51, 97.48s/it]"
     ]
    },
    {
     "name": "stdout",
     "output_type": "stream",
     "text": [
      "i is 0, k is 18, a is 0.61, b is 0.61 and final cv is 0.2431743015095899\n"
     ]
    },
    {
     "name": "stderr",
     "output_type": "stream",
     "text": [
      "\r",
      " 73%|█████████████████████████████████████████████████████████▋                     | 92/126 [2:28:54<53:52, 95.07s/it]"
     ]
    },
    {
     "name": "stdout",
     "output_type": "stream",
     "text": [
      "i is 0, k is 18, a is 0.61, b is 0.9099999999999999 and final cv is 0.2664457986806179\n"
     ]
    },
    {
     "name": "stderr",
     "output_type": "stream",
     "text": [
      "\r",
      " 74%|██████████████████████████████████████████████████████████▎                    | 93/126 [2:30:35<53:18, 96.92s/it]"
     ]
    },
    {
     "name": "stdout",
     "output_type": "stream",
     "text": [
      "i is 0, k is 18, a is 0.9099999999999999, b is 0.01 and final cv is 0.4116189523049355\n"
     ]
    },
    {
     "name": "stderr",
     "output_type": "stream",
     "text": [
      "\r",
      " 75%|██████████████████████████████████████████████████████████▉                    | 94/126 [2:32:09<51:13, 96.05s/it]"
     ]
    },
    {
     "name": "stdout",
     "output_type": "stream",
     "text": [
      "i is 0, k is 18, a is 0.9099999999999999, b is 0.31 and final cv is 0.4796599608330167\n"
     ]
    },
    {
     "name": "stderr",
     "output_type": "stream",
     "text": [
      "\r",
      " 75%|███████████████████████████████████████████████████████████▌                   | 95/126 [2:33:40<48:50, 94.54s/it]"
     ]
    },
    {
     "name": "stdout",
     "output_type": "stream",
     "text": [
      "i is 0, k is 18, a is 0.9099999999999999, b is 0.61 and final cv is 0.418506548216691\n"
     ]
    },
    {
     "name": "stderr",
     "output_type": "stream",
     "text": [
      "\r",
      " 76%|████████████████████████████████████████████████████████████▏                  | 96/126 [2:35:11<46:38, 93.29s/it]"
     ]
    },
    {
     "name": "stdout",
     "output_type": "stream",
     "text": [
      "i is 0, k is 18, a is 0.9099999999999999, b is 0.9099999999999999 and final cv is 0.37971303354285524\n"
     ]
    },
    {
     "name": "stderr",
     "output_type": "stream",
     "text": [
      "\r",
      " 77%|████████████████████████████████████████████████████████████▊                  | 97/126 [2:36:52<46:17, 95.76s/it]"
     ]
    },
    {
     "name": "stdout",
     "output_type": "stream",
     "text": [
      "i is 1, k is 3, a is 0.01, b is 0.01 and final cv is 0.38943977257045753\n"
     ]
    },
    {
     "name": "stderr",
     "output_type": "stream",
     "text": [
      "\r",
      " 78%|█████████████████████████████████████████████████████████████▍                 | 98/126 [2:38:30<45:01, 96.47s/it]"
     ]
    },
    {
     "name": "stdout",
     "output_type": "stream",
     "text": [
      "i is 1, k is 3, a is 0.01, b is 0.31 and final cv is 0.44341867119778927\n"
     ]
    },
    {
     "name": "stderr",
     "output_type": "stream",
     "text": [
      "\r",
      " 79%|██████████████████████████████████████████████████████████████                 | 99/126 [2:40:07<43:23, 96.42s/it]"
     ]
    },
    {
     "name": "stdout",
     "output_type": "stream",
     "text": [
      "i is 1, k is 3, a is 0.01, b is 0.61 and final cv is 0.41500053531106446\n"
     ]
    },
    {
     "name": "stderr",
     "output_type": "stream",
     "text": [
      "\r",
      " 79%|█████████████████████████████████████████████████████████████▉                | 100/126 [2:41:43<41:46, 96.39s/it]"
     ]
    },
    {
     "name": "stdout",
     "output_type": "stream",
     "text": [
      "i is 1, k is 3, a is 0.01, b is 0.9099999999999999 and final cv is 0.42823735136520535\n"
     ]
    },
    {
     "name": "stderr",
     "output_type": "stream",
     "text": [
      "\r",
      " 80%|██████████████████████████████████████████████████████████████▌               | 101/126 [2:43:23<40:39, 97.57s/it]"
     ]
    },
    {
     "name": "stdout",
     "output_type": "stream",
     "text": [
      "i is 1, k is 3, a is 0.31, b is 0.01 and final cv is 0.4147921039276403\n"
     ]
    },
    {
     "name": "stderr",
     "output_type": "stream",
     "text": [
      "\r",
      " 81%|███████████████████████████████████████████████████████████████▏              | 102/126 [2:44:58<38:43, 96.80s/it]"
     ]
    },
    {
     "name": "stdout",
     "output_type": "stream",
     "text": [
      "i is 1, k is 3, a is 0.31, b is 0.31 and final cv is 0.4950298084364224\n"
     ]
    },
    {
     "name": "stderr",
     "output_type": "stream",
     "text": [
      "\r",
      " 82%|███████████████████████████████████████████████████████████████▊              | 103/126 [2:46:31<36:34, 95.39s/it]"
     ]
    },
    {
     "name": "stdout",
     "output_type": "stream",
     "text": [
      "i is 1, k is 3, a is 0.31, b is 0.61 and final cv is 0.6134847860305175\n"
     ]
    },
    {
     "name": "stderr",
     "output_type": "stream",
     "text": [
      "\r",
      " 83%|████████████████████████████████████████████████████████████████▍             | 104/126 [2:48:01<34:24, 93.86s/it]"
     ]
    },
    {
     "name": "stdout",
     "output_type": "stream",
     "text": [
      "i is 1, k is 3, a is 0.31, b is 0.9099999999999999 and final cv is 0.685975192485473\n"
     ]
    },
    {
     "name": "stderr",
     "output_type": "stream",
     "text": [
      "\r",
      " 83%|█████████████████████████████████████████████████████████████████             | 105/126 [2:49:41<33:30, 95.72s/it]"
     ]
    },
    {
     "name": "stdout",
     "output_type": "stream",
     "text": [
      "i is 1, k is 3, a is 0.61, b is 0.01 and final cv is 0.41463188396765005\n"
     ]
    },
    {
     "name": "stderr",
     "output_type": "stream",
     "text": [
      "\r",
      " 84%|█████████████████████████████████████████████████████████████████▌            | 106/126 [2:51:16<31:49, 95.49s/it]"
     ]
    },
    {
     "name": "stdout",
     "output_type": "stream",
     "text": [
      "i is 1, k is 3, a is 0.61, b is 0.31 and final cv is 0.42664343327105014\n"
     ]
    },
    {
     "name": "stderr",
     "output_type": "stream",
     "text": [
      "\r",
      " 85%|██████████████████████████████████████████████████████████████████▏           | 107/126 [2:52:53<30:21, 95.87s/it]"
     ]
    },
    {
     "name": "stdout",
     "output_type": "stream",
     "text": [
      "i is 1, k is 3, a is 0.61, b is 0.61 and final cv is 0.2432989924139912\n"
     ]
    },
    {
     "name": "stderr",
     "output_type": "stream",
     "text": [
      "\r",
      " 86%|██████████████████████████████████████████████████████████████████▊           | 108/126 [2:54:24<28:23, 94.62s/it]"
     ]
    },
    {
     "name": "stdout",
     "output_type": "stream",
     "text": [
      "i is 1, k is 3, a is 0.61, b is 0.9099999999999999 and final cv is 0.2699973461389365\n"
     ]
    },
    {
     "name": "stderr",
     "output_type": "stream",
     "text": [
      "\r",
      " 87%|███████████████████████████████████████████████████████████████████▍          | 109/126 [2:56:06<27:24, 96.74s/it]"
     ]
    },
    {
     "name": "stdout",
     "output_type": "stream",
     "text": [
      "i is 1, k is 3, a is 0.9099999999999999, b is 0.01 and final cv is 0.4278101822991737\n"
     ]
    },
    {
     "name": "stderr",
     "output_type": "stream",
     "text": [
      "\r",
      " 87%|████████████████████████████████████████████████████████████████████          | 110/126 [2:57:41<25:40, 96.26s/it]"
     ]
    },
    {
     "name": "stdout",
     "output_type": "stream",
     "text": [
      "i is 1, k is 3, a is 0.9099999999999999, b is 0.31 and final cv is 0.4774077478339174\n"
     ]
    },
    {
     "name": "stderr",
     "output_type": "stream",
     "text": [
      "\r",
      " 88%|████████████████████████████████████████████████████████████████████▋         | 111/126 [2:59:13<23:43, 94.90s/it]"
     ]
    },
    {
     "name": "stdout",
     "output_type": "stream",
     "text": [
      "i is 1, k is 3, a is 0.9099999999999999, b is 0.61 and final cv is 0.42083241949122735\n"
     ]
    },
    {
     "name": "stderr",
     "output_type": "stream",
     "text": [
      "\r",
      " 89%|█████████████████████████████████████████████████████████████████████▎        | 112/126 [3:00:44<21:54, 93.87s/it]"
     ]
    },
    {
     "name": "stdout",
     "output_type": "stream",
     "text": [
      "i is 1, k is 3, a is 0.9099999999999999, b is 0.9099999999999999 and final cv is 0.3845606919323589\n"
     ]
    },
    {
     "name": "stderr",
     "output_type": "stream",
     "text": [
      "\r",
      " 90%|█████████████████████████████████████████████████████████████████████▉        | 113/126 [3:02:27<20:55, 96.56s/it]"
     ]
    },
    {
     "name": "stdout",
     "output_type": "stream",
     "text": [
      "i is 1, k is 6, a is 0.01, b is 0.01 and final cv is 0.38440691864770815\n"
     ]
    },
    {
     "name": "stderr",
     "output_type": "stream",
     "text": [
      "\r",
      " 90%|██████████████████████████████████████████████████████████████████████▌       | 114/126 [3:04:05<19:24, 97.08s/it]"
     ]
    },
    {
     "name": "stdout",
     "output_type": "stream",
     "text": [
      "i is 1, k is 6, a is 0.01, b is 0.31 and final cv is 0.4414375881813523\n"
     ]
    },
    {
     "name": "stderr",
     "output_type": "stream",
     "text": [
      "\r",
      " 91%|███████████████████████████████████████████████████████████████████████▏      | 115/126 [3:05:42<17:44, 96.81s/it]"
     ]
    },
    {
     "name": "stdout",
     "output_type": "stream",
     "text": [
      "i is 1, k is 6, a is 0.01, b is 0.61 and final cv is 0.43047506884065156\n"
     ]
    },
    {
     "name": "stderr",
     "output_type": "stream",
     "text": [
      "\r",
      " 92%|███████████████████████████████████████████████████████████████████████▊      | 116/126 [3:07:18<16:06, 96.63s/it]"
     ]
    },
    {
     "name": "stdout",
     "output_type": "stream",
     "text": [
      "i is 1, k is 6, a is 0.01, b is 0.9099999999999999 and final cv is 0.4140081037201993\n"
     ]
    },
    {
     "name": "stderr",
     "output_type": "stream",
     "text": [
      "\r",
      " 93%|████████████████████████████████████████████████████████████████████████▍     | 117/126 [3:08:59<14:41, 97.92s/it]"
     ]
    },
    {
     "name": "stdout",
     "output_type": "stream",
     "text": [
      "i is 1, k is 6, a is 0.31, b is 0.01 and final cv is 0.4189438179935906\n"
     ]
    },
    {
     "name": "stderr",
     "output_type": "stream",
     "text": [
      "\r",
      " 94%|█████████████████████████████████████████████████████████████████████████     | 118/126 [3:10:36<13:00, 97.58s/it]"
     ]
    },
    {
     "name": "stdout",
     "output_type": "stream",
     "text": [
      "i is 1, k is 6, a is 0.31, b is 0.31 and final cv is 0.5279497050200496\n"
     ]
    },
    {
     "name": "stderr",
     "output_type": "stream",
     "text": [
      "\r",
      " 94%|█████████████████████████████████████████████████████████████████████████▋    | 119/126 [3:12:08<11:12, 96.09s/it]"
     ]
    },
    {
     "name": "stdout",
     "output_type": "stream",
     "text": [
      "i is 1, k is 6, a is 0.31, b is 0.61 and final cv is 0.5948475479690934\n"
     ]
    },
    {
     "name": "stderr",
     "output_type": "stream",
     "text": [
      "\r",
      " 95%|██████████████████████████████████████████████████████████████████████████▎   | 120/126 [3:13:39<09:27, 94.57s/it]"
     ]
    },
    {
     "name": "stdout",
     "output_type": "stream",
     "text": [
      "i is 1, k is 6, a is 0.31, b is 0.9099999999999999 and final cv is 0.678840762344901\n"
     ]
    },
    {
     "name": "stderr",
     "output_type": "stream",
     "text": [
      "\r",
      " 96%|██████████████████████████████████████████████████████████████████████████▉   | 121/126 [3:15:20<08:02, 96.45s/it]"
     ]
    },
    {
     "name": "stdout",
     "output_type": "stream",
     "text": [
      "i is 1, k is 6, a is 0.61, b is 0.01 and final cv is 0.4328410603507472\n"
     ]
    },
    {
     "name": "stderr",
     "output_type": "stream",
     "text": [
      "\r",
      " 97%|███████████████████████████████████████████████████████████████████████████▌  | 122/126 [3:16:53<06:21, 95.36s/it]"
     ]
    },
    {
     "name": "stdout",
     "output_type": "stream",
     "text": [
      "i is 1, k is 6, a is 0.61, b is 0.31 and final cv is 0.4288742424203636\n"
     ]
    },
    {
     "name": "stderr",
     "output_type": "stream",
     "text": [
      "\r",
      " 98%|████████████████████████████████████████████████████████████████████████████▏ | 123/126 [3:18:24<04:42, 94.20s/it]"
     ]
    },
    {
     "name": "stdout",
     "output_type": "stream",
     "text": [
      "i is 1, k is 6, a is 0.61, b is 0.61 and final cv is 0.24167095483356413\n"
     ]
    },
    {
     "name": "stderr",
     "output_type": "stream",
     "text": [
      "\r",
      " 98%|████████████████████████████████████████████████████████████████████████████▊ | 124/126 [3:19:56<03:06, 93.46s/it]"
     ]
    },
    {
     "name": "stdout",
     "output_type": "stream",
     "text": [
      "i is 1, k is 6, a is 0.61, b is 0.9099999999999999 and final cv is 0.31152017165720886\n"
     ]
    },
    {
     "name": "stderr",
     "output_type": "stream",
     "text": [
      "\r",
      " 99%|█████████████████████████████████████████████████████████████████████████████▍| 125/126 [3:21:38<01:36, 96.02s/it]"
     ]
    },
    {
     "name": "stdout",
     "output_type": "stream",
     "text": [
      "i is 1, k is 6, a is 0.9099999999999999, b is 0.01 and final cv is 0.42714357313186574\n"
     ]
    },
    {
     "name": "stderr",
     "output_type": "stream",
     "text": [
      "\r",
      "100%|██████████████████████████████████████████████████████████████████████████████| 126/126 [3:23:13<00:00, 95.60s/it]"
     ]
    },
    {
     "name": "stdout",
     "output_type": "stream",
     "text": [
      "i is 1, k is 6, a is 0.9099999999999999, b is 0.31 and final cv is 0.47622940059462776\n"
     ]
    },
    {
     "name": "stderr",
     "output_type": "stream",
     "text": [
      "\r",
      "127it [3:24:44, 94.33s/it]                                                                                             "
     ]
    },
    {
     "name": "stdout",
     "output_type": "stream",
     "text": [
      "i is 1, k is 6, a is 0.9099999999999999, b is 0.61 and final cv is 0.417981357542426\n"
     ]
    },
    {
     "name": "stderr",
     "output_type": "stream",
     "text": [
      "\r",
      "128it [3:50:23, 527.76s/it]"
     ]
    },
    {
     "name": "stdout",
     "output_type": "stream",
     "text": [
      "i is 1, k is 6, a is 0.9099999999999999, b is 0.9099999999999999 and final cv is 0.3809655941186651\n"
     ]
    },
    {
     "name": "stderr",
     "output_type": "stream",
     "text": [
      "\r",
      "129it [3:52:07, 400.49s/it]"
     ]
    },
    {
     "name": "stdout",
     "output_type": "stream",
     "text": [
      "i is 1, k is 9, a is 0.01, b is 0.01 and final cv is 0.375312935850365\n"
     ]
    },
    {
     "name": "stderr",
     "output_type": "stream",
     "text": [
      "\r",
      "130it [3:53:52, 311.99s/it]"
     ]
    },
    {
     "name": "stdout",
     "output_type": "stream",
     "text": [
      "i is 1, k is 9, a is 0.01, b is 0.31 and final cv is 0.43860211387509596\n"
     ]
    },
    {
     "name": "stderr",
     "output_type": "stream",
     "text": [
      "\r",
      "131it [3:55:37, 249.94s/it]"
     ]
    },
    {
     "name": "stdout",
     "output_type": "stream",
     "text": [
      "i is 1, k is 9, a is 0.01, b is 0.61 and final cv is 0.4120859350049133\n"
     ]
    },
    {
     "name": "stderr",
     "output_type": "stream",
     "text": [
      "\r",
      "132it [3:57:19, 205.59s/it]"
     ]
    },
    {
     "name": "stdout",
     "output_type": "stream",
     "text": [
      "i is 1, k is 9, a is 0.01, b is 0.9099999999999999 and final cv is 0.42099414997193024\n"
     ]
    },
    {
     "name": "stderr",
     "output_type": "stream",
     "text": [
      "\r",
      "133it [3:59:06, 175.77s/it]"
     ]
    },
    {
     "name": "stdout",
     "output_type": "stream",
     "text": [
      "i is 1, k is 9, a is 0.31, b is 0.01 and final cv is 0.42003690510426606\n"
     ]
    },
    {
     "name": "stderr",
     "output_type": "stream",
     "text": [
      "\r",
      "134it [4:00:50, 154.47s/it]"
     ]
    },
    {
     "name": "stdout",
     "output_type": "stream",
     "text": [
      "i is 1, k is 9, a is 0.31, b is 0.31 and final cv is 0.5336740783991056\n"
     ]
    },
    {
     "name": "stderr",
     "output_type": "stream",
     "text": [
      "\r",
      "135it [4:02:31, 138.17s/it]"
     ]
    },
    {
     "name": "stdout",
     "output_type": "stream",
     "text": [
      "i is 1, k is 9, a is 0.31, b is 0.61 and final cv is 0.6139104792483356\n"
     ]
    },
    {
     "name": "stderr",
     "output_type": "stream",
     "text": [
      "\r",
      "136it [4:04:09, 126.26s/it]"
     ]
    },
    {
     "name": "stdout",
     "output_type": "stream",
     "text": [
      "i is 1, k is 9, a is 0.31, b is 0.9099999999999999 and final cv is 0.6816037619986307\n"
     ]
    },
    {
     "name": "stderr",
     "output_type": "stream",
     "text": [
      "\r",
      "137it [4:05:56, 120.37s/it]"
     ]
    },
    {
     "name": "stdout",
     "output_type": "stream",
     "text": [
      "i is 1, k is 9, a is 0.61, b is 0.01 and final cv is 0.42564055990864136\n"
     ]
    },
    {
     "name": "stderr",
     "output_type": "stream",
     "text": [
      "\r",
      "138it [4:07:34, 113.83s/it]"
     ]
    },
    {
     "name": "stdout",
     "output_type": "stream",
     "text": [
      "i is 1, k is 9, a is 0.61, b is 0.31 and final cv is 0.4094487306651065\n"
     ]
    },
    {
     "name": "stderr",
     "output_type": "stream",
     "text": [
      "\r",
      "139it [4:09:16, 110.25s/it]"
     ]
    },
    {
     "name": "stdout",
     "output_type": "stream",
     "text": [
      "i is 1, k is 9, a is 0.61, b is 0.61 and final cv is 0.25711832600086987\n"
     ]
    },
    {
     "name": "stderr",
     "output_type": "stream",
     "text": [
      "\r",
      "140it [4:10:55, 106.98s/it]"
     ]
    },
    {
     "name": "stdout",
     "output_type": "stream",
     "text": [
      "i is 1, k is 9, a is 0.61, b is 0.9099999999999999 and final cv is 0.3005331295492658\n"
     ]
    },
    {
     "name": "stderr",
     "output_type": "stream",
     "text": [
      "\r",
      "141it [4:12:44, 107.34s/it]"
     ]
    },
    {
     "name": "stdout",
     "output_type": "stream",
     "text": [
      "i is 1, k is 9, a is 0.9099999999999999, b is 0.01 and final cv is 0.41363730735032717\n"
     ]
    },
    {
     "name": "stderr",
     "output_type": "stream",
     "text": [
      "\r",
      "142it [4:14:25, 105.57s/it]"
     ]
    },
    {
     "name": "stdout",
     "output_type": "stream",
     "text": [
      "i is 1, k is 9, a is 0.9099999999999999, b is 0.31 and final cv is 0.47917319347747783\n"
     ]
    },
    {
     "name": "stderr",
     "output_type": "stream",
     "text": [
      "\r",
      "143it [4:16:04, 103.48s/it]"
     ]
    },
    {
     "name": "stdout",
     "output_type": "stream",
     "text": [
      "i is 1, k is 9, a is 0.9099999999999999, b is 0.61 and final cv is 0.41901902114740835\n"
     ]
    },
    {
     "name": "stderr",
     "output_type": "stream",
     "text": [
      "\r",
      "144it [4:17:41, 101.72s/it]"
     ]
    },
    {
     "name": "stdout",
     "output_type": "stream",
     "text": [
      "i is 1, k is 9, a is 0.9099999999999999, b is 0.9099999999999999 and final cv is 0.3850905146088963\n"
     ]
    },
    {
     "name": "stderr",
     "output_type": "stream",
     "text": [
      "\r",
      "145it [4:19:31, 104.10s/it]"
     ]
    },
    {
     "name": "stdout",
     "output_type": "stream",
     "text": [
      "i is 1, k is 12, a is 0.01, b is 0.01 and final cv is 0.38195675853947597\n"
     ]
    },
    {
     "name": "stderr",
     "output_type": "stream",
     "text": [
      "\r",
      "146it [4:21:18, 104.98s/it]"
     ]
    },
    {
     "name": "stdout",
     "output_type": "stream",
     "text": [
      "i is 1, k is 12, a is 0.01, b is 0.31 and final cv is 0.4372370523757942\n"
     ]
    },
    {
     "name": "stderr",
     "output_type": "stream",
     "text": [
      "\r",
      "147it [4:23:02, 104.64s/it]"
     ]
    },
    {
     "name": "stdout",
     "output_type": "stream",
     "text": [
      "i is 1, k is 12, a is 0.01, b is 0.61 and final cv is 0.42455640929029914\n"
     ]
    },
    {
     "name": "stderr",
     "output_type": "stream",
     "text": [
      "\r",
      "148it [4:24:45, 104.28s/it]"
     ]
    },
    {
     "name": "stdout",
     "output_type": "stream",
     "text": [
      "i is 1, k is 12, a is 0.01, b is 0.9099999999999999 and final cv is 0.42997036062245203\n"
     ]
    },
    {
     "name": "stderr",
     "output_type": "stream",
     "text": [
      "\r",
      "149it [4:26:34, 105.56s/it]"
     ]
    },
    {
     "name": "stdout",
     "output_type": "stream",
     "text": [
      "i is 1, k is 12, a is 0.31, b is 0.01 and final cv is 0.43327139951157634\n"
     ]
    },
    {
     "name": "stderr",
     "output_type": "stream",
     "text": [
      "\r",
      "150it [4:28:16, 104.40s/it]"
     ]
    },
    {
     "name": "stdout",
     "output_type": "stream",
     "text": [
      "i is 1, k is 12, a is 0.31, b is 0.31 and final cv is 0.5266710804088617\n"
     ]
    },
    {
     "name": "stderr",
     "output_type": "stream",
     "text": [
      "\r",
      "151it [4:31:09, 124.99s/it]"
     ]
    },
    {
     "name": "stdout",
     "output_type": "stream",
     "text": [
      "i is 1, k is 12, a is 0.31, b is 0.61 and final cv is 0.5281082728329707\n"
     ]
    },
    {
     "name": "stderr",
     "output_type": "stream",
     "text": [
      "\r",
      "152it [4:34:02, 139.60s/it]"
     ]
    },
    {
     "name": "stdout",
     "output_type": "stream",
     "text": [
      "i is 1, k is 12, a is 0.31, b is 0.9099999999999999 and final cv is 0.6527262078275798\n"
     ]
    },
    {
     "name": "stderr",
     "output_type": "stream",
     "text": [
      "\r",
      "153it [4:37:23, 158.06s/it]"
     ]
    },
    {
     "name": "stdout",
     "output_type": "stream",
     "text": [
      "i is 1, k is 12, a is 0.61, b is 0.01 and final cv is 0.4340818680017015\n"
     ]
    },
    {
     "name": "stderr",
     "output_type": "stream",
     "text": [
      "\r",
      "154it [4:40:31, 167.01s/it]"
     ]
    },
    {
     "name": "stdout",
     "output_type": "stream",
     "text": [
      "i is 1, k is 12, a is 0.61, b is 0.31 and final cv is 0.4196288389079814\n"
     ]
    },
    {
     "name": "stderr",
     "output_type": "stream",
     "text": [
      "\r",
      "155it [4:43:27, 169.49s/it]"
     ]
    },
    {
     "name": "stdout",
     "output_type": "stream",
     "text": [
      "i is 1, k is 12, a is 0.61, b is 0.61 and final cv is 0.24565778727867243\n"
     ]
    },
    {
     "name": "stderr",
     "output_type": "stream",
     "text": [
      "\r",
      "156it [4:46:21, 170.89s/it]"
     ]
    },
    {
     "name": "stdout",
     "output_type": "stream",
     "text": [
      "i is 1, k is 12, a is 0.61, b is 0.9099999999999999 and final cv is 0.26644579868061785\n"
     ]
    },
    {
     "name": "stderr",
     "output_type": "stream",
     "text": [
      "\r",
      "157it [4:49:41, 179.71s/it]"
     ]
    },
    {
     "name": "stdout",
     "output_type": "stream",
     "text": [
      "i is 1, k is 12, a is 0.9099999999999999, b is 0.01 and final cv is 0.4230339538439726\n"
     ]
    },
    {
     "name": "stderr",
     "output_type": "stream",
     "text": [
      "\r",
      "158it [4:52:44, 180.82s/it]"
     ]
    },
    {
     "name": "stdout",
     "output_type": "stream",
     "text": [
      "i is 1, k is 12, a is 0.9099999999999999, b is 0.31 and final cv is 0.481485757390164\n"
     ]
    },
    {
     "name": "stderr",
     "output_type": "stream",
     "text": [
      "\r",
      "159it [4:55:40, 179.37s/it]"
     ]
    },
    {
     "name": "stdout",
     "output_type": "stream",
     "text": [
      "i is 1, k is 12, a is 0.9099999999999999, b is 0.61 and final cv is 0.44852812175328294\n"
     ]
    },
    {
     "name": "stderr",
     "output_type": "stream",
     "text": [
      "\r",
      "160it [4:58:34, 177.66s/it]"
     ]
    },
    {
     "name": "stdout",
     "output_type": "stream",
     "text": [
      "i is 1, k is 12, a is 0.9099999999999999, b is 0.9099999999999999 and final cv is 0.4760037235631593\n"
     ]
    },
    {
     "name": "stderr",
     "output_type": "stream",
     "text": [
      "\r",
      "161it [5:02:02, 186.76s/it]"
     ]
    },
    {
     "name": "stdout",
     "output_type": "stream",
     "text": [
      "i is 1, k is 15, a is 0.01, b is 0.01 and final cv is 0.3846933454180325\n"
     ]
    },
    {
     "name": "stderr",
     "output_type": "stream",
     "text": [
      "\r",
      "162it [5:05:17, 189.35s/it]"
     ]
    },
    {
     "name": "stdout",
     "output_type": "stream",
     "text": [
      "i is 1, k is 15, a is 0.01, b is 0.31 and final cv is 0.43152985597173704\n"
     ]
    },
    {
     "name": "stderr",
     "output_type": "stream",
     "text": [
      "\r",
      "163it [5:08:27, 189.50s/it]"
     ]
    },
    {
     "name": "stdout",
     "output_type": "stream",
     "text": [
      "i is 1, k is 15, a is 0.01, b is 0.61 and final cv is 0.3992852288180545\n"
     ]
    },
    {
     "name": "stderr",
     "output_type": "stream",
     "text": [
      "\r",
      "164it [5:11:37, 189.56s/it]"
     ]
    },
    {
     "name": "stdout",
     "output_type": "stream",
     "text": [
      "i is 1, k is 15, a is 0.01, b is 0.9099999999999999 and final cv is 0.4068505801457858\n"
     ]
    },
    {
     "name": "stderr",
     "output_type": "stream",
     "text": [
      "\r",
      "165it [5:15:02, 194.13s/it]"
     ]
    },
    {
     "name": "stdout",
     "output_type": "stream",
     "text": [
      "i is 1, k is 15, a is 0.31, b is 0.01 and final cv is 0.4175211014302391\n"
     ]
    },
    {
     "name": "stderr",
     "output_type": "stream",
     "text": [
      "\r",
      "166it [5:18:10, 192.29s/it]"
     ]
    },
    {
     "name": "stdout",
     "output_type": "stream",
     "text": [
      "i is 1, k is 15, a is 0.31, b is 0.31 and final cv is 0.5255246806803391\n"
     ]
    },
    {
     "name": "stderr",
     "output_type": "stream",
     "text": [
      "\r",
      "167it [5:21:04, 186.94s/it]"
     ]
    },
    {
     "name": "stdout",
     "output_type": "stream",
     "text": [
      "i is 1, k is 15, a is 0.31, b is 0.61 and final cv is 0.6102520058889652\n"
     ]
    },
    {
     "name": "stderr",
     "output_type": "stream",
     "text": [
      "\r",
      "168it [5:23:58, 182.86s/it]"
     ]
    },
    {
     "name": "stdout",
     "output_type": "stream",
     "text": [
      "i is 1, k is 15, a is 0.31, b is 0.9099999999999999 and final cv is 0.6519089398295763\n"
     ]
    },
    {
     "name": "stderr",
     "output_type": "stream",
     "text": [
      "\r",
      "169it [5:27:20, 188.75s/it]"
     ]
    },
    {
     "name": "stdout",
     "output_type": "stream",
     "text": [
      "i is 1, k is 15, a is 0.61, b is 0.01 and final cv is 0.4053179078217494\n"
     ]
    },
    {
     "name": "stderr",
     "output_type": "stream",
     "text": [
      "\r",
      "170it [5:30:26, 187.93s/it]"
     ]
    },
    {
     "name": "stdout",
     "output_type": "stream",
     "text": [
      "i is 1, k is 15, a is 0.61, b is 0.31 and final cv is 0.4178413950435354\n"
     ]
    },
    {
     "name": "stderr",
     "output_type": "stream",
     "text": [
      "\r",
      "171it [5:33:22, 184.39s/it]"
     ]
    },
    {
     "name": "stdout",
     "output_type": "stream",
     "text": [
      "i is 1, k is 15, a is 0.61, b is 0.61 and final cv is 0.2422135931911789\n"
     ]
    },
    {
     "name": "stderr",
     "output_type": "stream",
     "text": [
      "\r",
      "172it [5:36:16, 181.20s/it]"
     ]
    },
    {
     "name": "stdout",
     "output_type": "stream",
     "text": [
      "i is 1, k is 15, a is 0.61, b is 0.9099999999999999 and final cv is 0.2797183747594749\n"
     ]
    },
    {
     "name": "stderr",
     "output_type": "stream",
     "text": [
      "\r",
      "173it [5:39:35, 186.58s/it]"
     ]
    },
    {
     "name": "stdout",
     "output_type": "stream",
     "text": [
      "i is 1, k is 15, a is 0.9099999999999999, b is 0.01 and final cv is 0.42010573108856597\n"
     ]
    },
    {
     "name": "stderr",
     "output_type": "stream",
     "text": [
      "\r",
      "174it [5:42:39, 185.76s/it]"
     ]
    },
    {
     "name": "stdout",
     "output_type": "stream",
     "text": [
      "i is 1, k is 15, a is 0.9099999999999999, b is 0.31 and final cv is 0.480266450120485\n"
     ]
    },
    {
     "name": "stderr",
     "output_type": "stream",
     "text": [
      "\r",
      "175it [5:45:35, 182.74s/it]"
     ]
    },
    {
     "name": "stdout",
     "output_type": "stream",
     "text": [
      "i is 1, k is 15, a is 0.9099999999999999, b is 0.61 and final cv is 0.4617982774025531\n"
     ]
    },
    {
     "name": "stderr",
     "output_type": "stream",
     "text": [
      "\r",
      "176it [5:48:31, 180.67s/it]"
     ]
    },
    {
     "name": "stdout",
     "output_type": "stream",
     "text": [
      "i is 1, k is 15, a is 0.9099999999999999, b is 0.9099999999999999 and final cv is 0.457894646149277\n"
     ]
    },
    {
     "name": "stderr",
     "output_type": "stream",
     "text": [
      "\r",
      "177it [5:51:54, 187.44s/it]"
     ]
    },
    {
     "name": "stdout",
     "output_type": "stream",
     "text": [
      "i is 1, k is 18, a is 0.01, b is 0.01 and final cv is 0.37831492393289656\n"
     ]
    },
    {
     "name": "stderr",
     "output_type": "stream",
     "text": [
      "\r",
      "178it [5:55:04, 188.40s/it]"
     ]
    },
    {
     "name": "stdout",
     "output_type": "stream",
     "text": [
      "i is 1, k is 18, a is 0.01, b is 0.31 and final cv is 0.43759500891279307\n"
     ]
    },
    {
     "name": "stderr",
     "output_type": "stream",
     "text": [
      "\r",
      "179it [5:58:12, 188.31s/it]"
     ]
    },
    {
     "name": "stdout",
     "output_type": "stream",
     "text": [
      "i is 1, k is 18, a is 0.01, b is 0.61 and final cv is 0.4149764552589741\n"
     ]
    },
    {
     "name": "stderr",
     "output_type": "stream",
     "text": [
      "\r",
      "180it [6:01:17, 187.17s/it]"
     ]
    },
    {
     "name": "stdout",
     "output_type": "stream",
     "text": [
      "i is 1, k is 18, a is 0.01, b is 0.9099999999999999 and final cv is 0.41785086834162194\n"
     ]
    },
    {
     "name": "stderr",
     "output_type": "stream",
     "text": [
      "\r",
      "181it [6:04:43, 192.74s/it]"
     ]
    },
    {
     "name": "stdout",
     "output_type": "stream",
     "text": [
      "i is 1, k is 18, a is 0.31, b is 0.01 and final cv is 0.4206994566674523\n"
     ]
    },
    {
     "name": "stderr",
     "output_type": "stream",
     "text": [
      "\r",
      "182it [6:07:50, 191.07s/it]"
     ]
    },
    {
     "name": "stdout",
     "output_type": "stream",
     "text": [
      "i is 1, k is 18, a is 0.31, b is 0.31 and final cv is 0.5143582048165386\n"
     ]
    },
    {
     "name": "stderr",
     "output_type": "stream",
     "text": [
      "\r",
      "183it [6:10:47, 186.77s/it]"
     ]
    },
    {
     "name": "stdout",
     "output_type": "stream",
     "text": [
      "i is 1, k is 18, a is 0.31, b is 0.61 and final cv is 0.5955462159892985\n"
     ]
    },
    {
     "name": "stderr",
     "output_type": "stream",
     "text": [
      "\r",
      "184it [6:13:37, 181.76s/it]"
     ]
    },
    {
     "name": "stdout",
     "output_type": "stream",
     "text": [
      "i is 1, k is 18, a is 0.31, b is 0.9099999999999999 and final cv is 0.6490604215488949\n"
     ]
    },
    {
     "name": "stderr",
     "output_type": "stream",
     "text": [
      "\r",
      "185it [6:16:58, 187.76s/it]"
     ]
    },
    {
     "name": "stdout",
     "output_type": "stream",
     "text": [
      "i is 1, k is 18, a is 0.61, b is 0.01 and final cv is 0.40541428003405094\n"
     ]
    },
    {
     "name": "stderr",
     "output_type": "stream",
     "text": [
      "\r",
      "186it [6:19:58, 185.38s/it]"
     ]
    },
    {
     "name": "stdout",
     "output_type": "stream",
     "text": [
      "i is 1, k is 18, a is 0.61, b is 0.31 and final cv is 0.4215553519441639\n"
     ]
    },
    {
     "name": "stderr",
     "output_type": "stream",
     "text": [
      "\r",
      "187it [6:22:50, 181.15s/it]"
     ]
    },
    {
     "name": "stdout",
     "output_type": "stream",
     "text": [
      "i is 1, k is 18, a is 0.61, b is 0.61 and final cv is 0.24334725017709583\n"
     ]
    },
    {
     "name": "stderr",
     "output_type": "stream",
     "text": [
      "\r",
      "188it [6:24:29, 156.74s/it]"
     ]
    },
    {
     "name": "stdout",
     "output_type": "stream",
     "text": [
      "i is 1, k is 18, a is 0.61, b is 0.9099999999999999 and final cv is 0.26644579868061785\n"
     ]
    },
    {
     "name": "stderr",
     "output_type": "stream",
     "text": [
      "\r",
      "189it [6:26:18, 142.20s/it]"
     ]
    },
    {
     "name": "stdout",
     "output_type": "stream",
     "text": [
      "i is 1, k is 18, a is 0.9099999999999999, b is 0.01 and final cv is 0.42653550166716786\n"
     ]
    },
    {
     "name": "stderr",
     "output_type": "stream",
     "text": [
      "\r",
      "190it [6:27:59, 129.91s/it]"
     ]
    },
    {
     "name": "stdout",
     "output_type": "stream",
     "text": [
      "i is 1, k is 18, a is 0.9099999999999999, b is 0.31 and final cv is 0.4798533982144269\n"
     ]
    },
    {
     "name": "stderr",
     "output_type": "stream",
     "text": [
      "\r",
      "191it [6:29:37, 120.30s/it]"
     ]
    },
    {
     "name": "stdout",
     "output_type": "stream",
     "text": [
      "i is 1, k is 18, a is 0.9099999999999999, b is 0.61 and final cv is 0.4186159837157392\n"
     ]
    },
    {
     "name": "stderr",
     "output_type": "stream",
     "text": [
      "192it [6:31:14, 122.27s/it]"
     ]
    },
    {
     "name": "stdout",
     "output_type": "stream",
     "text": [
      "i is 1, k is 18, a is 0.9099999999999999, b is 0.9099999999999999 and final cv is 0.39262346921900415\n"
     ]
    },
    {
     "name": "stderr",
     "output_type": "stream",
     "text": [
      "\n"
     ]
    }
   ],
   "source": [
    "corpus_title = ['75% Corpus', '100% Corpus']\n",
    "model_results = {'Validation_Set': [],\n",
    "                 'Topics': [],\n",
    "                 'Alpha': [],\n",
    "                 'Beta': [],\n",
    "                 'Coherence': []\n",
    "                }\n",
    "# Can take a long time to run\n",
    "if 1 == 1:\n",
    "    pbar = tqdm.tqdm(total=126)\n",
    "    \n",
    "    # iterate through validation corpuses\n",
    "    for i in range(len(corpus_sets)):\n",
    "        # iterate through number of topics\n",
    "        for k in topics_range:\n",
    "            # iterate through alpha values\n",
    "            for a in alpha:\n",
    "                # iterare through beta values\n",
    "                for b in beta:\n",
    "                    # get the coherence score for the given parameters\n",
    "                    cv =0\n",
    "                    #print( \"i is {}, k is {}, a is {}, b is {}\".format(i,k,a,b) )\n",
    "                    cv = compute_coherence_values(corpus_sets[i],article_lema, dictionary, \n",
    "                                        k, a, b)\n",
    "                    print( \"i is {}, k is {}, a is {}, b is {} and final cv is {}\".format(i,k,a,b,cv) )\n",
    "                    # Save the model results\n",
    "                    model_results['Validation_Set'].append(corpus_title[i])\n",
    "                    model_results['Topics'].append(k)\n",
    "                    model_results['Alpha'].append(a)\n",
    "                    model_results['Beta'].append(b)\n",
    "                    model_results['Coherence'].append(cv)\n",
    "                    \n",
    "                    pbar.update(1)\n",
    "    pd.DataFrame(model_results).to_csv('lda_tuning_results.csv', index=False)\n",
    "    pbar.close()"
   ]
  },
  {
   "cell_type": "code",
   "execution_count": 25,
   "metadata": {},
   "outputs": [],
   "source": [
    "tuneResults = pd.read_csv('lda_tuning_results.csv')"
   ]
  },
  {
   "cell_type": "code",
   "execution_count": 26,
   "metadata": {},
   "outputs": [
    {
     "data": {
      "text/html": [
       "<div>\n",
       "<style scoped>\n",
       "    .dataframe tbody tr th:only-of-type {\n",
       "        vertical-align: middle;\n",
       "    }\n",
       "\n",
       "    .dataframe tbody tr th {\n",
       "        vertical-align: top;\n",
       "    }\n",
       "\n",
       "    .dataframe thead th {\n",
       "        text-align: right;\n",
       "    }\n",
       "</style>\n",
       "<table border=\"1\" class=\"dataframe\">\n",
       "  <thead>\n",
       "    <tr style=\"text-align: right;\">\n",
       "      <th></th>\n",
       "      <th>Validation_Set</th>\n",
       "      <th>Topics</th>\n",
       "      <th>Alpha</th>\n",
       "      <th>Beta</th>\n",
       "      <th>Coherence</th>\n",
       "    </tr>\n",
       "  </thead>\n",
       "  <tbody>\n",
       "    <tr>\n",
       "      <th>87</th>\n",
       "      <td>75% Corpus</td>\n",
       "      <td>18</td>\n",
       "      <td>0.31</td>\n",
       "      <td>0.91</td>\n",
       "      <td>0.697016</td>\n",
       "    </tr>\n",
       "  </tbody>\n",
       "</table>\n",
       "</div>"
      ],
      "text/plain": [
       "   Validation_Set  Topics  Alpha  Beta  Coherence\n",
       "87     75% Corpus      18   0.31  0.91   0.697016"
      ]
     },
     "execution_count": 26,
     "metadata": {},
     "output_type": "execute_result"
    }
   ],
   "source": [
    "tuneResults[tuneResults.Coherence == tuneResults.Coherence.values.ravel().max()]"
   ]
  },
  {
   "cell_type": "code",
   "execution_count": 27,
   "metadata": {},
   "outputs": [
    {
     "data": {
      "text/html": [
       "<div>\n",
       "<style scoped>\n",
       "    .dataframe tbody tr th:only-of-type {\n",
       "        vertical-align: middle;\n",
       "    }\n",
       "\n",
       "    .dataframe tbody tr th {\n",
       "        vertical-align: top;\n",
       "    }\n",
       "\n",
       "    .dataframe thead th {\n",
       "        text-align: right;\n",
       "    }\n",
       "</style>\n",
       "<table border=\"1\" class=\"dataframe\">\n",
       "  <thead>\n",
       "    <tr style=\"text-align: right;\">\n",
       "      <th></th>\n",
       "      <th>Validation_Set</th>\n",
       "      <th>Topics</th>\n",
       "      <th>Alpha</th>\n",
       "      <th>Beta</th>\n",
       "      <th>Coherence</th>\n",
       "    </tr>\n",
       "  </thead>\n",
       "  <tbody>\n",
       "    <tr>\n",
       "      <th>6</th>\n",
       "      <td>75% Corpus</td>\n",
       "      <td>3</td>\n",
       "      <td>0.31</td>\n",
       "      <td>0.61</td>\n",
       "      <td>0.588532</td>\n",
       "    </tr>\n",
       "    <tr>\n",
       "      <th>7</th>\n",
       "      <td>75% Corpus</td>\n",
       "      <td>3</td>\n",
       "      <td>0.31</td>\n",
       "      <td>0.91</td>\n",
       "      <td>0.669951</td>\n",
       "    </tr>\n",
       "    <tr>\n",
       "      <th>22</th>\n",
       "      <td>75% Corpus</td>\n",
       "      <td>6</td>\n",
       "      <td>0.31</td>\n",
       "      <td>0.61</td>\n",
       "      <td>0.613788</td>\n",
       "    </tr>\n",
       "    <tr>\n",
       "      <th>23</th>\n",
       "      <td>75% Corpus</td>\n",
       "      <td>6</td>\n",
       "      <td>0.31</td>\n",
       "      <td>0.91</td>\n",
       "      <td>0.670873</td>\n",
       "    </tr>\n",
       "    <tr>\n",
       "      <th>38</th>\n",
       "      <td>75% Corpus</td>\n",
       "      <td>9</td>\n",
       "      <td>0.31</td>\n",
       "      <td>0.61</td>\n",
       "      <td>0.610504</td>\n",
       "    </tr>\n",
       "    <tr>\n",
       "      <th>54</th>\n",
       "      <td>75% Corpus</td>\n",
       "      <td>12</td>\n",
       "      <td>0.31</td>\n",
       "      <td>0.61</td>\n",
       "      <td>0.615580</td>\n",
       "    </tr>\n",
       "    <tr>\n",
       "      <th>55</th>\n",
       "      <td>75% Corpus</td>\n",
       "      <td>12</td>\n",
       "      <td>0.31</td>\n",
       "      <td>0.91</td>\n",
       "      <td>0.692610</td>\n",
       "    </tr>\n",
       "    <tr>\n",
       "      <th>70</th>\n",
       "      <td>75% Corpus</td>\n",
       "      <td>15</td>\n",
       "      <td>0.31</td>\n",
       "      <td>0.61</td>\n",
       "      <td>0.611006</td>\n",
       "    </tr>\n",
       "    <tr>\n",
       "      <th>71</th>\n",
       "      <td>75% Corpus</td>\n",
       "      <td>15</td>\n",
       "      <td>0.31</td>\n",
       "      <td>0.91</td>\n",
       "      <td>0.648530</td>\n",
       "    </tr>\n",
       "    <tr>\n",
       "      <th>87</th>\n",
       "      <td>75% Corpus</td>\n",
       "      <td>18</td>\n",
       "      <td>0.31</td>\n",
       "      <td>0.91</td>\n",
       "      <td>0.697016</td>\n",
       "    </tr>\n",
       "    <tr>\n",
       "      <th>102</th>\n",
       "      <td>100% Corpus</td>\n",
       "      <td>3</td>\n",
       "      <td>0.31</td>\n",
       "      <td>0.61</td>\n",
       "      <td>0.613485</td>\n",
       "    </tr>\n",
       "    <tr>\n",
       "      <th>103</th>\n",
       "      <td>100% Corpus</td>\n",
       "      <td>3</td>\n",
       "      <td>0.31</td>\n",
       "      <td>0.91</td>\n",
       "      <td>0.685975</td>\n",
       "    </tr>\n",
       "    <tr>\n",
       "      <th>118</th>\n",
       "      <td>100% Corpus</td>\n",
       "      <td>6</td>\n",
       "      <td>0.31</td>\n",
       "      <td>0.61</td>\n",
       "      <td>0.594848</td>\n",
       "    </tr>\n",
       "    <tr>\n",
       "      <th>119</th>\n",
       "      <td>100% Corpus</td>\n",
       "      <td>6</td>\n",
       "      <td>0.31</td>\n",
       "      <td>0.91</td>\n",
       "      <td>0.678841</td>\n",
       "    </tr>\n",
       "    <tr>\n",
       "      <th>134</th>\n",
       "      <td>100% Corpus</td>\n",
       "      <td>9</td>\n",
       "      <td>0.31</td>\n",
       "      <td>0.61</td>\n",
       "      <td>0.613910</td>\n",
       "    </tr>\n",
       "    <tr>\n",
       "      <th>135</th>\n",
       "      <td>100% Corpus</td>\n",
       "      <td>9</td>\n",
       "      <td>0.31</td>\n",
       "      <td>0.91</td>\n",
       "      <td>0.681604</td>\n",
       "    </tr>\n",
       "    <tr>\n",
       "      <th>151</th>\n",
       "      <td>100% Corpus</td>\n",
       "      <td>12</td>\n",
       "      <td>0.31</td>\n",
       "      <td>0.91</td>\n",
       "      <td>0.652726</td>\n",
       "    </tr>\n",
       "    <tr>\n",
       "      <th>166</th>\n",
       "      <td>100% Corpus</td>\n",
       "      <td>15</td>\n",
       "      <td>0.31</td>\n",
       "      <td>0.61</td>\n",
       "      <td>0.610252</td>\n",
       "    </tr>\n",
       "    <tr>\n",
       "      <th>167</th>\n",
       "      <td>100% Corpus</td>\n",
       "      <td>15</td>\n",
       "      <td>0.31</td>\n",
       "      <td>0.91</td>\n",
       "      <td>0.651909</td>\n",
       "    </tr>\n",
       "    <tr>\n",
       "      <th>182</th>\n",
       "      <td>100% Corpus</td>\n",
       "      <td>18</td>\n",
       "      <td>0.31</td>\n",
       "      <td>0.61</td>\n",
       "      <td>0.595546</td>\n",
       "    </tr>\n",
       "    <tr>\n",
       "      <th>183</th>\n",
       "      <td>100% Corpus</td>\n",
       "      <td>18</td>\n",
       "      <td>0.31</td>\n",
       "      <td>0.91</td>\n",
       "      <td>0.649060</td>\n",
       "    </tr>\n",
       "  </tbody>\n",
       "</table>\n",
       "</div>"
      ],
      "text/plain": [
       "    Validation_Set  Topics  Alpha  Beta  Coherence\n",
       "6       75% Corpus       3   0.31  0.61   0.588532\n",
       "7       75% Corpus       3   0.31  0.91   0.669951\n",
       "22      75% Corpus       6   0.31  0.61   0.613788\n",
       "23      75% Corpus       6   0.31  0.91   0.670873\n",
       "38      75% Corpus       9   0.31  0.61   0.610504\n",
       "54      75% Corpus      12   0.31  0.61   0.615580\n",
       "55      75% Corpus      12   0.31  0.91   0.692610\n",
       "70      75% Corpus      15   0.31  0.61   0.611006\n",
       "71      75% Corpus      15   0.31  0.91   0.648530\n",
       "87      75% Corpus      18   0.31  0.91   0.697016\n",
       "102    100% Corpus       3   0.31  0.61   0.613485\n",
       "103    100% Corpus       3   0.31  0.91   0.685975\n",
       "118    100% Corpus       6   0.31  0.61   0.594848\n",
       "119    100% Corpus       6   0.31  0.91   0.678841\n",
       "134    100% Corpus       9   0.31  0.61   0.613910\n",
       "135    100% Corpus       9   0.31  0.91   0.681604\n",
       "151    100% Corpus      12   0.31  0.91   0.652726\n",
       "166    100% Corpus      15   0.31  0.61   0.610252\n",
       "167    100% Corpus      15   0.31  0.91   0.651909\n",
       "182    100% Corpus      18   0.31  0.61   0.595546\n",
       "183    100% Corpus      18   0.31  0.91   0.649060"
      ]
     },
     "execution_count": 27,
     "metadata": {},
     "output_type": "execute_result"
    }
   ],
   "source": [
    "tuneResults[tuneResults.Coherence > 0.58]"
   ]
  },
  {
   "cell_type": "markdown",
   "metadata": {},
   "source": [
    "## Create a table with the topic name and the top 10 terms in each to present to the business."
   ]
  },
  {
   "cell_type": "code",
   "execution_count": 24,
   "metadata": {},
   "outputs": [
    {
     "data": {
      "text/html": [
       "\n",
       "<link rel=\"stylesheet\" type=\"text/css\" href=\"https://cdn.rawgit.com/bmabey/pyLDAvis/files/ldavis.v1.0.0.css\">\n",
       "\n",
       "\n",
       "<div id=\"ldavis_el1072014212841450961024472792\"></div>\n",
       "<script type=\"text/javascript\">\n",
       "\n",
       "var ldavis_el1072014212841450961024472792_data = {\"mdsDat\": {\"x\": [0.20494696115041922, 0.09450142438891686, 0.17104439791204998, 0.13402677912288835, 0.15145902664984973, -0.12968773764878536, -0.15265954105491397, 0.13360844912253184, -0.08082368422835327, -0.17187482018538633, -0.22649887637718832, -0.12804237885202863], \"y\": [0.008394541963444788, -0.048337242504329477, -0.22904063611255787, 0.19980826045152358, 0.07346550908368833, 0.20528115745115827, 0.008603632296103995, 0.04706522837247287, -0.22479501867436025, 0.01341000982508663, -0.030519202529962403, -0.023336239622268287], \"topics\": [1, 2, 3, 4, 5, 6, 7, 8, 9, 10, 11, 12], \"cluster\": [1, 1, 1, 1, 1, 1, 1, 1, 1, 1, 1, 1], \"Freq\": [17.82196044921875, 16.159427642822266, 9.677594184875488, 9.650044441223145, 8.85058879852295, 7.572256088256836, 6.729894638061523, 5.864194869995117, 5.389410495758057, 4.709984302520752, 4.032820224761963, 3.5418193340301514]}, \"tinfo\": {\"Term\": [\"phone\", \"product\", \"battery\", \"camera\", \"quality\", \"note\", \"mobile\", \"problem\", \"performance\", \"money\", \"k8\", \"network\", \"price\", \"charger\", \"lenovo\", \"backup\", \"heating\", \"service\", \"issue\", \"feature\", \"waste\", \"delivery\", \"sim\", \"hai\", \"turbo\", \"day\", \"call\", \"glass\", \"hour\", \"sound\", \"mode\", \"depth\", \"front\", \"stock\", \"rear\", \"fingerprint\", \"pro\", \"focus\", \"bokeh\", \"hd\", \"capture\", \"setup\", \"flash\", \"saver\", \"rom\", \"bit\", \"second\", \"g5s\", \"background\", \"atom\", \"selfie\", \"split\", \"playing\", \"want\", \"duel\", \"metal\", \"thats\", \"joke\", \"variant\", \"msg\", \"android\", \"improvement\", \"bug\", \"con\", \"light\", \"sensor\", \"color\", \"effect\", \"management\", \"game\", \"memory\", \"gaming\", \"lag\", \"camera\", \"ram\", \"moto\", \"processor\", \"smartphone\", \"thing\", \"card\", \"photo\", \"battery\", \"usage\", \"phone\", \"feature\", \"performance\", \"use\", \"day\", \"music\", \"device\", \"display\", \"issue\", \"price\", \"work\", \"quality\", \"contact\", \"switch\", \"cast\", \"care\", \"keep\", \"repair\", \"bottom\", \"comment\", \"temperature\", \"wait\", \"center\", \"alarm\", \"e\", \"tv\", \"number\", \"bluetooth\", \"reset\", \"help\", \"percent\", \"account\", \"forum\", \"taking\", \"caller\", \"theme\", \"board\", \"whatsapp\", \"becomes\", \"someone\", \"recording\", \"transfer\", \"morning\", \"oreo\", \"customer\", \"connectivity\", \"person\", \"call\", \"hardware\", \"option\", \"data\", \"minute\", \"message\", \"day\", \"apps\", \"app\", \"wifi\", \"service\", \"software\", \"solution\", \"time\", \"issue\", \"month\", \"screen\", \"phone\", \"update\", \"problem\", \"purchase\", \"charge\", \"hour\", \"lenovo\", \"speaker\", \"amazon\", \"work\", \"device\", \"please\", \"heating\", \"excellent\", \"hanging\", \"wow\", \"backup\", \"timing\", \"quick\", \"hr\", \"slip\", \"goood\", \"decrease\", \"handy\", \"reputation\", \"round\", \"drain\", \"stand\", \"boast\", \"spr\", \"broken\", \"problembattery\", \"plug\", \"wireless\", \"tym\", \"battery\", \"pin\", \"phoneit\", \"cheap\", \"capacity\", \"mike\", \"winter\", \"life\", \"discharge\", \"mah\", \"problem\", \"hour\", \"charge\", \"take\", \"solve\", \"battry\", \"performance\", \"issue\", \"heat\", \"hotspot\", \"look\", \"n\", \"time\", \"day\", \"good\", \"camera\", \"use\", \"mark\", \"everything\", \"hang\", \"phone\", \"work\", \"power\", \"ok\", \"thing\", \"buy\", \"mistake\", \"category\", \"complain\", \"mirror\", \"usb\", \"go\", \"Rs\", \"flipkart\", \"isme\", \"procedure\", \"material\", \"smart\", \"phonecamera\", \"upgrade\", \"buget\", \"chance\", \"rotation\", \"vasool\", \"defective\", \"investment\", \"ease\", \"opt\", \"duration\", \"naugat\", \"sure\", \"cause\", \"language\", \"spending\", \"spec\", \"dear\", \"price\", \"budget\", \"future\", \"ok\", \"specification\", \"range\", \"suggest\", \"phone\", \"configuration\", \"feature\", \"segment\", \"provide\", \"deal\", \"im\", \"smartphones\", \"buy\", \"processor\", \"core\", \"market\", \"brand\", \"use\", \"sale\", \"killer\", \"model\", \"lenovo\", \"month\", \"company\", \"week\", \"smartphone\", \"look\", \"cost\", \"please\", \"amazon\", \"experience\", \"display\", \"build\", \"world\", \"pixel\", \"gd\", \"quality\", \"mobail\", \"splash\", \"asphalt\", \"engineer\", \"sound\", \"updation\", \"working\", \"superfast\", \"compass\", \"goodcamera\", \"helpful\", \"dis\", \"reverse\", \"headphone\", \"good4\", \"fulfill\", \"imei\", \"advertisement\", \"megapixel\", \"karo\", \"official\", \"laga\", \"good2\", \"mi4\", \"grab\", \"blur\", \"good\", \"pic\", \"camera\", \"average\", \"picture\", \"bhut\", \"jack\", \"speaker\", \"gift\", \"clarity\", \"fall\", \"display\", \"system\", \"samsung\", \"choice\", \"dolby\", \"speed\", \"image\", \"wise\", \"iphone\", \"phone\", \"nothing\", \"design\", \"music\", \"everything\", \"mark\", \"photo\", \"superb\", \"issue\", \"feel\", \"software\", \"experience\", \"money\", \"waste\", \"value\", \"k8\", \"k6\", \"k4\", \"receive\", \"answer\", \"avarage\", \"note\", \"a7000\", \"betry\", \"kill\", \"example\", \"lo\", \"a6000\", \"competition\", \"competitor\", \"k5\", \"prise\", \"fetures\", \"vry\", \"cashback\", \"news\", \"ha\", \"diwali\", \"heng\", \"infact\", \"lenova\", \"mast\", \"offer\", \"iron\", \"k3\", \"wrost\", \"lenovo\", \"redmi\", \"vibe\", \"hell\", \"venom\", \"ph\", \"dont\", \"pls\", \"device\", \"killer\", \"series\", \"please\", \"today\", \"k\", \"buy\", \"compare\", \"system\", \"experience\", \"purchase\", \"way\", \"version\", \"amazon\", \"brand\", \"product\", \"head\", \"seller\", \"]\", \"[\", \"trouble\", \"september\", \"lenevo\", \"packaging\", \"goodbut\", \"osm\", \"manufacturing\", \"duplicate\", \"motherboard\", \"become\", \"ti\", \"seal\", \"adapter\", \"class\", \"bty\", \"highlight\", \"correct\", \"speak\", \"bogas\", \"owesome\", \"unique\", \"performer\", \"facing\", \"planning\", \"test\", \"wastage\", \"china\", \"love\", \"dnt\", \"policy\", \"return\", \"defect\", \"cool\", \"piece\", \"headset\", \"box\", \"cash\", \"amazon\", \"till\", \"result\", \"thank\", \"date\", \"expectation\", \"experience\", \"exchange\", \"replacement\", \"earphone\", \"thanks\", \"star\", \"buy\", \"heat\", \"month\", \"buying\", \"time\", \"issue\", \"purchase\", \"cell\", \"nice\", \"package\", \"processing\", \"bettery\", \"phon\", \"everyone\", \"one\", \"comparison\", \"discount\", \"fact\", \"well\", \"tray\", \"warm\", \"phonei\", \"priority\", \"hype\", \"proximity\", \"tooo\", \"dim\", \"unit\", \"slow\", \"thanx\", \"sunlight\", \"duty\", \"dad\", \"addition\", \"trap\", \"incoming\", \"pros1\", \"launch\", \"output\", \"v\", \"hang\", \"performance\", \"others\", \"paper\", \"coz\", \"heat\", \"review\", \"lot\", \"year\", \"part\", \"earphone\", \"rate\", \"crap\", \"phone\", \"smooth\", \"speed\", \"issue\", \"mark\", \"time\", \"ram\", \"month\", \"lenovo\", \"price\", \"camera\", \"purchase\", \"feature\", \"sim\", \"jio\", \"volta\", \"worth\", \"signal\", \"lte\", \"reception\", \"fone\", \"network\", \"airtel\", \"g\", \"resolve\", \"handset\", \"band\", \"fi\", \"coverage\", \"operating\", \"showing\", \"ata\", \"tower\", \"wi\", \"dull\", \"jus\", \"bar\", \"warrenty\", \"advertising\", \"rha\", \"heard\", \"smartchk\", \"karne\", \"gud\", \"fine\", \"support\", \"fix\", \"status\", \"strength\", \"rest\", \"slot\", \"request\", \"work\", \"plz\", \"perfect\", \"everything\", \"problem\", \"issue\", \"connection\", \"time\", \"call\", \"data\", \"amazon\", \"card\", \"return\", \"mobile\", \"glass\", \"gorilla\", \"bill\", \"warranty\", \"invoice\", \"damage\", \"protection\", \"paisa\", \"copy\", \"alot\", \"wasool\", \"gaya\", \"foot\", \"packet\", \"k4note\", \"scratch\", \"meeting\", \"mh\", \"tak\", \"air\", \"responsibility\", \"bi\", \"man\", \"nyc\", \"recharge\", \"chor\", \"problam\", \"stick\", \"convince\", \"item\", \"superb\", \"guard\", \"nhi\", \"send\", \"sir\", \"centre\", \"service\", \"cost\", \"information\", \"cover\", \"screen\", \"mail\", \"replacement\", \"water\", \"use\", \"need\", \"week\", \"amazon\", \"display\", \"finger\", \"r\", \"day\", \"hai\", \"h\", \"charger\", \"ho\", \"bhi\", \"ka\", \"bahut\", \"ki\", \"se\", \"ye\", \"raha\", \"ke\", \"ko\", \"nahi\", \"hota\", \"koi\", \"tha\", \"toh\", \"aur\", \"mat\", \"jata\", \"kar\", \"ghatiya\", \"awsome\", \"pr\", \"maine\", \"bhai\", \"camra\", \"cheat\", \"benefit\", \"turbo\", \"hi\", \"cable\", \"par\", \"batter\", \"mera\", \"okay\", \"charge\", \"month\", \"box\", \"dolby\", \"delivery\", \"super\", \"awesome\", \"gallery\", \"facility\", \"bed\", \"k8note\", \"manager\", \"inbuilt\", \"clearity\", \"turbocharger\", \"bettry\", \"satisfy\", \"performs\", \"group\", \"player\", \"october\", \"avg\", \"wonderful\", \"p\", \"vivo\", \"brother\", \"w\", \"goodbattery\", \"wtf\", \"x3\", \"frequent\", \"oppo\", \"goodi\", \"select\", \"port\", \"pc\", \"charging\", \"fast\", \"setting\", \"recorder\", \"lack\", \"thanks\", \"weight\", \"process\", \"ringtone\", \"mind\", \"version\", \"mi\", \"iam\", \"description\", \"voice\", \"download\", \"music\", \"video\", \"key\", \"call\", \"photo\", \"feature\", \"option\", \"complaint\", \"time\", \"earphone\"], \"Freq\": [6709.0, 2112.0, 2955.0, 3270.0, 1322.0, 1132.0, 811.0, 1513.0, 946.0, 650.0, 605.0, 526.0, 858.0, 434.0, 964.0, 591.0, 440.0, 484.0, 1463.0, 796.0, 310.0, 232.0, 245.0, 216.0, 240.0, 905.0, 474.0, 220.0, 492.0, 304.0, 355.5018310546875, 196.3083038330078, 189.14749145507812, 164.86151123046875, 68.21546936035156, 66.56202697753906, 61.326263427734375, 43.55251693725586, 40.42173385620117, 30.514877319335938, 27.21600914001465, 24.313974380493164, 101.36392974853516, 24.323928833007812, 21.59134292602539, 131.42715454101562, 18.102088928222656, 17.818801879882812, 17.469179153442383, 17.153831481933594, 75.02854919433594, 16.017131805419922, 20.478586196899414, 15.649879455566406, 15.363414764404297, 15.66374397277832, 13.283234596252441, 12.741861343383789, 12.460264205932617, 12.408927917480469, 154.202392578125, 45.18198776245117, 62.06005096435547, 103.74861907958984, 89.82831573486328, 97.92285919189453, 39.95441436767578, 103.96041107177734, 45.18857192993164, 175.2905731201172, 103.45281219482422, 38.111507415771484, 66.6508560180664, 1341.8201904296875, 125.76018524169922, 60.17081832885742, 167.59141540527344, 86.39747619628906, 143.4922332763672, 86.93807220458984, 98.84153747558594, 585.314453125, 84.01455688476562, 654.83203125, 199.86143493652344, 216.5478973388672, 146.50144958496094, 184.42593383789062, 97.86881256103516, 109.47251892089844, 103.67852020263672, 139.67422485351562, 110.63545227050781, 93.2305679321289, 95.80067443847656, 134.94004821777344, 63.12851333618164, 128.8553009033203, 115.30284118652344, 24.662548065185547, 23.494783401489258, 22.846332550048828, 22.520462036132812, 22.23466682434082, 19.234743118286133, 132.53721618652344, 17.63887596130371, 17.537689208984375, 68.0028076171875, 66.14906311035156, 31.16672134399414, 14.803170204162598, 109.3011474609375, 13.078049659729004, 12.928892135620117, 12.487051010131836, 12.269610404968262, 22.31879425048828, 10.893874168395996, 10.718910217285156, 23.31446075439453, 10.617109298706055, 37.91351318359375, 23.110557556152344, 10.050851821899414, 21.318832397460938, 54.67925262451172, 183.3172149658203, 78.77650451660156, 47.02800369262695, 369.658935546875, 47.26766586303711, 289.074951171875, 135.53472900390625, 86.48355102539062, 66.2468490600586, 559.2496337890625, 101.34623718261719, 134.2289581298828, 61.988956451416016, 299.74169921875, 198.20440673828125, 47.46837615966797, 487.2227783203125, 665.016845703125, 255.5518035888672, 219.09068298339844, 1464.28759765625, 124.80075073242188, 403.0926818847656, 115.42514038085938, 160.02301025390625, 159.97613525390625, 220.89939880371094, 133.96580505371094, 146.61575317382812, 124.63262176513672, 119.26066589355469, 100.22929382324219, 439.76922607421875, 117.5378646850586, 25.59636116027832, 15.3011474609375, 517.1652221679688, 5.852255821228027, 5.628088474273682, 99.38031005859375, 5.122466564178467, 5.068558692932129, 4.844095706939697, 4.792694091796875, 4.650381565093994, 4.611909866333008, 216.8944854736328, 15.349800109863281, 4.270257472991943, 4.20999002456665, 3.971452474594116, 5.067857265472412, 8.468405723571777, 9.200203895568848, 3.413743019104004, 2342.744140625, 12.72867202758789, 3.10384202003479, 3.1012887954711914, 30.316879272460938, 2.9584732055664062, 2.684417486190796, 238.08477783203125, 24.172311782836914, 61.404903411865234, 889.1732788085938, 275.0358581542969, 243.75534057617188, 16.364349365234375, 12.01824951171875, 11.88054370880127, 206.1947479248047, 260.78863525390625, 100.72465515136719, 19.74299430847168, 49.02705001831055, 19.940847396850586, 134.24607849121094, 125.35284423828125, 43.39384078979492, 230.82469177246094, 80.39122009277344, 42.76095962524414, 42.130428314208984, 35.65824508666992, 142.56922912597656, 43.22697448730469, 27.92416000366211, 26.465679168701172, 31.656200408935547, 25.69279670715332, 18.24954605102539, 17.686279296875, 13.921730995178223, 12.802441596984863, 10.307255744934082, 10.145362854003906, 9.909329414367676, 8.639205932617188, 7.131742477416992, 6.948546409606934, 6.922835350036621, 20.645103454589844, 6.200395107269287, 6.031095027923584, 5.85552453994751, 5.581676006317139, 5.097419261932373, 4.92073917388916, 4.824881553649902, 4.710390567779541, 4.618563652038574, 4.5771660804748535, 4.303388595581055, 4.21847677230835, 4.211760997772217, 12.351818084716797, 4.133847236633301, 4.0311279296875, 32.774803161621094, 4.026818752288818, 686.9098510742188, 137.71458435058594, 32.5368766784668, 100.90055084228516, 84.1773452758789, 259.4808654785156, 14.1454496383667, 3527.42822265625, 25.46133041381836, 435.24420166015625, 32.233551025390625, 20.658260345458984, 23.998573303222656, 16.555017471313477, 10.907028198242188, 139.981689453125, 108.62145233154297, 47.55928039550781, 22.97991180419922, 37.603485107421875, 98.81584167480469, 25.837398529052734, 30.0821590423584, 32.84539794921875, 82.85208892822266, 60.27293014526367, 33.112205505371094, 33.049678802490234, 30.819229125976562, 32.770301818847656, 26.754743576049805, 32.81825256347656, 35.65245056152344, 29.22468376159668, 27.395898818969727, 32.068817138671875, 20.026887893676758, 15.8634614944458, 11.330760955810547, 1226.3568115234375, 9.580026626586914, 8.426748275756836, 8.360943794250488, 7.7486066818237305, 272.6128234863281, 7.341621398925781, 20.51857566833496, 6.67819356918335, 6.67312479019165, 6.666403293609619, 6.008407115936279, 10.917911529541016, 5.443752288818359, 115.43933868408203, 5.308821201324463, 5.259997367858887, 5.2541961669921875, 5.157682418823242, 5.070282459259033, 4.924201011657715, 4.91978120803833, 4.91370153427124, 4.787487983703613, 4.641718864440918, 4.505050182342529, 20.024717330932617, 124.10124206542969, 61.281280517578125, 1610.1121826171875, 66.04771423339844, 96.65872955322266, 10.149833679199219, 34.724884033203125, 195.22154235839844, 11.756023406982422, 73.29280853271484, 17.288545608520508, 157.94952392578125, 85.15962219238281, 28.356830596923828, 24.80048179626465, 74.92975616455078, 83.69580841064453, 44.21892166137695, 25.334882736206055, 12.157578468322754, 379.561279296875, 38.05280303955078, 28.90690803527832, 51.57283020019531, 49.56432342529297, 46.458187103271484, 41.51310348510742, 39.83082580566406, 68.46671295166016, 29.880537033081055, 37.009891510009766, 35.31221389770508, 649.3978271484375, 309.1499938964844, 240.4164581298828, 588.5283203125, 30.387636184692383, 76.674072265625, 12.919221878051758, 12.890924453735352, 11.335186004638672, 1048.962890625, 9.58977222442627, 9.403199195861816, 8.607497215270996, 7.810120105743408, 7.731555461883545, 7.641014099121094, 7.595640659332275, 7.544353008270264, 56.52327346801758, 7.6340837478637695, 7.113195896148682, 6.916300296783447, 6.440647125244141, 6.088272571563721, 8.090791702270508, 5.608757495880127, 5.464361667633057, 5.367311954498291, 16.341758728027344, 10.753070831298828, 40.00153350830078, 22.75577735900879, 17.219818115234375, 20.359128952026367, 529.1236572265625, 61.45818328857422, 29.531524658203125, 26.22624969482422, 17.65953254699707, 14.903745651245117, 65.28431701660156, 57.08810043334961, 178.844970703125, 54.69495391845703, 18.568382263183594, 65.21826934814453, 24.431169509887695, 28.059146881103516, 65.44302368164062, 26.900659561157227, 37.46321487426758, 40.015132904052734, 35.09208679199219, 22.907838821411133, 23.46707534790039, 27.944133758544922, 21.010393142700195, 2111.349853515625, 36.692176818847656, 35.69025802612305, 19.10578727722168, 31.37839698791504, 14.250718116760254, 13.677101135253906, 30.299877166748047, 12.990015029907227, 12.330312728881836, 10.830132484436035, 9.161561965942383, 8.702922821044922, 7.7498273849487305, 7.6583662033081055, 12.480859756469727, 6.993152618408203, 6.541996955871582, 59.11982727050781, 6.215521335601807, 4.685153007507324, 4.366572380065918, 4.274963855743408, 4.144734859466553, 4.102963447570801, 4.0039496421813965, 3.9540812969207764, 15.879010200500488, 3.774766683578491, 16.42557716369629, 11.762369155883789, 15.401576042175293, 68.89224243164062, 13.535728454589844, 56.706825256347656, 177.27296447753906, 21.077999114990234, 38.497955322265625, 62.329368591308594, 34.182674407958984, 83.01604461669922, 22.512941360473633, 208.119873046875, 50.89925765991211, 31.93340492248535, 31.413206100463867, 35.00162124633789, 56.02641296386719, 95.03909301757812, 24.94866943359375, 47.56945037841797, 43.25999450683594, 40.78602981567383, 40.80107116699219, 63.3817138671875, 66.52754211425781, 61.140594482421875, 28.86231803894043, 61.48759078979492, 65.14342498779297, 35.3952522277832, 56.98572540283203, 54.059661865234375, 44.547157287597656, 28.26384162902832, 25.00105857849121, 23.936920166015625, 20.80042839050293, 19.285158157348633, 18.27058219909668, 17.428558349609375, 16.24163055419922, 12.536664962768555, 11.834514617919922, 9.956448554992676, 9.090283393859863, 8.765862464904785, 9.174434661865234, 8.22708511352539, 7.625216484069824, 7.567389011383057, 7.556576251983643, 6.992949962615967, 6.890605926513672, 6.785545349121094, 6.750426769256592, 6.40532922744751, 6.40140438079834, 5.981471061706543, 5.780838489532471, 5.645833492279053, 14.746071815490723, 29.636953353881836, 29.96121597290039, 119.61474609375, 522.6393432617188, 28.87779426574707, 25.63992691040039, 10.111912727355957, 171.31390380859375, 80.2373275756836, 105.42073822021484, 40.124664306640625, 33.04179000854492, 56.76365661621094, 29.19160270690918, 14.43709659576416, 520.1749267578125, 18.558345794677734, 51.13736343383789, 124.61358642578125, 45.109859466552734, 94.46588134765625, 40.25080108642578, 56.97876739501953, 54.91765213012695, 51.79230499267578, 69.51063537597656, 29.214670181274414, 29.12802505493164, 244.11807250976562, 143.76605224609375, 115.4634780883789, 83.99108123779297, 78.63790130615234, 34.25786590576172, 36.80356216430664, 28.077383041381836, 508.6696472167969, 18.699872970581055, 16.719032287597656, 15.668705940246582, 139.3121337890625, 11.995152473449707, 10.014897346496582, 18.469799041748047, 8.3425931930542, 8.256332397460938, 8.00522518157959, 7.740867614746094, 7.490604877471924, 6.690144062042236, 6.786988735198975, 36.7657470703125, 6.125548362731934, 6.109309196472168, 13.027083396911621, 5.546741485595703, 5.446649551391602, 5.440905570983887, 78.07542419433594, 35.90251541137695, 172.14146423339844, 32.3681526184082, 12.095977783203125, 29.922292709350586, 38.05524444580078, 69.7070083618164, 34.44563674926758, 144.7894287109375, 41.193363189697266, 23.664485931396484, 76.03730773925781, 204.49208068847656, 139.68185424804688, 27.669883728027344, 90.01675415039062, 58.14894485473633, 31.1131534576416, 34.15499496459961, 24.56132698059082, 24.623138427734375, 810.710693359375, 219.49728393554688, 117.33476257324219, 59.8505744934082, 57.35184097290039, 38.029815673828125, 29.877979278564453, 21.049657821655273, 19.42911720275879, 16.524721145629883, 12.103703498840332, 9.804435729980469, 9.419533729553223, 13.48471736907959, 8.75700569152832, 8.398394584655762, 39.56605911254883, 7.571345329284668, 7.048793792724609, 7.0879693031311035, 6.488733768463135, 6.385000228881836, 5.928976058959961, 5.876452445983887, 5.684652328491211, 5.926062107086182, 5.311669826507568, 5.310210704803467, 5.306984901428223, 5.301400661468506, 63.92173385620117, 141.43426513671875, 20.189910888671875, 19.323331832885742, 14.201569557189941, 22.798171997070312, 46.45696258544922, 183.7635955810547, 50.97178649902344, 14.426403045654297, 27.01609992980957, 133.61227416992188, 17.502830505371094, 42.70906066894531, 14.270149230957031, 63.64007568359375, 27.2624568939209, 27.290315628051758, 40.93363571166992, 36.41252136230469, 18.252376556396484, 17.849658966064453, 19.108301162719727, 215.762939453125, 157.6117706298828, 430.0607604980469, 70.56151580810547, 47.62739944458008, 42.36298751831055, 37.36479949951172, 33.344703674316406, 32.627296447753906, 32.12825393676758, 30.34526824951172, 29.783594131469727, 24.189157485961914, 23.854923248291016, 23.412639617919922, 22.7429141998291, 21.30625343322754, 20.420948028564453, 17.591625213623047, 17.110544204711914, 16.72831153869629, 14.580002784729004, 13.659626960754395, 13.521883010864258, 13.421562194824219, 12.756422996520996, 12.64106273651123, 12.474291801452637, 11.41415786743164, 11.212594032287598, 184.34478759765625, 52.969337463378906, 40.27003860473633, 23.347400665283203, 17.74813461303711, 15.183390617370605, 15.663798332214355, 51.034481048583984, 24.850526809692383, 18.875154495239258, 15.672365188598633, 231.47877502441406, 140.65841674804688, 125.87505340576172, 102.99794006347656, 46.65028381347656, 19.50318145751953, 18.0519962310791, 17.023435592651367, 16.75175666809082, 17.132143020629883, 15.478294372558594, 11.296416282653809, 10.363441467285156, 10.313512802124023, 9.59814167022705, 49.111141204833984, 8.8246431350708, 8.667326927185059, 7.377942085266113, 7.086503505706787, 6.70054817199707, 6.632233619689941, 6.538065433502197, 6.449473857879639, 6.3557233810424805, 6.008367538452148, 5.831511974334717, 5.148531913757324, 4.566830158233643, 4.474308490753174, 10.653780937194824, 19.605091094970703, 37.78642654418945, 80.78877258300781, 27.995527267456055, 48.5013313293457, 21.590778350830078, 76.1580581665039, 26.050973892211914, 26.188922882080078, 26.62758445739746, 16.21973419189453, 46.6179084777832, 40.29540252685547, 14.190895080566406, 16.966880798339844, 34.34371566772461, 18.943470001220703, 46.82600784301758, 39.67353057861328, 26.185516357421875, 45.321746826171875, 31.00853729248047, 39.83796691894531, 27.676218032836914, 18.746662139892578, 24.23288345336914, 19.762895584106445], \"Total\": [6709.0, 2112.0, 2955.0, 3270.0, 1322.0, 1132.0, 811.0, 1513.0, 946.0, 650.0, 605.0, 526.0, 858.0, 434.0, 964.0, 591.0, 440.0, 484.0, 1463.0, 796.0, 310.0, 232.0, 245.0, 216.0, 240.0, 905.0, 474.0, 220.0, 492.0, 304.0, 356.3717346191406, 197.1781768798828, 190.02554321289062, 166.377685546875, 69.08594512939453, 67.46009063720703, 62.212646484375, 44.42246627807617, 41.29164505004883, 31.38478660583496, 28.086050033569336, 25.183866500854492, 105.13671112060547, 25.246938705444336, 22.463869094848633, 137.39772033691406, 18.972015380859375, 18.698301315307617, 18.339075088500977, 18.023740768432617, 78.8432388305664, 16.887027740478516, 21.60487174987793, 16.51978874206543, 16.233314514160156, 16.554771423339844, 14.1531400680542, 13.612537384033203, 13.330159187316895, 13.27889633178711, 167.0596160888672, 48.70010757446289, 68.35516357421875, 121.20994567871094, 104.20366668701172, 116.04899597167969, 45.12468338012695, 127.99332427978516, 52.43071365356445, 236.77066040039062, 135.6280517578125, 44.9805793762207, 87.9900894165039, 3270.2041015625, 192.66676330566406, 79.50658416748047, 305.060546875, 131.5919647216797, 261.8789367675781, 143.09738159179688, 177.22833251953125, 2955.17236328125, 141.89361572265625, 6709.84619140625, 796.1455688476562, 946.1065063476562, 516.8052368164062, 905.865478515625, 240.89439392089844, 422.1485595703125, 351.9856872558594, 1463.9600830078125, 858.6822509765625, 425.56060791015625, 1322.9720458984375, 135.85862731933594, 64.01394653320312, 130.80303955078125, 118.99073791503906, 25.53285789489746, 24.3657169342041, 23.71688461303711, 23.39100456237793, 23.159582138061523, 20.10991859436035, 138.73619079589844, 18.50917625427246, 18.408456802368164, 71.42826080322266, 69.52555847167969, 32.87223434448242, 15.673474311828613, 116.234130859375, 13.948352813720703, 13.799205780029297, 13.35804557800293, 13.139913558959961, 24.036518096923828, 11.764198303222656, 11.589213371276855, 25.214685440063477, 11.490365982055664, 41.05881881713867, 25.041933059692383, 10.921158790588379, 23.212425231933594, 60.176536560058594, 217.90646362304688, 91.23020935058594, 53.91743469238281, 474.023681640625, 54.50265121459961, 396.3770751953125, 175.87338256835938, 107.90052032470703, 80.84839630126953, 905.865478515625, 132.88015747070312, 182.8746795654297, 77.57503509521484, 484.72198486328125, 300.25164794921875, 57.24934387207031, 978.8888549804688, 1463.9600830078125, 488.2601623535156, 476.6870422363281, 6709.84619140625, 220.95770263671875, 1513.5745849609375, 220.57415771484375, 479.5440673828125, 492.1721496582031, 964.983154296875, 363.55706787109375, 494.8017883300781, 425.56060791015625, 422.1485595703125, 257.3493957519531, 440.7237243652344, 118.41189575195312, 26.47038459777832, 16.17519760131836, 591.1622314453125, 6.726287841796875, 6.502119064331055, 115.72007751464844, 5.996496677398682, 5.942580223083496, 5.718121528625488, 5.66672420501709, 5.524458408355713, 5.4859466552734375, 258.0443420410156, 18.290163040161133, 5.1443634033203125, 5.084012508392334, 4.845493316650391, 6.29150915145874, 10.587603569030762, 11.5515718460083, 4.287774562835693, 2955.17236328125, 16.287263870239258, 3.9778683185577393, 3.975325107574463, 39.18056106567383, 3.8325226306915283, 3.558448076248169, 317.3097839355469, 32.09389877319336, 87.42189025878906, 1513.5745849609375, 492.1721496582031, 479.5440673828125, 24.297924041748047, 17.79039192199707, 17.69345474243164, 946.1065063476562, 1463.9600830078125, 448.8410339355469, 42.90080642700195, 168.1124725341797, 46.05520248413086, 978.8888549804688, 905.865478515625, 168.29014587402344, 3270.2041015625, 516.8052368164062, 203.94345092773438, 224.0474395751953, 170.5988311767578, 6709.84619140625, 425.56060791015625, 156.99607849121094, 128.16632080078125, 261.8789367675781, 370.2291564941406, 19.126493453979492, 18.563213348388672, 14.798713684082031, 13.679388999938965, 11.184218406677246, 11.022315979003906, 10.791275024414062, 9.51615047454834, 8.008724212646484, 7.825507164001465, 7.799771785736084, 23.502656936645508, 7.077342510223389, 6.908071041107178, 6.732455253601074, 6.46030330657959, 5.974364757537842, 5.797671794891357, 5.701838493347168, 5.587337970733643, 5.495518684387207, 5.454110145568848, 5.180327415466309, 5.095411777496338, 5.08872127532959, 14.97251033782959, 5.011002063751221, 4.908084869384766, 39.9094352722168, 4.903805255889893, 858.6822509765625, 169.7415771484375, 40.137325286865234, 128.16632080078125, 106.79141235351562, 348.838134765625, 17.935335159301758, 6709.84619140625, 34.97690200805664, 796.1455688476562, 46.44368362426758, 28.409215927124023, 34.99534606933594, 23.071386337280273, 14.442737579345703, 370.2291564941406, 305.060546875, 112.46060180664062, 41.73633575439453, 90.53040313720703, 516.8052368164062, 73.53994750976562, 105.9963607788086, 128.3515167236328, 964.983154296875, 488.2601623535156, 131.78289794921875, 138.89755249023438, 131.5919647216797, 168.1124725341797, 98.50602722167969, 257.3493957519531, 494.8017883300781, 298.5249938964844, 351.9856872558594, 32.940765380859375, 20.89887809753418, 16.74080467224121, 12.205028533935547, 1322.9720458984375, 10.4519681930542, 9.2987060546875, 9.232902526855469, 8.62057876586914, 304.3356018066406, 8.213571548461914, 23.147645950317383, 7.550138473510742, 7.545083522796631, 7.538352966308594, 6.8803558349609375, 12.614972114562988, 6.315701007843018, 134.3972625732422, 6.180767059326172, 6.13195276260376, 6.126173973083496, 6.029633522033691, 5.942223072052002, 5.79620885848999, 5.792926788330078, 5.785799980163574, 5.659430027008057, 5.51365852355957, 5.376992225646973, 24.4720516204834, 168.29014587402344, 84.06890869140625, 3270.2041015625, 98.12114715576172, 150.38209533691406, 12.770968437194824, 50.67780303955078, 363.55706787109375, 15.630496978759766, 134.97784423828125, 24.687911987304688, 351.9856872558594, 167.97386169433594, 47.63702392578125, 42.439571380615234, 188.83517456054688, 228.54551696777344, 106.69552612304688, 49.48935317993164, 16.634885787963867, 6709.84619140625, 120.1092300415039, 75.23062133789062, 240.89439392089844, 224.0474395751953, 203.94345092773438, 177.22833251953125, 196.38233947753906, 1463.9600830078125, 109.48451232910156, 300.25164794921875, 298.5249938964844, 650.267578125, 310.0196228027344, 241.2860870361328, 605.0575561523438, 31.25763511657715, 80.70232391357422, 13.788883209228516, 13.772132873535156, 12.20483684539795, 1132.5828857421875, 10.459412574768066, 10.272836685180664, 9.47714614868164, 8.679853439331055, 8.601219177246094, 8.510658264160156, 8.465280532836914, 8.413995742797852, 63.26625442504883, 8.568066596984863, 7.984536170959473, 7.785940170288086, 7.310283184051514, 6.95792293548584, 9.30479907989502, 6.47840690612793, 6.334015846252441, 6.2369585037231445, 18.995826721191406, 12.594268798828125, 50.58701705932617, 28.545360565185547, 21.31429672241211, 25.67650032043457, 964.983154296875, 88.97737121582031, 40.23814010620117, 35.831966400146484, 23.059621810913086, 18.87787437438965, 110.69120025634766, 96.57881927490234, 422.1485595703125, 105.9963607788086, 29.711627960205078, 257.3493957519531, 53.71528625488281, 68.9040756225586, 370.2291564941406, 74.27462005615234, 167.97386169433594, 298.5249938964844, 220.57415771484375, 70.09501647949219, 88.38510131835938, 494.8017883300781, 90.53040313720703, 2112.2900390625, 37.56739044189453, 36.569122314453125, 19.980976104736328, 33.30195999145508, 15.127412796020508, 14.552301406860352, 32.2817268371582, 13.865220069885254, 13.205512046813965, 11.70531940460205, 10.036749839782715, 9.578126907348633, 8.625025749206543, 8.533617973327637, 13.990949630737305, 7.9080729484558105, 7.417204856872559, 67.3214340209961, 7.090729713439941, 5.560346603393555, 5.2417731285095215, 5.150155544281006, 5.019928455352783, 4.978146553039551, 4.879137992858887, 4.829291820526123, 19.53986167907715, 4.649983882904053, 20.269298553466797, 14.516325950622559, 19.19162368774414, 92.864990234375, 17.146608352661133, 77.55388641357422, 274.0140380859375, 28.20790672302246, 54.44938278198242, 93.54339599609375, 49.24799728393555, 141.6546630859375, 31.6971378326416, 494.8017883300781, 89.82263946533203, 53.56813049316406, 54.01845932006836, 66.18873596191406, 129.74749755859375, 298.5249938964844, 43.99525451660156, 151.76429748535156, 131.81158447265625, 133.50564575195312, 139.94332885742188, 370.2291564941406, 448.8410339355469, 488.2601623535156, 78.3830795288086, 978.8888549804688, 1463.9600830078125, 220.57415771484375, 57.856266021728516, 54.930213928222656, 45.417694091796875, 29.13437271118164, 25.89992904663086, 24.807493209838867, 21.671091079711914, 20.156408309936523, 19.141115188598633, 18.299129486083984, 17.11957550048828, 13.407195091247559, 12.705060958862305, 10.826983451843262, 9.960833549499512, 9.636568069458008, 10.10848617553711, 9.097628593444824, 8.495749473571777, 8.4379243850708, 8.427314758300781, 7.863475322723389, 7.761134624481201, 7.656081676483154, 7.62099027633667, 7.275858402252197, 7.271949291229248, 6.851998329162598, 6.651379108428955, 6.516359806060791, 17.070703506469727, 35.609039306640625, 36.68574523925781, 170.5988311767578, 946.1065063476562, 39.79342269897461, 35.29629135131836, 12.240445137023926, 448.8410339355469, 172.26943969726562, 252.30799865722656, 75.05138397216797, 58.566680908203125, 131.81158447265625, 59.01018524169922, 20.74449348449707, 6709.84619140625, 32.374290466308594, 228.54551696777344, 1463.9600830078125, 203.94345092773438, 978.8888549804688, 192.66676330566406, 488.2601623535156, 964.983154296875, 858.6822509765625, 3270.2041015625, 220.57415771484375, 796.1455688476562, 245.05027770996094, 144.63743591308594, 116.33479309082031, 84.86238861083984, 79.5434341430664, 35.129127502441406, 37.885746002197266, 28.948640823364258, 526.3760375976562, 19.571136474609375, 17.5903263092041, 16.5412540435791, 148.4187469482422, 12.866415977478027, 10.88615894317627, 20.38100242614746, 9.213860511779785, 9.12759017944336, 8.876505851745605, 8.612303733825684, 8.36186695098877, 7.561402797698975, 7.697384834289551, 41.939083099365234, 6.996821880340576, 6.980572700500488, 14.989468574523926, 6.418001174926758, 6.317908763885498, 6.312218189239502, 94.77180480957031, 44.89786911010742, 261.0293884277344, 45.848575592041016, 15.063087463378906, 42.2767219543457, 60.21952819824219, 127.51358032226562, 60.158348083496094, 425.56060791015625, 81.48297119140625, 38.78474807739258, 224.0474395751953, 1513.5745849609375, 1463.9600830078125, 65.41990661621094, 978.8888549804688, 474.023681640625, 175.87338256835938, 494.8017883300781, 143.09738159179688, 274.0140380859375, 811.5936889648438, 220.36935424804688, 118.20670318603516, 60.72450637817383, 58.22377395629883, 38.901737213134766, 30.749906539916992, 21.921586990356445, 20.30116081237793, 17.41156768798828, 12.975641250610352, 10.676377296447754, 10.291478157043457, 14.743998527526855, 9.628945350646973, 9.27042007446289, 43.923187255859375, 8.443289756774902, 7.92072868347168, 7.971805572509766, 7.36065673828125, 7.256937026977539, 6.8009185791015625, 6.748379707336426, 6.556571960449219, 6.835443019866943, 6.183608055114746, 6.182140827178955, 6.178930759429932, 6.173360824584961, 74.84484100341797, 196.38233947753906, 25.361482620239258, 25.46784210205078, 18.345796585083008, 33.029205322265625, 85.52944946289062, 484.72198486328125, 98.50602722167969, 21.380403518676758, 50.71433639526367, 476.6870422363281, 30.871788024902344, 151.76429748535156, 24.05827522277832, 516.8052368164062, 109.9506607055664, 138.89755249023438, 494.8017883300781, 351.9856872558594, 63.06402587890625, 113.54727172851562, 905.865478515625, 216.63136291503906, 158.4801483154297, 434.7826232910156, 71.42990112304688, 48.49577713012695, 43.231414794921875, 38.233177185058594, 34.21309280395508, 33.49568176269531, 32.99663543701172, 31.213647842407227, 30.652109146118164, 25.057538986206055, 24.72331428527832, 24.28101921081543, 23.611337661743164, 22.17463493347168, 21.289329528808594, 18.460006713867188, 17.97901153564453, 17.596689224243164, 15.448380470275879, 14.52800464630127, 14.390271186828613, 14.289942741394043, 13.624801635742188, 13.509441375732422, 13.342677116394043, 12.282631874084473, 12.08099365234375, 240.2894744873047, 65.92707824707031, 54.89458084106445, 32.50785446166992, 22.15499496459961, 18.677560806274414, 20.214994430541992, 479.5440673828125, 488.2601623535156, 141.6546630859375, 188.83517456054688, 232.79412841796875, 141.5283966064453, 126.74504089355469, 103.8680419921875, 47.5202751159668, 20.373170852661133, 18.922239303588867, 17.905296325683594, 17.621747970581055, 18.05565643310547, 16.63100814819336, 12.166940689086914, 11.233427047729492, 11.183505058288574, 10.468125343322754, 53.71516036987305, 9.694785118103027, 9.537312507629395, 8.247923851013184, 7.956489562988281, 7.570546627044678, 7.505053997039795, 7.408071994781494, 7.319458961486816, 7.225721836090088, 6.878359317779541, 6.701504707336426, 6.01851749420166, 5.436832427978516, 5.344383716583252, 13.040180206298828, 24.68792152404785, 53.589630126953125, 124.94790649414062, 38.66522216796875, 72.10317993164062, 29.53765106201172, 133.50564575195312, 38.43285369873047, 38.82455062866211, 40.97779083251953, 22.534465789794922, 88.38510131835938, 88.00897216796875, 19.704797744750977, 27.309797286987305, 106.39256286621094, 37.780128479003906, 240.89439392089844, 206.94155883789062, 84.73246765136719, 474.023681640625, 177.22833251953125, 796.1455688476562, 396.3770751953125, 45.91315460205078, 978.8888549804688, 131.81158447265625], \"Category\": [\"Default\", \"Default\", \"Default\", \"Default\", \"Default\", \"Default\", \"Default\", \"Default\", \"Default\", \"Default\", \"Default\", \"Default\", \"Default\", \"Default\", \"Default\", \"Default\", \"Default\", \"Default\", \"Default\", \"Default\", \"Default\", \"Default\", \"Default\", \"Default\", \"Default\", \"Default\", \"Default\", \"Default\", \"Default\", \"Default\", \"Topic1\", \"Topic1\", \"Topic1\", \"Topic1\", \"Topic1\", \"Topic1\", \"Topic1\", \"Topic1\", \"Topic1\", \"Topic1\", \"Topic1\", \"Topic1\", \"Topic1\", \"Topic1\", \"Topic1\", \"Topic1\", \"Topic1\", \"Topic1\", \"Topic1\", \"Topic1\", \"Topic1\", \"Topic1\", \"Topic1\", \"Topic1\", \"Topic1\", \"Topic1\", \"Topic1\", \"Topic1\", \"Topic1\", \"Topic1\", \"Topic1\", \"Topic1\", \"Topic1\", \"Topic1\", \"Topic1\", \"Topic1\", \"Topic1\", \"Topic1\", \"Topic1\", \"Topic1\", \"Topic1\", \"Topic1\", \"Topic1\", \"Topic1\", \"Topic1\", \"Topic1\", \"Topic1\", \"Topic1\", \"Topic1\", \"Topic1\", \"Topic1\", \"Topic1\", \"Topic1\", \"Topic1\", \"Topic1\", \"Topic1\", \"Topic1\", \"Topic1\", \"Topic1\", \"Topic1\", \"Topic1\", \"Topic1\", \"Topic1\", \"Topic1\", \"Topic1\", \"Topic2\", \"Topic2\", \"Topic2\", \"Topic2\", \"Topic2\", \"Topic2\", \"Topic2\", \"Topic2\", \"Topic2\", \"Topic2\", \"Topic2\", \"Topic2\", \"Topic2\", \"Topic2\", \"Topic2\", \"Topic2\", \"Topic2\", \"Topic2\", \"Topic2\", \"Topic2\", \"Topic2\", \"Topic2\", \"Topic2\", \"Topic2\", \"Topic2\", \"Topic2\", \"Topic2\", \"Topic2\", \"Topic2\", \"Topic2\", \"Topic2\", \"Topic2\", \"Topic2\", \"Topic2\", \"Topic2\", \"Topic2\", \"Topic2\", \"Topic2\", \"Topic2\", \"Topic2\", \"Topic2\", \"Topic2\", \"Topic2\", \"Topic2\", \"Topic2\", \"Topic2\", \"Topic2\", \"Topic2\", \"Topic2\", \"Topic2\", \"Topic2\", \"Topic2\", \"Topic2\", \"Topic2\", \"Topic2\", \"Topic2\", \"Topic2\", \"Topic2\", \"Topic2\", \"Topic2\", \"Topic2\", \"Topic2\", \"Topic2\", \"Topic2\", \"Topic3\", \"Topic3\", \"Topic3\", \"Topic3\", \"Topic3\", \"Topic3\", \"Topic3\", \"Topic3\", \"Topic3\", \"Topic3\", \"Topic3\", \"Topic3\", \"Topic3\", \"Topic3\", \"Topic3\", \"Topic3\", \"Topic3\", \"Topic3\", \"Topic3\", \"Topic3\", \"Topic3\", \"Topic3\", \"Topic3\", \"Topic3\", \"Topic3\", \"Topic3\", \"Topic3\", \"Topic3\", \"Topic3\", \"Topic3\", \"Topic3\", \"Topic3\", \"Topic3\", \"Topic3\", \"Topic3\", \"Topic3\", \"Topic3\", \"Topic3\", \"Topic3\", \"Topic3\", \"Topic3\", \"Topic3\", \"Topic3\", \"Topic3\", \"Topic3\", \"Topic3\", \"Topic3\", \"Topic3\", \"Topic3\", \"Topic3\", \"Topic3\", \"Topic3\", \"Topic3\", \"Topic3\", \"Topic3\", \"Topic3\", \"Topic3\", \"Topic3\", \"Topic3\", \"Topic4\", \"Topic4\", \"Topic4\", \"Topic4\", \"Topic4\", \"Topic4\", \"Topic4\", \"Topic4\", \"Topic4\", \"Topic4\", \"Topic4\", \"Topic4\", \"Topic4\", \"Topic4\", \"Topic4\", \"Topic4\", \"Topic4\", \"Topic4\", \"Topic4\", \"Topic4\", \"Topic4\", \"Topic4\", \"Topic4\", \"Topic4\", \"Topic4\", \"Topic4\", \"Topic4\", \"Topic4\", \"Topic4\", \"Topic4\", \"Topic4\", \"Topic4\", \"Topic4\", \"Topic4\", \"Topic4\", \"Topic4\", \"Topic4\", \"Topic4\", \"Topic4\", \"Topic4\", \"Topic4\", \"Topic4\", \"Topic4\", \"Topic4\", \"Topic4\", \"Topic4\", \"Topic4\", \"Topic4\", \"Topic4\", \"Topic4\", \"Topic4\", \"Topic4\", \"Topic4\", \"Topic4\", \"Topic4\", \"Topic4\", \"Topic4\", \"Topic4\", \"Topic4\", \"Topic4\", \"Topic4\", \"Topic4\", \"Topic4\", \"Topic4\", \"Topic4\", \"Topic5\", \"Topic5\", \"Topic5\", \"Topic5\", \"Topic5\", \"Topic5\", \"Topic5\", \"Topic5\", \"Topic5\", \"Topic5\", \"Topic5\", \"Topic5\", \"Topic5\", \"Topic5\", \"Topic5\", \"Topic5\", \"Topic5\", \"Topic5\", \"Topic5\", \"Topic5\", \"Topic5\", \"Topic5\", \"Topic5\", \"Topic5\", \"Topic5\", \"Topic5\", \"Topic5\", \"Topic5\", \"Topic5\", \"Topic5\", \"Topic5\", \"Topic5\", \"Topic5\", \"Topic5\", \"Topic5\", \"Topic5\", \"Topic5\", \"Topic5\", \"Topic5\", \"Topic5\", \"Topic5\", \"Topic5\", \"Topic5\", \"Topic5\", \"Topic5\", \"Topic5\", \"Topic5\", \"Topic5\", \"Topic5\", \"Topic5\", \"Topic5\", \"Topic5\", \"Topic5\", \"Topic5\", \"Topic5\", \"Topic5\", \"Topic5\", \"Topic5\", \"Topic5\", \"Topic5\", \"Topic5\", \"Topic5\", \"Topic5\", \"Topic6\", \"Topic6\", \"Topic6\", \"Topic6\", \"Topic6\", \"Topic6\", \"Topic6\", \"Topic6\", \"Topic6\", \"Topic6\", \"Topic6\", \"Topic6\", \"Topic6\", \"Topic6\", \"Topic6\", \"Topic6\", \"Topic6\", \"Topic6\", \"Topic6\", \"Topic6\", \"Topic6\", \"Topic6\", \"Topic6\", \"Topic6\", \"Topic6\", \"Topic6\", \"Topic6\", \"Topic6\", \"Topic6\", \"Topic6\", \"Topic6\", \"Topic6\", \"Topic6\", \"Topic6\", \"Topic6\", \"Topic6\", \"Topic6\", \"Topic6\", \"Topic6\", \"Topic6\", \"Topic6\", \"Topic6\", \"Topic6\", \"Topic6\", \"Topic6\", \"Topic6\", \"Topic6\", \"Topic6\", \"Topic6\", \"Topic6\", \"Topic6\", \"Topic6\", \"Topic6\", \"Topic6\", \"Topic6\", \"Topic6\", \"Topic6\", \"Topic7\", \"Topic7\", \"Topic7\", \"Topic7\", \"Topic7\", \"Topic7\", \"Topic7\", \"Topic7\", \"Topic7\", \"Topic7\", \"Topic7\", \"Topic7\", \"Topic7\", \"Topic7\", \"Topic7\", \"Topic7\", \"Topic7\", \"Topic7\", \"Topic7\", \"Topic7\", \"Topic7\", \"Topic7\", \"Topic7\", \"Topic7\", \"Topic7\", \"Topic7\", \"Topic7\", \"Topic7\", \"Topic7\", \"Topic7\", \"Topic7\", \"Topic7\", \"Topic7\", \"Topic7\", \"Topic7\", \"Topic7\", \"Topic7\", \"Topic7\", \"Topic7\", \"Topic7\", \"Topic7\", \"Topic7\", \"Topic7\", \"Topic7\", \"Topic7\", \"Topic7\", \"Topic7\", \"Topic7\", \"Topic7\", \"Topic7\", \"Topic7\", \"Topic7\", \"Topic7\", \"Topic7\", \"Topic7\", \"Topic7\", \"Topic7\", \"Topic7\", \"Topic7\", \"Topic7\", \"Topic7\", \"Topic8\", \"Topic8\", \"Topic8\", \"Topic8\", \"Topic8\", \"Topic8\", \"Topic8\", \"Topic8\", \"Topic8\", \"Topic8\", \"Topic8\", \"Topic8\", \"Topic8\", \"Topic8\", \"Topic8\", \"Topic8\", \"Topic8\", \"Topic8\", \"Topic8\", \"Topic8\", \"Topic8\", \"Topic8\", \"Topic8\", \"Topic8\", \"Topic8\", \"Topic8\", \"Topic8\", \"Topic8\", \"Topic8\", \"Topic8\", \"Topic8\", \"Topic8\", \"Topic8\", \"Topic8\", \"Topic8\", \"Topic8\", \"Topic8\", \"Topic8\", \"Topic8\", \"Topic8\", \"Topic8\", \"Topic8\", \"Topic8\", \"Topic8\", \"Topic8\", \"Topic8\", \"Topic8\", \"Topic8\", \"Topic8\", \"Topic8\", \"Topic8\", \"Topic8\", \"Topic8\", \"Topic8\", \"Topic8\", \"Topic8\", \"Topic8\", \"Topic8\", \"Topic8\", \"Topic9\", \"Topic9\", \"Topic9\", \"Topic9\", \"Topic9\", \"Topic9\", \"Topic9\", \"Topic9\", \"Topic9\", \"Topic9\", \"Topic9\", \"Topic9\", \"Topic9\", \"Topic9\", \"Topic9\", \"Topic9\", \"Topic9\", \"Topic9\", \"Topic9\", \"Topic9\", \"Topic9\", \"Topic9\", \"Topic9\", \"Topic9\", \"Topic9\", \"Topic9\", \"Topic9\", \"Topic9\", \"Topic9\", \"Topic9\", \"Topic9\", \"Topic9\", \"Topic9\", \"Topic9\", \"Topic9\", \"Topic9\", \"Topic9\", \"Topic9\", \"Topic9\", \"Topic9\", \"Topic9\", \"Topic9\", \"Topic9\", \"Topic9\", \"Topic9\", \"Topic9\", \"Topic9\", \"Topic9\", \"Topic9\", \"Topic9\", \"Topic9\", \"Topic9\", \"Topic10\", \"Topic10\", \"Topic10\", \"Topic10\", \"Topic10\", \"Topic10\", \"Topic10\", \"Topic10\", \"Topic10\", \"Topic10\", \"Topic10\", \"Topic10\", \"Topic10\", \"Topic10\", \"Topic10\", \"Topic10\", \"Topic10\", \"Topic10\", \"Topic10\", \"Topic10\", \"Topic10\", \"Topic10\", \"Topic10\", \"Topic10\", \"Topic10\", \"Topic10\", \"Topic10\", \"Topic10\", \"Topic10\", \"Topic10\", \"Topic10\", \"Topic10\", \"Topic10\", \"Topic10\", \"Topic10\", \"Topic10\", \"Topic10\", \"Topic10\", \"Topic10\", \"Topic10\", \"Topic10\", \"Topic10\", \"Topic10\", \"Topic10\", \"Topic10\", \"Topic10\", \"Topic10\", \"Topic10\", \"Topic10\", \"Topic10\", \"Topic10\", \"Topic10\", \"Topic10\", \"Topic11\", \"Topic11\", \"Topic11\", \"Topic11\", \"Topic11\", \"Topic11\", \"Topic11\", \"Topic11\", \"Topic11\", \"Topic11\", \"Topic11\", \"Topic11\", \"Topic11\", \"Topic11\", \"Topic11\", \"Topic11\", \"Topic11\", \"Topic11\", \"Topic11\", \"Topic11\", \"Topic11\", \"Topic11\", \"Topic11\", \"Topic11\", \"Topic11\", \"Topic11\", \"Topic11\", \"Topic11\", \"Topic11\", \"Topic11\", \"Topic11\", \"Topic11\", \"Topic11\", \"Topic11\", \"Topic11\", \"Topic11\", \"Topic11\", \"Topic11\", \"Topic11\", \"Topic11\", \"Topic11\", \"Topic12\", \"Topic12\", \"Topic12\", \"Topic12\", \"Topic12\", \"Topic12\", \"Topic12\", \"Topic12\", \"Topic12\", \"Topic12\", \"Topic12\", \"Topic12\", \"Topic12\", \"Topic12\", \"Topic12\", \"Topic12\", \"Topic12\", \"Topic12\", \"Topic12\", \"Topic12\", \"Topic12\", \"Topic12\", \"Topic12\", \"Topic12\", \"Topic12\", \"Topic12\", \"Topic12\", \"Topic12\", \"Topic12\", \"Topic12\", \"Topic12\", \"Topic12\", \"Topic12\", \"Topic12\", \"Topic12\", \"Topic12\", \"Topic12\", \"Topic12\", \"Topic12\", \"Topic12\", \"Topic12\", \"Topic12\", \"Topic12\", \"Topic12\", \"Topic12\", \"Topic12\", \"Topic12\", \"Topic12\", \"Topic12\", \"Topic12\", \"Topic12\", \"Topic12\", \"Topic12\", \"Topic12\", \"Topic12\", \"Topic12\", \"Topic12\", \"Topic12\"], \"logprob\": [30.0, 29.0, 28.0, 27.0, 26.0, 25.0, 24.0, 23.0, 22.0, 21.0, 20.0, 19.0, 18.0, 17.0, 16.0, 15.0, 14.0, 13.0, 12.0, 11.0, 10.0, 9.0, 8.0, 7.0, 6.0, 5.0, 4.0, 3.0, 2.0, 1.0, -3.7922000885009766, -4.386000156402588, -4.4232001304626465, -4.5605998039245605, -5.4430999755859375, -5.467599868774414, -5.549499988555908, -5.8917999267578125, -5.966400146484375, -6.247499942779541, -6.3618998527526855, -6.474699974060059, -5.046999931335449, -6.474299907684326, -6.593400001525879, -4.787300109863281, -6.769700050354004, -6.7855000495910645, -6.805300235748291, -6.823500156402588, -5.347899913787842, -6.892099857330322, -6.646299839019775, -6.915299892425537, -6.933700084686279, -6.914400100708008, -7.07919979095459, -7.120800018310547, -7.143199920654297, -7.147299766540527, -4.627500057220459, -5.855000019073486, -5.537600040435791, -5.023799896240234, -5.167799949645996, -5.081500053405762, -5.978000164031982, -5.021699905395508, -5.854899883270264, -4.499300003051758, -5.026599884033203, -6.025199890136719, -5.466300010681152, -2.463900089263916, -4.831299781799316, -5.56850004196167, -4.5441999435424805, -5.2067999839782715, -4.699399948120117, -5.200500011444092, -5.072199821472168, -3.293600082397461, -5.2347002029418945, -3.181299924850464, -4.368100166320801, -4.287899971008301, -4.678699970245361, -4.448500156402588, -5.082099914550781, -4.970099925994873, -5.024400234222412, -4.726399898529053, -4.959499835968018, -5.1305999755859375, -5.103499889373779, -4.663000106811523, -5.422599792480469, -4.709099769592285, -4.820199966430664, -6.362500190734863, -6.410999774932861, -6.439000129699707, -6.453400135040283, -6.466100215911865, -6.611100196838379, -4.6809000968933105, -6.697700023651123, -6.703400135040283, -5.348199844360352, -5.375899791717529, -6.128399848937988, -6.873000144958496, -4.873700141906738, -6.9969000816345215, -7.008299827575684, -7.043099880218506, -7.060699939727783, -6.462399959564209, -7.179599761962891, -7.195799827575684, -6.418700218200684, -7.2052998542785645, -5.932499885559082, -6.427499771118164, -7.2600998878479, -6.508200168609619, -5.566299915313721, -4.356599807739258, -5.201200008392334, -5.717100143432617, -3.6552000045776367, -5.711999893188477, -3.901099920272827, -4.658599853515625, -5.107800006866455, -5.3744001388549805, -3.2411999702453613, -4.9492998123168945, -4.668300151824951, -5.440800189971924, -3.8649001121520996, -4.278500080108643, -5.707699775695801, -3.3791000843048096, -3.068000078201294, -4.024400234222412, -4.178299903869629, -2.278700113296509, -4.741099834442139, -3.5685999393463135, -4.819200038909912, -4.492499828338623, -4.492800235748291, -4.170100212097168, -4.670199871063232, -4.579999923706055, -4.742400169372559, -4.786499977111816, -4.960299968719482, -2.968899965286255, -4.288300037384033, -5.812699794769287, -6.327199935913086, -2.8066999912261963, -7.288300037384033, -7.327300071716309, -4.456200122833252, -7.421500205993652, -7.43209981918335, -7.47730016708374, -7.48799991607666, -7.518199920654297, -7.526500225067139, -3.6756999492645264, -6.323999881744385, -7.603400230407715, -7.617599964141846, -7.676000118255615, -7.432199954986572, -6.918799877166748, -6.835899829864502, -7.827300071716309, -1.2960000038146973, -6.511300086975098, -7.922500133514404, -7.923299789428711, -5.643400192260742, -7.970399856567383, -8.06760025024414, -3.5824999809265137, -5.869900226593018, -4.937600135803223, -2.2648000717163086, -3.438199996948242, -3.5589001178741455, -6.260000228881836, -6.568699836730957, -6.5802001953125, -3.726300001144409, -3.4914000034332275, -4.442699909210205, -6.072299957275391, -5.162700176239014, -6.062300205230713, -4.155399799346924, -4.223999977111816, -5.284800052642822, -3.6133999824523926, -4.6682000160217285, -5.299499988555908, -5.314300060272217, -5.481100082397461, -4.095300197601318, -5.288599967956543, -5.725599765777588, -5.779300212860107, -5.600200176239014, -5.808899879455566, -6.148099899291992, -6.179500102996826, -6.418799877166748, -6.502600193023682, -6.719399929046631, -6.735199928283691, -6.758800029754639, -6.895899772644043, -7.087699890136719, -7.113699913024902, -7.117400169372559, -6.024799823760986, -7.22760009765625, -7.255300045013428, -7.284900188446045, -7.332799911499023, -7.423500061035156, -7.458799839019775, -7.478499889373779, -7.502500057220459, -7.522200107574463, -7.531199932098389, -7.592899799346924, -7.612800121307373, -7.6143999099731445, -6.53849983215332, -7.632999897003174, -7.658199787139893, -5.562600135803223, -7.659299850463867, -2.5201001167297363, -4.127099990844727, -5.569900035858154, -4.4380998611450195, -4.61929988861084, -3.4935998916625977, -6.402900218963623, -0.883899986743927, -5.815100193023682, -2.976300001144409, -5.57919979095459, -6.024099826812744, -5.874300003051758, -6.24560022354126, -6.662799835205078, -4.1107001304626465, -4.3643999099731445, -5.190299987792969, -5.917600154876709, -5.42519998550415, -4.459000110626221, -5.8003997802734375, -5.6483001708984375, -5.560400009155273, -4.635200023651123, -4.953400135040283, -5.5524001121521, -5.554200172424316, -5.624100208282471, -5.562699794769287, -5.765500068664551, -5.561299800872803, -5.478400230407715, -5.677199840545654, -5.7418999671936035, -5.497900009155273, -5.968699932098389, -6.2017998695373535, -6.538300037384033, -1.8539999723434448, -6.706099987030029, -6.834400177001953, -6.842199802398682, -6.918300151824951, -3.3577001094818115, -6.9721999168396, -5.944399833679199, -7.06689977645874, -7.067699909210205, -7.068699836730957, -7.172599792480469, -6.575399875640869, -7.271299839019775, -4.2170000076293945, -7.29640007019043, -7.305600166320801, -7.30679988861084, -7.325300216674805, -7.342400074005127, -7.371600151062012, -7.372499942779541, -7.373799800872803, -7.399799823760986, -7.430699825286865, -7.460599899291992, -5.968800067901611, -4.144700050354004, -4.850299835205078, -1.5816999673843384, -4.775400161743164, -4.394599914550781, -6.6483001708984375, -5.418300151824951, -3.6916000843048096, -6.501399993896484, -4.671299934387207, -6.115699768066406, -3.9035000801086426, -4.521299839019775, -5.6209001541137695, -5.754899978637695, -4.649199962615967, -4.538599967956543, -5.176599979400635, -5.73360013961792, -6.467800140380859, -3.0267999172210693, -5.3267998695373535, -5.6016998291015625, -5.022799968719482, -5.0625, -5.127200126647949, -5.239799976348877, -5.281099796295166, -4.7393999099731445, -5.568600177764893, -5.354599952697754, -5.401500225067139, -2.333699941635132, -3.0759999752044678, -3.327399969100952, -2.4321999549865723, -5.395699977874756, -4.470200061798096, -6.251100063323975, -6.253300189971924, -6.381899833679199, -1.854200005531311, -6.549099922180176, -6.568699836730957, -6.657199859619141, -6.75439977645874, -6.764500141143799, -6.776299953460693, -6.782199859619141, -6.789000034332275, -4.775100231170654, -6.777200222015381, -6.847799777984619, -6.875899791717529, -6.947199821472168, -7.003399848937988, -6.719099998474121, -7.0854997634887695, -7.111499786376953, -7.129499912261963, -6.01609992980957, -6.434599876403809, -5.1209001541137695, -5.684999942779541, -5.963699817657471, -5.796299934387207, -2.538599967956543, -4.691400051116943, -5.424300193786621, -5.543000221252441, -5.938499927520752, -6.1082000732421875, -4.63100004196167, -4.765200138092041, -3.623300075531006, -4.808000087738037, -5.888299942016602, -4.631999969482422, -5.613900184631348, -5.475500106811523, -4.628600120544434, -5.517600059509277, -5.186399936676025, -5.120500087738037, -5.251800060272217, -5.678299903869629, -5.654200077056885, -5.479599952697754, -5.764800071716309, -1.0368000268936157, -5.089300155639648, -5.117000102996826, -5.7418999671936035, -5.245699882507324, -6.034999847412109, -6.076099872589111, -5.280700206756592, -6.127699851989746, -6.179800033569336, -6.309500217437744, -6.476799964904785, -6.528200149536133, -6.644199848175049, -6.656099796295166, -6.167699813842773, -6.7469000816345215, -6.813600063323975, -4.612299919128418, -6.864799976348877, -7.147500038146973, -7.217899799346924, -7.239099979400635, -7.269999980926514, -7.280099868774414, -7.304599761962891, -7.3171000480651855, -5.9268999099731445, -7.363500118255615, -5.89300012588501, -6.226900100708008, -5.957399845123291, -4.4593000411987305, -6.08650016784668, -4.6539998054504395, -3.51419997215271, -5.643599987030029, -5.041200160980225, -4.5594000816345215, -5.160099983215332, -4.272799968719482, -5.5777997970581055, -3.3536999225616455, -4.76200008392334, -5.2281999588012695, -5.24459981918335, -5.136499881744385, -4.665999889373779, -4.137599945068359, -5.474999904632568, -4.829699993133545, -4.924600124359131, -4.983500003814697, -4.983099937438965, -4.542699813842773, -4.494200229644775, -4.578700065612793, -5.3292999267578125, -4.572999954223633, -4.5152997970581055, -5.12529993057251, -4.51140022277832, -4.5640997886657715, -4.757599830627441, -5.212600231170654, -5.33519983291626, -5.378699779510498, -5.519199848175049, -5.594799995422363, -5.648900032043457, -5.696000099182129, -5.766600131988525, -6.0254998207092285, -6.083099842071533, -6.255899906158447, -6.3470001220703125, -6.383299827575684, -6.337699890136719, -6.446700096130371, -6.52269983291626, -6.530300140380859, -6.531700134277344, -6.609300136566162, -6.624000072479248, -6.639400005340576, -6.644599914550781, -6.697000026702881, -6.6975998878479, -6.765500068664551, -6.799600124359131, -6.823200225830078, -5.8632001876831055, -5.16510009765625, -5.154300212860107, -3.76990008354187, -2.295300006866455, -5.191100120544434, -5.309999942779541, -6.2403998374938965, -3.4107000827789307, -4.1691999435424805, -3.896199941635132, -4.862199783325195, -5.056399822235107, -4.5152997970581055, -5.180300235748291, -5.884399890899658, -2.299999952316284, -5.633200168609619, -4.61959981918335, -3.7288999557495117, -4.745100021362305, -4.005899906158447, -4.859000205993652, -4.511499881744385, -4.548299789428711, -4.606900215148926, -4.312699794769287, -5.179500102996826, -5.182499885559082, -2.972100019454956, -3.501499891281128, -3.7207999229431152, -4.039000034332275, -4.104899883270264, -4.935800075531006, -4.864099979400635, -5.134799957275391, -2.2379000186920166, -5.541200160980225, -5.653200149536133, -5.718100070953369, -3.5329999923706055, -5.985199928283691, -6.1656999588012695, -5.553599834442139, -6.348400115966797, -6.358799934387207, -6.389599800109863, -6.4232001304626465, -6.456099987030029, -6.5690999031066895, -6.554699897766113, -4.865200042724609, -6.657299995422363, -6.659900188446045, -5.902699947357178, -6.756499767303467, -6.774700164794922, -6.7758002281188965, -4.112100124359131, -4.888899803161621, -3.3213999271392822, -4.992599964141846, -5.976900100708008, -5.071100234985352, -4.830699920654297, -4.225399971008301, -4.930300235748291, -3.4944000244140625, -4.751500129699707, -5.305799961090088, -4.138500213623047, -3.149199962615967, -3.530400037765503, -5.149400234222412, -3.9697000980377197, -4.406700134277344, -5.032100200653076, -4.938799858093262, -5.268599987030029, -5.265999794006348, -1.6370999813079834, -2.9435999393463135, -3.5699000358581543, -4.243100166320801, -4.285799980163574, -4.696599960327148, -4.937900066375732, -5.288099765777588, -5.368199825286865, -5.530099868774414, -5.8414998054504395, -6.05210018157959, -6.092199802398682, -5.733399868011475, -6.16510009765625, -6.206900119781494, -4.6570000648498535, -6.3105998039245605, -6.3821001052856445, -6.3765997886657715, -6.464900016784668, -6.480999946594238, -6.555099964141846, -6.564000129699707, -6.5971999168396, -6.555600166320801, -6.66510009765625, -6.665299892425537, -6.665999889373779, -6.666999816894531, -4.177299976348877, -3.3831000328063965, -5.329800128936768, -5.373700141906738, -5.681600093841553, -5.2083001136779785, -4.496500015258789, -3.121299982070923, -4.40369987487793, -5.665900230407715, -5.03849983215332, -3.440000057220459, -5.472599983215332, -4.580599784851074, -5.676799774169922, -4.181700229644775, -5.0295000076293945, -5.02839994430542, -4.623000144958496, -4.740099906921387, -5.430699825286865, -5.453000068664551, -5.384900093078613, -2.8055999279022217, -3.1196000576019287, -2.115799903869629, -3.92330002784729, -4.316400051116943, -4.433499813079834, -4.559000015258789, -4.672900199890137, -4.6946001052856445, -4.710000038146973, -4.767099857330322, -4.785799980163574, -4.993899822235107, -5.007800102233887, -5.026500225067139, -5.055500030517578, -5.120800018310547, -5.1631999015808105, -5.312300205230713, -5.340099811553955, -5.36269998550415, -5.500100135803223, -5.565299987792969, -5.575500011444092, -5.582900047302246, -5.633699893951416, -5.6427998542785645, -5.656099796295166, -5.744900226593018, -5.762700080871582, -2.9630000591278076, -4.210000038146973, -4.4842000007629395, -5.029300212860107, -5.303500175476074, -5.45959997177124, -5.428400039672852, -4.247300148010254, -4.966899871826172, -5.2418999671936035, -5.4278998374938965, -2.6054000854492188, -3.103600025177002, -3.214600086212158, -3.4151999950408936, -4.207300186157227, -5.079400062561035, -5.156700134277344, -5.2153000831604, -5.231400012969971, -5.209000110626221, -5.310500144958496, -5.625400066375732, -5.711699962615967, -5.7164998054504395, -5.788400173187256, -4.155799865722656, -5.872399806976318, -5.890399932861328, -6.051400184631348, -6.091700077056885, -6.14769983291626, -6.1579999923706055, -6.172299861907959, -6.1859002113342285, -6.2006001472473145, -6.256800174713135, -6.2866997718811035, -6.411200046539307, -6.531099796295166, -6.551599979400635, -5.684000015258789, -5.074100017547607, -4.418000221252441, -3.658099889755249, -4.717899799346924, -4.168300151824951, -4.977700233459473, -3.717099905014038, -4.789899826049805, -4.784599781036377, -4.76800012588501, -5.263700008392334, -4.207900047302246, -4.353700160980225, -5.397299766540527, -5.218699932098389, -4.513500213623047, -5.108500003814697, -4.203499794006348, -4.36929988861084, -4.7846999168396, -4.236100196838379, -4.615699768066406, -4.365099906921387, -4.729400157928467, -5.118899822235107, -4.862199783325195, -5.066100120544434], \"loglift\": [30.0, 29.0, 28.0, 27.0, 26.0, 25.0, 24.0, 23.0, 22.0, 21.0, 20.0, 19.0, 18.0, 17.0, 16.0, 15.0, 14.0, 13.0, 12.0, 11.0, 10.0, 9.0, 8.0, 7.0, 6.0, 5.0, 4.0, 3.0, 2.0, 1.0, 1.7223000526428223, 1.7202999591827393, 1.7201000452041626, 1.7156000137329102, 1.7121000289916992, 1.711300015449524, 1.7103999853134155, 1.7050000429153442, 1.7034000158309937, 1.6965999603271484, 1.6933000087738037, 1.6895999908447266, 1.6881999969482422, 1.6875, 1.6850999593734741, 1.680299997329712, 1.6778000593185425, 1.6765999794006348, 1.6761000156402588, 1.6753000020980835, 1.6750999689102173, 1.6719000339508057, 1.6712000370025635, 1.6706000566482544, 1.669700026512146, 1.6693999767303467, 1.6612999439239502, 1.6585999727249146, 1.6572999954223633, 1.656999945640564, 1.644700050354004, 1.6497999429702759, 1.628100037574768, 1.569200038909912, 1.576300024986267, 1.554900050163269, 1.6030000448226929, 1.516800045967102, 1.5760999917984009, 1.4241000413894653, 1.4538999795913696, 1.559000015258789, 1.4470000267028809, 0.833899974822998, 1.298200011253357, 1.4460999965667725, 1.1258000135421753, 1.3040000200271606, 1.1231000423431396, 1.2264000177383423, 1.1407999992370605, 0.10559999942779541, 1.200700044631958, -0.6021999716758728, 0.3425999879837036, 0.2502000033855438, 0.4641000032424927, 0.1331000030040741, 0.8240000009536743, 0.3750999867916107, 0.5023999810218811, -0.6248000264167786, -0.32440000772476196, 0.20640000700950623, -0.900600016117096, 1.8158999681472778, 1.8086999654769897, 1.8077000379562378, 1.791200041770935, 1.7879999876022339, 1.7862999439239502, 1.7853000164031982, 1.7847000360488892, 1.7819000482559204, 1.7782000303268433, 1.7769999504089355, 1.7745000123977661, 1.7741999626159668, 1.7734999656677246, 1.7728999853134155, 1.7694000005722046, 1.7654999494552612, 1.761199951171875, 1.7582000494003296, 1.7575000524520874, 1.7552000284194946, 1.75409996509552, 1.7484999895095825, 1.7458000183105469, 1.7446000576019287, 1.7443000078201294, 1.7436000108718872, 1.7430000305175781, 1.742400050163269, 1.7395999431610107, 1.7375999689102173, 1.7268999814987183, 1.6497999429702759, 1.6758999824523926, 1.6859999895095825, 1.5740000009536743, 1.6801999807357788, 1.5069999694824219, 1.5621000528335571, 1.6014000177383423, 1.6234999895095825, 1.340399980545044, 1.551800012588501, 1.5133999586105347, 1.5983999967575073, 1.3420000076293945, 1.4072999954223633, 1.6353000402450562, 1.125, 1.0335999727249146, 1.1751999855041504, 1.045300006866455, 0.3005000054836273, 1.2513999938964844, 0.49959999322891235, 1.1750999689102173, 0.7250999808311462, 0.6988999843597412, 0.3483000099658966, 0.8242999911308289, 0.6062999963760376, 0.5946000218391418, 0.5586000084877014, 0.8797000050544739, 2.333199977874756, 2.327899932861328, 2.301800012588501, 2.2797999382019043, 2.2016000747680664, 2.196199893951416, 2.190999984741211, 2.1830999851226807, 2.177799940109253, 2.176300048828125, 2.1695001125335693, 2.167799949645996, 2.163100004196167, 2.161799907684326, 2.161600112915039, 2.160099983215332, 2.1491000652313232, 2.146699905395508, 2.136399984359741, 2.1191000938415527, 2.111999988555908, 2.107800006866455, 2.1073999404907227, 2.103100061416626, 2.0887999534606934, 2.0873000621795654, 2.087100028991699, 2.078900098800659, 2.0764999389648438, 2.053499937057495, 2.048099994659424, 2.0518999099731445, 1.982100009918213, 1.8034000396728516, 1.7533999681472778, 1.6586999893188477, 1.9400999546051025, 1.9430999755859375, 1.9371000528335571, 0.8118000030517578, 0.6101999878883362, 0.8410999774932861, 1.5592999458312988, 1.1030999422073364, 1.4982999563217163, 0.34860000014305115, 0.35760000348091125, 0.9800000190734863, -0.3156000077724457, 0.4745999872684479, 0.7731000185012817, 0.6643000245094299, 0.7699999809265137, -1.5161000490188599, 0.04839999973773956, 0.6086000204086304, 0.7578999996185303, 0.2223999947309494, -0.3325999975204468, 2.291300058364868, 2.289799928665161, 2.277100086212158, 2.2720000743865967, 2.2565999031066895, 2.2553000450134277, 2.2528998851776123, 2.241499900817871, 2.2221999168395996, 2.219399929046631, 2.218899965286255, 2.2086000442504883, 2.205899953842163, 2.202399969100952, 2.198699951171875, 2.191999912261963, 2.179500102996826, 2.1742000579833984, 2.1712000370025635, 2.1675000190734863, 2.164400100708008, 2.162899971008301, 2.1526999473571777, 2.1493000984191895, 2.1491000652313232, 2.1458001136779785, 2.1458001136779785, 2.141400098800659, 2.1412999629974365, 2.141200065612793, 2.115000009536743, 2.1291000843048096, 2.1282999515533447, 2.0989999771118164, 2.1003000736236572, 2.04229998588562, 2.100800037384033, 1.695199966430664, 2.020699977874756, 1.7343000173568726, 1.9730000495910645, 2.0195999145507812, 1.9609999656677246, 2.0062999725341797, 2.0573999881744385, 1.3655999898910522, 1.3056000471115112, 1.4775999784469604, 1.7415000200271606, 1.4595999717712402, 0.6837999820709229, 1.292199969291687, 1.0786999464035034, 0.9751999974250793, -0.11680000275373459, 0.24619999527931213, 0.9570000171661377, 0.9024999737739563, 0.8866000175476074, 0.7031000256538391, 1.0348000526428223, 0.27880001068115234, -0.2921000123023987, 0.014399999752640724, -0.2150000035762787, 2.397900104522705, 2.3821001052856445, 2.3708999156951904, 2.350399971008301, 2.348900079727173, 2.337599992752075, 2.326200008392334, 2.325500011444092, 2.318000078201294, 2.3145999908447266, 2.3125, 2.3041000366210938, 2.302000045776367, 2.3018999099731445, 2.301800012588501, 2.2892000675201416, 2.2802000045776367, 2.276099920272827, 2.272599935531616, 2.272599935531616, 2.2713000774383545, 2.2711000442504883, 2.2685000896453857, 2.2660000324249268, 2.2616000175476074, 2.2613000869750977, 2.2613000869750977, 2.2574000358581543, 2.252500057220459, 2.24780011177063, 2.224100112915039, 2.1201000213623047, 2.1085000038146973, 1.7160999774932861, 2.028899908065796, 1.982699990272522, 2.194999933242798, 2.0467000007629395, 1.802899956703186, 2.1398000717163086, 1.8140000104904175, 2.0683999061584473, 1.6233999729156494, 1.7453999519348145, 1.905900001525879, 1.8875000476837158, 1.5003999471664429, 1.4200999736785889, 1.5439000129699707, 1.7551000118255615, 2.1110999584198, -0.44760000705718994, 1.2753000259399414, 1.4681999683380127, 0.8833000063896179, 0.916100025177002, 0.9453999996185303, 0.9732999801635742, 0.8292999863624573, -0.6378999948501587, 1.126099944114685, 0.3312999904155731, 0.29010000824928284, 2.5792999267578125, 2.577899932861328, 2.5771000385284424, 2.552999973297119, 2.552500009536743, 2.5295000076293945, 2.515500068664551, 2.5146000385284424, 2.5067999362945557, 2.503999948501587, 2.4939000606536865, 2.4921998977661133, 2.4844000339508057, 2.475100040435791, 2.474100112915039, 2.472899913787842, 2.4723000526428223, 2.47160005569458, 2.4679999351501465, 2.4653000831604004, 2.465100049972534, 2.4621999263763428, 2.4539999961853027, 2.447200059890747, 2.4409000873565674, 2.436500072479248, 2.433000087738037, 2.430500030517578, 2.4302000999450684, 2.422600030899048, 2.345900058746338, 2.3540000915527344, 2.3673999309539795, 2.348599910736084, 1.9797999858856201, 2.210700035095215, 2.2713000774383545, 2.2685999870300293, 2.3138999938964844, 2.3443000316619873, 2.0527000427246094, 2.0548999309539795, 1.7217999696731567, 1.9190000295639038, 2.110599994659424, 1.2079999446868896, 1.792799949645996, 1.6822999715805054, 0.8476999998092651, 1.5650999546051025, 1.080199956893921, 0.5710999965667725, 0.7423999905586243, 1.4622999429702759, 1.2546000480651855, -0.29330000281333923, 1.1200000047683716, 2.698199987411499, 2.674999952316284, 2.674299955368042, 2.6538000106811523, 2.6391000747680664, 2.6389000415802, 2.6366000175476074, 2.6352999210357666, 2.6333999633789062, 2.630000114440918, 2.6208999156951904, 2.6073999404907227, 2.602799892425537, 2.591599941253662, 2.590399980545044, 2.584399938583374, 2.575700044631958, 2.5731000900268555, 2.568700075149536, 2.5669000148773193, 2.5272998809814453, 2.515899896621704, 2.512399911880493, 2.506999969482422, 2.5053000450134277, 2.5009000301361084, 2.498699903488159, 2.4911999702453613, 2.4900999069213867, 2.488300085067749, 2.4881999492645264, 2.478600025177002, 2.4000000953674316, 2.462100028991699, 2.385499954223633, 2.2630999088287354, 2.4072000980377197, 2.351900100708008, 2.29259991645813, 2.3334999084472656, 2.164299964904785, 2.3564999103546143, 1.8325999975204468, 2.1305999755859375, 2.181299924850464, 2.1565001010894775, 2.061500072479248, 1.8588000535964966, 1.5540000200271606, 2.1312999725341797, 1.5384999513626099, 1.5844999551773071, 1.5127999782562256, 1.4660999774932861, 0.9337000250816345, 0.7896000146865845, 0.6208999752998352, 1.6994999647140503, -0.0689999982714653, -0.41370001435279846, 0.8690000176429749, 2.8210999965667725, 2.8203001022338867, 2.816999912261963, 2.805999994277954, 2.8010001182556152, 2.800600051879883, 2.795300006866455, 2.792099952697754, 2.789799928665161, 2.787600040435791, 2.7836999893188477, 2.769200086593628, 2.7653000354766846, 2.752500057220459, 2.7448999881744385, 2.7416000366210938, 2.7393999099731445, 2.7356998920440674, 2.7281999588012695, 2.727400064468384, 2.7272000312805176, 2.7190001010894775, 2.7172999382019043, 2.71560001373291, 2.7149999141693115, 2.708899974822998, 2.7088000774383545, 2.7004001140594482, 2.696000099182129, 2.6928999423980713, 2.6898999214172363, 2.6526999473571777, 2.6338000297546387, 2.481300115585327, 2.242799997329712, 2.515700101852417, 2.516700029373169, 2.6452999114990234, 1.8731000423431396, 2.072200059890747, 1.9636000394821167, 2.210099935531616, 2.2639000415802, 1.9938000440597534, 2.132499933242798, 2.47379994392395, 0.2791000008583069, 2.279900074005127, 1.3391000032424927, 0.3725999891757965, 1.3276000022888184, 0.49810001254081726, 1.2704999446868896, 0.6880999803543091, -0.029999999329447746, 0.02810000069439411, -1.014799952507019, 0.8147000074386597, -0.4717999994754791, 2.9168999195098877, 2.9147000312805176, 2.9131999015808105, 2.910399913787842, 2.9093000888824463, 2.8956000804901123, 2.8917999267578125, 2.890199899673462, 2.8864998817443848, 2.875200033187866, 2.8698999881744385, 2.866499900817871, 2.8573999404907227, 2.850600004196167, 2.8373000621795654, 2.8222999572753906, 2.8213999271392822, 2.8203999996185303, 2.8173999786376953, 2.8141000270843506, 2.810699939727783, 2.79830002784729, 2.7948999404907227, 2.789099931716919, 2.7876999378204346, 2.787400007247925, 2.780400037765503, 2.7748000621795654, 2.7723000049591064, 2.772200107574463, 2.726900100708008, 2.697200059890747, 2.5044000148773193, 2.5725998878479004, 2.7014000415802, 2.5750999450683594, 2.4618000984191895, 2.316800117492676, 2.363100051879883, 1.8425999879837036, 2.238600015640259, 2.4267001152038574, 1.8401000499725342, 0.9190000295639038, 0.5712000131607056, 2.06030011177063, 0.5343000292778015, 0.8224999904632568, 1.188599944114685, 0.2475000023841858, 1.158400058746338, 0.5112000107765198, 3.0543999671936035, 3.051500082015991, 3.048099994659424, 3.0409998893737793, 3.0404000282287598, 3.0327999591827393, 3.026700019836426, 3.014899969100952, 3.0116000175476074, 3.003200054168701, 2.9858999252319336, 2.9702999591827393, 2.9670000076293945, 2.966200113296509, 2.960599899291992, 2.956700086593628, 2.9509999752044678, 2.946500062942505, 2.9388999938964844, 2.937999963760376, 2.9293999671936035, 2.927500009536743, 2.918299913406372, 2.917099952697754, 2.9128000736236572, 2.9126999378204346, 2.9035000801086426, 2.9035000801086426, 2.90339994430542, 2.9031999111175537, 2.897700071334839, 2.727299928665161, 2.827399969100952, 2.779400110244751, 2.7994000911712646, 2.684799909591675, 2.445199966430664, 2.085599899291992, 2.3966000080108643, 2.662100076675415, 2.4256999492645264, 1.7835999727249146, 2.48799991607666, 1.787600040435791, 2.5332000255584717, 0.9610999822616577, 1.6610000133514404, 1.4283000230789185, 0.5633000135421753, 0.7868000268936157, 1.815600037574768, 1.205299973487854, -0.8033000230789185, 3.206700086593628, 3.205199956893921, 3.1998000144958496, 3.198499917984009, 3.1926000118255615, 3.1903998851776123, 3.187700033187866, 3.184999942779541, 3.1844000816345215, 3.184000015258789, 3.182499885559082, 3.181999921798706, 3.1754000186920166, 3.1749000549316406, 3.174299955368042, 3.1731998920440674, 3.170799970626831, 3.169100046157837, 3.1624999046325684, 3.1612000465393066, 3.160099983215332, 3.152899980545044, 3.1491000652313232, 3.1484999656677246, 3.1480000019073486, 3.1447999477386475, 3.1442999839782715, 3.143399953842163, 3.137399911880493, 3.1361000537872314, 2.94569993019104, 2.9918999671936035, 2.900899887084961, 2.879699945449829, 2.9888999462127686, 3.0035998821258545, 2.9556000232696533, 0.9703999757766724, 0.23270000517368317, 1.195199966430664, 0.7217000126838684, 3.33489990234375, 3.334399938583374, 3.3336000442504883, 3.3320999145507812, 3.3220999240875244, 3.2969000339508057, 3.2934000492095947, 3.2899999618530273, 3.289900064468384, 3.2880001068115234, 3.268699884414673, 3.2662999629974365, 3.2599000930786133, 3.259500026702881, 3.2537999153137207, 3.2509000301361084, 3.246500015258789, 3.2448999881744385, 3.229099988937378, 3.2246999740600586, 3.2184998989105225, 3.216900110244751, 3.21560001373291, 3.2139999866485596, 3.2121999263763428, 3.2053000926971436, 3.2014999389648438, 3.1844000816345215, 3.1661999225616455, 3.1628000736236572, 3.138400077819824, 3.109999895095825, 2.9911000728607178, 2.9045000076293945, 3.0176000595092773, 2.944000005722046, 3.027100086212158, 2.7792000770568848, 2.95169997215271, 2.9467999935150146, 2.90939998626709, 3.011699914932251, 2.7007999420166016, 2.559299945831299, 3.0123000144958496, 2.864500045776367, 2.2098000049591064, 2.6501998901367188, 1.7026000022888184, 1.6887999773025513, 2.1661999225616455, 0.9930999875068665, 1.5973999500274658, 0.3456000089645386, 0.6786999702453613, 2.4447999000549316, -0.3582000136375427, 1.4429999589920044]}, \"token.table\": {\"Topic\": [4, 5, 7, 7, 6, 6, 2, 7, 8, 5, 9, 10, 9, 2, 10, 2, 4, 5, 6, 7, 9, 10, 1, 4, 6, 6, 1, 2, 7, 1, 2, 5, 9, 1, 11, 6, 1, 5, 12, 12, 11, 1, 1, 3, 11, 9, 1, 9, 2, 11, 12, 1, 2, 3, 8, 3, 4, 6, 7, 2, 12, 11, 6, 8, 12, 11, 11, 5, 6, 10, 10, 1, 9, 2, 11, 1, 5, 6, 2, 3, 7, 1, 2, 2, 6, 7, 11, 12, 2, 4, 6, 7, 8, 3, 12, 7, 1, 4, 1, 7, 4, 5, 1, 2, 3, 4, 5, 6, 7, 8, 9, 10, 2, 4, 7, 9, 4, 11, 12, 2, 9, 12, 1, 2, 1, 3, 4, 5, 6, 8, 12, 11, 3, 8, 1, 1, 2, 4, 6, 7, 8, 9, 2, 11, 7, 10, 6, 2, 3, 4, 4, 10, 8, 2, 10, 2, 10, 4, 1, 2, 3, 11, 1, 11, 1, 2, 12, 3, 11, 6, 7, 1, 2, 5, 10, 1, 3, 5, 12, 6, 7, 12, 1, 7, 9, 2, 1, 2, 4, 5, 6, 7, 11, 12, 1, 2, 3, 4, 6, 9, 8, 5, 6, 6, 4, 2, 8, 12, 1, 5, 11, 1, 4, 9, 10, 2, 8, 9, 2, 6, 8, 2, 10, 1, 7, 10, 1, 4, 7, 4, 5, 6, 7, 8, 10, 12, 1, 4, 10, 9, 10, 6, 8, 5, 8, 2, 7, 9, 10, 8, 10, 1, 2, 9, 1, 2, 6, 7, 11, 1, 2, 3, 4, 8, 10, 1, 2, 4, 6, 7, 4, 3, 2, 6, 7, 4, 10, 12, 1, 10, 12, 1, 3, 5, 8, 9, 1, 2, 6, 9, 8, 5, 10, 3, 8, 8, 1, 2, 3, 4, 5, 10, 12, 6, 5, 7, 1, 5, 6, 8, 11, 1, 4, 5, 6, 7, 10, 1, 9, 12, 1, 2, 3, 1, 9, 7, 4, 8, 2, 1, 7, 8, 12, 4, 1, 5, 5, 8, 1, 3, 4, 5, 9, 12, 6, 3, 2, 7, 12, 1, 3, 4, 6, 7, 1, 2, 4, 5, 6, 7, 12, 12, 5, 7, 8, 5, 8, 1, 12, 1, 2, 3, 4, 5, 6, 8, 9, 12, 1, 3, 4, 5, 6, 8, 6, 9, 1, 3, 9, 1, 2, 10, 11, 1, 1, 5, 9, 1, 5, 4, 1, 9, 10, 2, 12, 1, 5, 1, 4, 9, 12, 9, 1, 12, 1, 2, 4, 5, 8, 1, 5, 8, 10, 5, 11, 5, 6, 8, 10, 4, 3, 5, 5, 5, 12, 7, 5, 12, 3, 10, 5, 12, 5, 10, 3, 9, 11, 6, 11, 9, 11, 3, 2, 3, 8, 3, 1, 2, 1, 7, 5, 7, 1, 3, 7, 9, 1, 2, 3, 7, 8, 12, 3, 5, 6, 10, 2, 7, 12, 5, 6, 6, 11, 7, 11, 11, 3, 5, 6, 9, 1, 2, 3, 1, 2, 3, 11, 8, 1, 7, 10, 12, 4, 6, 12, 1, 5, 5, 1, 5, 12, 8, 6, 1, 10, 12, 4, 10, 1, 5, 8, 1, 5, 6, 4, 1, 2, 3, 5, 7, 8, 9, 7, 10, 5, 7, 8, 11, 9, 1, 9, 4, 5, 6, 8, 10, 12, 6, 8, 2, 6, 10, 2, 6, 6, 1, 6, 12, 11, 11, 9, 5, 11, 2, 1, 12, 11, 6, 1, 4, 6, 11, 11, 9, 12, 1, 2, 5, 11, 5, 4, 1, 8, 4, 7, 3, 6, 11, 1, 2, 4, 5, 6, 8, 9, 1, 3, 8, 1, 5, 6, 1, 3, 4, 5, 7, 8, 1, 2, 3, 7, 8, 9, 6, 7, 8, 9, 1, 3, 2, 10, 11, 10, 1, 8, 12, 7, 1, 3, 5, 6, 7, 8, 1, 4, 6, 9, 1, 6, 11, 4, 10, 5, 1, 2, 4, 5, 8, 10, 11, 1, 2, 1, 10, 1, 4, 6, 12, 5, 3, 1, 9, 12, 1, 2, 4, 4, 5, 10, 1, 1, 2, 3, 4, 6, 12, 6, 1, 2, 4, 5, 7, 8, 11, 1, 2, 7, 1, 4, 6, 1, 1, 2, 5, 12, 1, 2, 3, 4, 7, 11, 4, 1, 2, 3, 5, 10, 2, 9, 6, 9, 10, 12, 8, 1, 2, 6, 1, 4, 5, 6, 7, 2, 9, 10, 12, 6, 8, 5, 3, 4, 1, 11, 8, 9, 12, 4, 1, 2, 3, 4, 6, 7, 12, 1, 2, 7, 2, 8, 5, 8, 7, 12, 8, 7, 10, 10, 1, 5, 8, 1, 8, 9, 11, 1, 8, 3, 12, 2, 1, 3, 9, 1, 3, 8, 7, 12, 2, 4, 9, 1, 6, 8, 1, 2, 3, 4, 5, 6, 7, 8, 9, 11, 4, 8, 3, 1, 5, 9, 12, 1, 5, 8, 12, 1, 5, 9, 12, 2, 4, 7, 10, 11, 3, 10, 5, 7, 2, 12, 1, 2, 4, 6, 7, 9, 10, 2, 6, 7, 10, 1, 3, 6, 7, 9, 10, 11, 12, 2, 7, 5, 12, 1, 2, 3, 6, 8, 11, 11, 1, 4, 8, 9, 8, 6, 1, 10, 1, 2, 3, 5, 6, 7, 9, 10, 3, 4, 7, 12, 8, 1, 3, 4, 5, 12, 7, 8, 10, 4, 7, 8, 2, 6, 7, 8, 11, 12, 1, 5, 3, 1, 3, 4, 5, 6, 7, 10, 11, 1, 4, 5, 8, 1, 4, 8, 9, 5, 7, 8, 1, 6, 9, 10, 2, 12, 2, 4, 1, 4, 5, 6, 2, 2, 6, 7, 9, 10, 11, 3, 4, 6, 9, 2, 9, 10, 3, 8, 9, 12, 1, 7, 8, 2, 6, 7, 9, 5, 1, 2, 8, 11, 9, 12, 2, 11, 12, 1, 4, 3, 1, 2, 4, 5, 8, 4, 5, 10, 12, 1, 1, 8, 10, 1, 2, 3, 4, 5, 8, 9, 10, 11, 7, 1, 1, 4, 12, 1, 12, 7, 9, 10, 1, 2, 8, 10, 7, 4, 6, 2, 10, 1, 12, 1, 9, 9, 9, 10, 11, 3, 1, 4, 9, 8, 2, 4, 9, 1, 4, 6, 1, 4, 1, 8, 1, 2, 5, 2, 6, 9, 3, 9, 2, 9, 1, 5, 12, 7, 1, 2, 5, 8, 1, 4, 4, 7, 11, 1, 2, 3, 5, 6, 7, 8, 9, 12, 4, 5, 1, 3, 3, 8, 1, 2, 3, 4, 6, 7, 8, 12, 9, 10, 10, 1, 1, 2, 9, 1, 4, 8, 12, 1, 5, 10, 5, 1, 2, 9, 4, 2, 2, 5, 6, 9, 10, 2, 3, 2, 2, 1, 7, 11, 6, 7, 9, 12, 1, 7, 8, 12, 8, 1, 2, 1, 2, 3, 4, 7, 8, 7, 10, 1, 2, 7, 1, 2, 3, 5, 6, 7, 8, 9, 12, 3, 2, 6, 7, 9, 11, 8, 9, 2, 8, 8, 7, 1, 11, 12, 2, 6, 3, 7, 8, 1, 2, 3, 4, 12, 5, 4, 1, 2, 4, 1, 2, 3, 4, 7, 9, 10, 6, 8, 6, 1, 4, 1, 6, 1, 6, 12, 1, 6, 8, 1, 2, 5, 12, 12, 1, 2, 8, 9, 12, 9, 6, 12, 2, 1, 8, 10, 9, 10, 7, 8, 6, 1, 9, 10, 1, 2, 4, 6, 8, 1, 4, 6, 7, 8, 10, 1, 12, 8, 2, 4, 9, 1, 2, 3, 3, 7, 3, 4, 5, 6, 12, 1, 2, 3, 5, 6, 9, 10, 12, 5, 7, 5, 9, 3, 1, 6, 12, 12, 11, 4, 6, 8, 10], \"Freq\": [0.9266745448112488, 0.030028263106942177, 0.9308761358261108, 0.9509044885635376, 0.9399977922439575, 0.9560766220092773, 0.9420831799507141, 0.9437517523765564, 0.8250882625579834, 0.8292378187179565, 0.8595283031463623, 0.8151446580886841, 0.9708173871040344, 0.9724906086921692, 0.9248098134994507, 0.2970886528491974, 0.07275640964508057, 0.002021011197939515, 0.056588314473629, 0.42037034034729004, 0.06871438026428223, 0.08286146074533463, 0.9218266010284424, 0.0179576613008976, 0.053872983902692795, 0.9439351558685303, 0.21326079964637756, 0.7327422499656677, 0.04374580457806587, 0.23329292237758636, 0.7600833773612976, 0.8664664030075073, 0.9012555480003357, 0.943200409412384, 0.9750809073448181, 0.901282012462616, 0.31593596935272217, 0.6726378798484802, 0.9436620473861694, 0.9941217303276062, 0.9728795289993286, 0.9269824028015137, 0.12348555773496628, 0.8745484352111816, 0.9677459001541138, 0.9326606392860413, 0.09537643194198608, 0.8822319507598877, 0.09027309715747833, 0.8124578595161438, 0.09027309715747833, 0.19795799255371094, 0.008459743112325668, 0.7928471565246582, 0.000338389741955325, 0.6782168745994568, 0.113036148250103, 0.1695542186498642, 0.9374687075614929, 0.9573237299919128, 0.9816831946372986, 0.9105211496353149, 0.8760968446731567, 0.9652535915374756, 0.9040892124176025, 0.9622899889945984, 0.9897769093513489, 0.7830259799957275, 0.15660519897937775, 0.882233738899231, 0.9880689382553101, 0.9534364938735962, 0.03639070689678192, 0.9430451393127441, 0.030420809984207153, 0.08172588050365448, 0.8172588348388672, 0.08172588050365448, 0.9491584897041321, 0.7775500416755676, 0.7968240976333618, 0.968718945980072, 0.9697732329368591, 0.10589132457971573, 0.098831906914711, 0.5859320163726807, 0.13412901759147644, 0.07765363901853561, 0.2319662719964981, 0.4197484850883484, 0.2319662719964981, 0.06627608090639114, 0.04418405145406723, 0.8255093693733215, 0.9327048063278198, 0.8461752533912659, 0.18263056874275208, 0.8130005598068237, 0.9070273041725159, 0.08777683973312378, 0.8912053108215332, 0.9714406728744507, 0.0027010298799723387, 0.09723707288503647, 0.0702267736196518, 0.37814417481422424, 0.029711328446865082, 0.17556694149971008, 0.17016488313674927, 0.013505149632692337, 0.05131956562399864, 0.010804119519889355, 0.31894639134407043, 0.2806728184223175, 0.36997780203819275, 0.025515710934996605, 0.1639506071805954, 0.7286694049835205, 0.09108367562294006, 0.7805517315864563, 0.12235675752162933, 0.09493196755647659, 0.041603364050388336, 0.9152740240097046, 0.41037192940711975, 0.0706377923488617, 0.0027521217707544565, 0.49232402443885803, 0.0009173739235848188, 0.02140539139509201, 0.0018347478471696377, 0.8993697166442871, 0.7656857967376709, 0.20418287813663483, 0.961331307888031, 0.607977569103241, 0.06988248229026794, 0.10482372343540192, 0.006988247856497765, 0.02795299142599106, 0.006988247856497765, 0.17470620572566986, 0.9664617776870728, 0.02521204575896263, 0.7256175875663757, 0.25238871574401855, 0.8207616209983826, 0.9862155914306641, 0.00764508219435811, 0.969659686088562, 0.8014687895774841, 0.1335781365633011, 0.9852001070976257, 0.95865398645401, 0.036039624363183975, 0.4442914128303528, 0.537826418876648, 0.9287489652633667, 0.05004753917455673, 0.33365026116371155, 0.508816659450531, 0.10635101795196533, 0.009199999272823334, 0.9889999628067017, 0.03732065483927727, 0.2425842434167862, 0.7090924382209778, 0.7546552419662476, 0.8955735564231873, 0.15631820261478424, 0.78159099817276, 0.16494040191173553, 0.235629141330719, 0.5890728831291199, 0.8085893988609314, 0.34079667925834656, 0.04445173963904381, 0.5408294796943665, 0.06667760759592056, 0.10397876799106598, 0.8763924837112427, 0.9415332078933716, 0.8864328265190125, 0.06648246198892593, 0.02216082066297531, 0.9832839965820312, 0.045529428869485855, 0.3035295307636261, 0.25041186809539795, 0.06070590391755104, 0.06070590391755104, 0.11382357031106949, 0.03794119134545326, 0.12900005280971527, 0.26927098631858826, 0.04039064794778824, 0.09424484521150589, 0.16156259179115295, 0.36351582407951355, 0.06731774657964706, 0.9403840899467468, 0.9277564883232117, 0.9450365900993347, 0.9507967829704285, 0.9460281729698181, 0.4356050193309784, 0.13068149983882904, 0.41382476687431335, 0.8580154180526733, 0.13200236856937408, 0.00825014803558588, 0.08577089011669159, 0.7147574424743652, 0.05718059465289116, 0.11436118930578232, 0.5350053310394287, 0.03057173453271389, 0.42800426483154297, 0.8659412264823914, 0.010961281135678291, 0.12057409435510635, 0.9936800003051758, 0.8099315762519836, 0.27548521757125854, 0.697895884513855, 0.976362407207489, 0.5690881609916687, 0.4268161356449127, 0.7631005644798279, 0.27409490942955017, 0.010151662863790989, 0.040606651455163956, 0.020303325727581978, 0.09136496484279633, 0.5177348256111145, 0.05075831711292267, 0.43380239605903625, 0.019718289375305176, 0.5323938131332397, 0.8831753730773926, 0.049065299332141876, 0.08169637620449066, 0.8169637322425842, 0.28923338651657104, 0.6748778820037842, 0.8398098945617676, 0.1055498719215393, 0.0321238748729229, 0.01376737467944622, 0.8246449828147888, 0.9756126999855042, 0.05117318034172058, 0.7732836008071899, 0.17626316845417023, 0.2115163505077362, 0.2115163505077362, 0.015108310617506504, 0.5287908911705017, 0.015108310617506504, 0.2031206637620926, 0.6170893907546997, 0.1379895806312561, 0.016558749601244926, 0.002207833342254162, 0.02097441628575325, 0.0285752285271883, 0.0571504570543766, 0.6858054995536804, 0.1714513748884201, 0.0285752285271883, 0.8156930804252625, 0.874413013458252, 0.14180421829223633, 0.07090210914611816, 0.744472086429596, 0.8769101500511169, 0.004295641090720892, 0.9922930598258972, 0.9940248131752014, 0.36616894602775574, 0.6224872469902039, 0.34560394287109375, 0.05316983908414841, 0.3854813277721405, 0.11963213980197906, 0.07975475490093231, 0.2582029402256012, 0.2818912863731384, 0.42402133345603943, 0.033163681626319885, 0.9481004476547241, 0.8719797134399414, 0.07927088439464569, 0.7478057146072388, 0.21810999512672424, 0.9290059208869934, 0.2954665720462799, 0.03693332150578499, 0.031251270323991776, 0.07670766115188599, 0.4488818943500519, 0.10227688401937485, 0.005682049319148064, 0.9261536002159119, 0.17496171593666077, 0.8164880275726318, 0.4077630043029785, 0.3971717655658722, 0.06884310394525528, 0.04766061156988144, 0.08472997695207596, 0.009034141898155212, 0.18971697986125946, 0.03613656759262085, 0.58721923828125, 0.08130727708339691, 0.09034141898155212, 0.2117515355348587, 0.2646894156932831, 0.5029098987579346, 0.10075787454843521, 0.05425424128770828, 0.8409407138824463, 0.9240257143974304, 0.9257541298866272, 0.9396409392356873, 0.7721519470214844, 0.9185158014297485, 0.9778114557266235, 0.08345245569944382, 0.326223224401474, 0.43243542313575745, 0.1517317295074463, 0.909832239151001, 0.8125423789024353, 0.17969687283039093, 0.928011953830719, 0.969032883644104, 0.16960693895816803, 0.1874603033065796, 0.02231670171022415, 0.22316701710224152, 0.33921387791633606, 0.05802342668175697, 0.9216745495796204, 0.9965214729309082, 0.31821614503860474, 0.5682430863380432, 0.0909188985824585, 0.25434017181396484, 0.09248733520507812, 0.177267387509346, 0.030829111114144325, 0.43160754442214966, 0.1909387856721878, 0.1138933077454567, 0.09714429825544357, 0.11724311113357544, 0.13399213552474976, 0.3182313144207001, 0.026798425242304802, 0.9890515208244324, 0.15353231132030487, 0.8188389539718628, 0.9346026182174683, 0.6885961294174194, 0.2835395634174347, 0.34414342045783997, 0.6482701897621155, 0.2512103319168091, 0.08038730919361115, 0.0037681551184505224, 0.546382486820221, 0.010048413649201393, 0.01884077489376068, 0.036425501108169556, 0.0037681551184505224, 0.050242066383361816, 0.3836159110069275, 0.04566856101155281, 0.04566856101155281, 0.27401137351989746, 0.09133712202310562, 0.14613939821720123, 0.8766946196556091, 0.9185976386070251, 0.15590940415859222, 0.02227277122437954, 0.8018198013305664, 0.5232776999473572, 0.14271210134029388, 0.28542420268058777, 0.04757070168852806, 0.9931797981262207, 0.2617311477661133, 0.021810928359627724, 0.6979497075080872, 0.9606539607048035, 0.02853427641093731, 0.9457606077194214, 0.9904897809028625, 0.9672302007675171, 0.8817147016525269, 0.8983349800109863, 0.8953213095664978, 0.994603157043457, 0.8154009580612183, 0.04982893168926239, 0.8221773505210876, 0.04982893168926239, 0.07474339753389359, 0.9664402604103088, 0.9626542925834656, 0.9916428327560425, 0.7391118407249451, 0.1309283822774887, 0.06757593899965286, 0.029564473778009415, 0.029564473778009415, 0.8448090553283691, 0.0889272689819336, 0.0444636344909668, 0.8745099306106567, 0.9012678861618042, 0.9636560678482056, 0.7677298784255981, 0.12795498967170715, 0.06397749483585358, 0.993786096572876, 0.9072503447532654, 0.2555111050605774, 0.7368227243423462, 0.8834812045097351, 0.8089610934257507, 0.8197327256202698, 0.9087114334106445, 0.9285848140716553, 0.9196531176567078, 0.8413853645324707, 0.9897915720939636, 0.9298878908157349, 0.9552809000015259, 0.15771949291229248, 0.7885974049568176, 0.16882658004760742, 0.8230295777320862, 0.9969702959060669, 0.8597713708877563, 0.9970855712890625, 0.936539351940155, 0.0539015457034111, 0.8823440074920654, 0.08792557567358017, 0.21102137863636017, 0.7034046053886414, 0.9822297692298889, 0.11008638888597488, 0.8623433709144592, 0.9877396821975708, 0.984896719455719, 0.8556721806526184, 0.13393129408359528, 0.04061079025268555, 0.2436647266149521, 0.6903833746910095, 0.9348704814910889, 0.18492069840431213, 0.06015492603182793, 0.22502398490905762, 0.1492733359336853, 0.3809812068939209, 0.0022279603872448206, 0.998357892036438, 0.13954021036624908, 0.7256090641021729, 0.11163216829299927, 0.937762439250946, 0.03441330045461655, 0.02580997534096241, 0.8720479011535645, 0.7893885970115662, 0.18201929330825806, 0.8039185404777527, 0.8992245197296143, 0.9939814805984497, 0.9472419619560242, 0.46619170904159546, 0.27971503138542175, 0.046619169414043427, 0.1864766776561737, 0.11378132551908493, 0.3250895142555237, 0.5587475895881653, 0.07777388393878937, 0.025924628600478172, 0.8555127382278442, 0.03456617146730423, 0.89034104347229, 0.15224719047546387, 0.05074906349182129, 0.05074906349182129, 0.710486888885498, 0.736843466758728, 0.1733749359846115, 0.04334373399615288, 0.5810927748680115, 0.412388414144516, 0.8161700963973999, 0.9240226149559021, 0.061601508408784866, 0.9647170305252075, 0.902068555355072, 0.8016728162765503, 0.18708720803260803, 0.6548052430152893, 0.09354360401630402, 0.8948805332183838, 0.9768201112747192, 0.12022925913333893, 0.721375584602356, 0.12022925913333893, 0.07006392627954483, 0.10509588569402695, 0.8057351112365723, 0.874046802520752, 0.09563102573156357, 0.4542473554611206, 0.17828354239463806, 0.04644935205578804, 0.04440011829137802, 0.08538483828306198, 0.09563102573156357, 0.13360974192619324, 0.8551023602485657, 0.6906376481056213, 0.23679006099700928, 0.05919751524925232, 0.9660907983779907, 0.9955928921699524, 0.955001950263977, 0.9093997478485107, 0.07256464660167694, 0.18866808712482452, 0.40636202692985535, 0.13061636686325073, 0.18866808712482452, 0.014512930065393448, 0.7975867390632629, 0.14075060188770294, 0.03717365115880966, 0.9541236758232117, 0.8629598021507263, 0.09483728557825089, 0.9009542465209961, 0.9597654938697815, 0.026443764567375183, 0.9734610915184021, 0.9512616395950317, 0.9715157151222229, 0.9709755778312683, 0.7921145558357239, 0.8626328110694885, 0.9787254929542542, 0.9791305065155029, 0.6845073699951172, 0.3068481385707855, 0.9645430445671082, 0.9496529698371887, 0.19812001287937164, 0.28302857279777527, 0.5188857316970825, 0.9577955603599548, 0.9741082787513733, 0.23698566854000092, 0.7448121309280396, 0.76144939661026, 0.10228424519300461, 0.10228424519300461, 0.03409474715590477, 0.8641847372055054, 0.798243522644043, 0.11715979129076004, 0.8786984086036682, 0.03097727708518505, 0.9293183088302612, 0.05264314264059067, 0.8422902822494507, 0.05264314264059067, 0.05285066366195679, 0.22901953756809235, 0.0860118642449379, 0.020725751295685768, 0.5481960773468018, 0.05699581280350685, 0.005181437823921442, 0.21745310723781586, 0.7500556707382202, 0.02836344949901104, 0.8636932373046875, 0.13435228168964386, 0.930100679397583, 0.24388433992862701, 0.29147154092788696, 0.19629715383052826, 0.06543238461017609, 0.0951743796467781, 0.1070711761713028, 0.2140241265296936, 0.2219509482383728, 0.0871950164437294, 0.003963409923017025, 0.4161580204963684, 0.0515243262052536, 0.2045980989933014, 0.7430141568183899, 0.05384160205721855, 0.9678577780723572, 0.2859695553779602, 0.6977657675743103, 0.42109644412994385, 0.583056628704071, 0.9541423320770264, 0.8891023397445679, 0.8582755327224731, 0.11443673819303513, 0.9494397640228271, 0.8967046141624451, 0.264779269695282, 0.21084275841712952, 0.2255527228116989, 0.06864648312330246, 0.004903320223093033, 0.22064940631389618, 0.143759623169899, 0.5510785579681396, 0.19167950749397278, 0.11979968845844269, 0.07940119504928589, 0.8734131455421448, 0.9455469846725464, 0.8974621295928955, 0.9474979639053345, 0.8414359092712402, 0.759429931640625, 0.05161174014210701, 0.08847726881504059, 0.08847726881504059, 0.007373106200248003, 0.1606205403804779, 0.8031027317047119, 0.17316360771656036, 0.8163427114486694, 0.9664887189865112, 0.8837570548057556, 0.3181493878364563, 0.10226230323314667, 0.11362478137016296, 0.45449912548065186, 0.9068388938903809, 0.7827742695808411, 0.04437646642327309, 0.22188234329223633, 0.7100234627723694, 0.19462370872497559, 0.7970304489135742, 0.9503348469734192, 0.9411029815673828, 0.9567576050758362, 0.9992684721946716, 0.9989569187164307, 0.03895552083849907, 0.39734628796577454, 0.10907545685768127, 0.2571064233779907, 0.13244876265525818, 0.0701199322938919, 0.9980506896972656, 0.03891368210315704, 0.5243106484413147, 0.1228853091597557, 0.020480884239077568, 0.1249333992600441, 0.11674103885889053, 0.051202211529016495, 0.04308037459850311, 0.9046878814697266, 0.9275334477424622, 0.7546544671058655, 0.012577574700117111, 0.2263963371515274, 0.9036895632743835, 0.4068172574043274, 0.18265265226364136, 0.2158622294664383, 0.19510623812675476, 0.19541765749454498, 0.04342614859342575, 0.4342614710330963, 0.21713073551654816, 0.10856536775827408, 0.9707436561584473, 0.7850199937820435, 0.3728945255279541, 0.2546596825122833, 0.06366492062807083, 0.05456992983818054, 0.24556468427181244, 0.032296303659677505, 0.966989278793335, 0.8623263239860535, 0.03926520422101021, 0.7460388541221619, 0.19632601737976074, 0.9830655455589294, 0.0635715052485466, 0.009712313301861286, 0.9262015223503113, 0.4662422835826874, 0.08325754851102829, 0.3163786828517914, 0.08325754851102829, 0.041628774255514145, 0.9492911696434021, 0.04314959794282913, 0.9151123762130737, 0.92833411693573, 0.7907167077064514, 0.19767917692661285, 0.8631215691566467, 0.20286139845848083, 0.7880385518074036, 0.19787292182445526, 0.791491687297821, 0.9426282644271851, 0.8682571053504944, 0.8307693600654602, 0.916739821434021, 0.13623391091823578, 0.7291037440299988, 0.00252285017631948, 0.052979856729507446, 0.00504570035263896, 0.00252285017631948, 0.07063980400562286, 0.06647109240293503, 0.9139775037765503, 0.93974369764328, 0.25129780173301697, 0.7287636399269104, 0.1404137909412384, 0.8424826860427856, 0.803511917591095, 0.8797850012779236, 0.9908033013343811, 0.9375978112220764, 0.93468177318573, 0.9359070658683777, 0.11332635581493378, 0.14165794849395752, 0.7366213202476501, 0.061523593962192535, 0.15380898118019104, 0.030761796981096268, 0.7075213193893433, 0.4268638789653778, 0.5634602904319763, 0.16202254593372345, 0.8101127743721008, 0.9320096969604492, 0.15469998121261597, 0.2062666416168213, 0.6187999248504639, 0.22936107218265533, 0.2177344709634781, 0.5527918934822083, 0.8282787799835205, 0.8941740393638611, 0.8717032074928284, 0.0741875022649765, 0.03709375113248825, 0.1589161902666092, 0.7945809960365295, 0.9674496054649353, 0.0976177379488945, 0.21818682551383972, 0.021311964839696884, 0.5256454348564148, 0.05663318932056427, 0.0025335901882499456, 0.00014903470582794398, 0.07749804854393005, 0.00014903470582794398, 0.00014903470582794398, 0.8477758169174194, 0.9035388231277466, 0.7541728019714355, 0.558601438999176, 0.23698242008686066, 0.02821219339966774, 0.1749155968427658, 0.1665300577878952, 0.725595235824585, 0.03568501025438309, 0.07137002050876617, 0.31253719329833984, 0.6450235843658447, 0.019949182868003845, 0.019949182868003845, 0.021380450576543808, 0.11759248375892639, 0.6627939939498901, 0.10690225660800934, 0.08552180230617523, 0.7981696724891663, 0.18419300019741058, 0.9557485580444336, 0.8602180480957031, 0.07446686923503876, 0.9122191667556763, 0.9257171154022217, 0.38857677578926086, 0.12823033332824707, 0.2525749206542969, 0.09325842559337616, 0.06994382292032242, 0.06605805456638336, 0.18637627363204956, 0.5901915431022644, 0.12425084412097931, 0.0828339010477066, 0.09445007890462875, 0.75560063123703, 0.24545006453990936, 0.11045252531766891, 0.5031726360321045, 0.012272503226995468, 0.06136251613497734, 0.06136251613497734, 0.257885217666626, 0.7349728345870972, 0.15337210893630981, 0.8435466289520264, 0.4331318438053131, 0.1656092256307602, 0.17834840714931488, 0.09554378688335419, 0.10191337019205093, 0.025478342548012733, 0.9097307324409485, 0.1292678415775299, 0.8000631332397461, 0.060557905584573746, 0.01048117596656084, 0.933942437171936, 0.9336995482444763, 0.980508029460907, 0.8087813258171082, 0.004624813329428434, 0.266257107257843, 0.5873513221740723, 0.0006606876268051565, 0.0006606876268051565, 0.004624813329428434, 0.13478027284145355, 0.0006606876268051565, 0.7947219014167786, 0.8945106863975525, 0.3090827763080597, 0.6696793437004089, 0.9610641002655029, 0.5507103204727173, 0.02950233966112137, 0.3573061227798462, 0.05900467932224274, 0.003278037765994668, 0.9993892908096313, 0.9207594990730286, 0.9579598307609558, 0.7391967177391052, 0.2463989108800888, 0.8793500065803528, 0.5213665962219238, 0.15867678821086884, 0.15867678821086884, 0.1314750611782074, 0.00906724575906992, 0.013600868172943592, 0.07256389409303665, 0.9267013669013977, 0.9227761030197144, 0.2642071545124054, 0.017613809555768967, 0.20255880057811737, 0.017613809555768967, 0.14091047644615173, 0.20255880057811737, 0.158524289727211, 0.9611180424690247, 0.6539788842201233, 0.05190308764576912, 0.08304493874311447, 0.20761235058307648, 0.17199954390525818, 0.7424647212028503, 0.05159986391663551, 0.03153324872255325, 0.27113962173461914, 0.22030095756053925, 0.4914405941963196, 0.9842812418937683, 0.9427884817123413, 0.976620614528656, 0.8777777552604675, 0.31898730993270874, 0.6795817017555237, 0.9184594750404358, 0.03993301838636398, 0.07867168635129929, 0.1236269399523735, 0.08991049975156784, 0.6855675578117371, 0.9439492225646973, 0.32945823669433594, 0.006589164957404137, 0.31627991795539856, 0.013178329914808273, 0.2833341062068939, 0.046124156564474106, 0.9050660729408264, 0.18285076320171356, 0.23271915316581726, 0.5651751160621643, 0.9570309519767761, 0.9672785401344299, 0.8267951011657715, 0.19927090406417847, 0.11624136567115784, 0.6310245394706726, 0.03321181610226631, 0.2613494098186493, 0.5973700881004333, 0.13067470490932465, 0.22261632978916168, 0.0401439294219017, 0.6459522843360901, 0.09123620390892029, 0.7916777729988098, 0.40053534507751465, 0.12190206348896027, 0.46438881754875183, 0.011609720066189766, 0.867275595664978, 0.06671350449323654, 0.2928415536880493, 0.04880692437291145, 0.6588935256004333, 0.9793504476547241, 0.8369090557098389, 0.9114197492599487, 0.04079415649175644, 0.29915714263916016, 0.3535493314266205, 0.05439220741391182, 0.24476492404937744, 0.29388904571533203, 0.5877780914306641, 0.1049603745341301, 0.8902003169059753, 0.9506102800369263, 0.04553403705358505, 0.022767018526792526, 0.9106807112693787, 0.1825096756219864, 0.45942091941833496, 0.008391249924898148, 0.004195624962449074, 0.0440540611743927, 0.016782499849796295, 0.006293437443673611, 0.2811068594455719, 0.9852015972137451, 0.8851714134216309, 0.9487658143043518, 0.2799088954925537, 0.689006507396698, 0.7484492659568787, 0.951254665851593, 0.03805018588900566, 0.984437108039856, 0.16352519392967224, 0.7631176114082336, 0.8444709181785583, 0.03446820005774498, 0.06031934916973114, 0.05170229822397232, 0.9620471596717834, 0.33656856417655945, 0.6394802927970886, 0.6189115047454834, 0.37959903478622437, 0.2586303651332855, 0.7241649627685547, 0.9529910683631897, 0.8764635324478149, 0.9931680560112, 0.995714008808136, 0.6963534355163574, 0.2724861204624176, 0.8338201642036438, 0.43916890025138855, 0.007842302322387695, 0.5489611625671387, 0.8901916146278381, 0.08509676158428192, 0.8935160040855408, 0.7914010882377625, 0.6535353660583496, 0.23557668924331665, 0.10638947784900665, 0.20771685242652893, 0.7616284489631653, 0.401553213596344, 0.5868854522705078, 0.21315453946590424, 0.6594468355178833, 0.1232299655675888, 0.8209701180458069, 0.10480469465255737, 0.052402347326278687, 0.6745213866233826, 0.28105059266090393, 0.9255015254020691, 0.04871060699224472, 0.09857539087533951, 0.8970360159873962, 0.003285846207290888, 0.7766755819320679, 0.07151559740304947, 0.3685803711414337, 0.5363669395446777, 0.019254198297858238, 0.15034039318561554, 0.8268721103668213, 0.7865800857543945, 0.16855287551879883, 0.037456195801496506, 0.21877479553222656, 0.04813045635819435, 0.05688145011663437, 0.36754167079925537, 0.008750991895794868, 0.004375495947897434, 0.22315029799938202, 0.06563244014978409, 0.004375495947897434, 0.8149818181991577, 0.8603347539901733, 0.9474728107452393, 0.7867801189422607, 0.8201130032539368, 0.10934839397668839, 0.11433199793100357, 0.37872472405433655, 0.028582999482750893, 0.1500607430934906, 0.007145749870687723, 0.2929757237434387, 0.014291499741375446, 0.014291499741375446, 0.7966494560241699, 0.13277490437030792, 0.8092014789581299, 0.9917195439338684, 0.023653678596019745, 0.2601904571056366, 0.7096103429794312, 0.1672675758600235, 0.7805820107460022, 0.9143058061599731, 0.9962664842605591, 0.07128950953483582, 0.20368430018424988, 0.7179871797561646, 0.9271352887153625, 0.08045071363449097, 0.2566760778427124, 0.6589296460151672, 0.7860521078109741, 0.9841605424880981, 0.261945515871048, 0.5060310959815979, 0.22027236223220825, 0.0059533072635531425, 0.8780946731567383, 0.28809046745300293, 0.6584924459457397, 0.9132480025291443, 0.9499307870864868, 0.1480070948600769, 0.7893711924552917, 0.9470279812812805, 0.29619506001472473, 0.5738778710365295, 0.09256095439195633, 0.018512191250920296, 0.11235480010509491, 0.30710312724113464, 0.007490320131182671, 0.56926429271698, 0.9019299745559692, 0.9185240864753723, 0.9350403547286987, 0.5460538268089294, 0.12219386547803879, 0.12219386547803879, 0.0649154931306839, 0.07637117058038712, 0.0649154931306839, 0.8576973080635071, 0.07147477567195892, 0.12246355414390564, 0.3005923628807068, 0.5677855610847473, 0.08683314919471741, 0.497502863407135, 0.13688990473747253, 0.0010215664515271783, 0.0010215664515271783, 0.062315553426742554, 0.09602724760770798, 0.0919409766793251, 0.024517593905329704, 0.8920224905014038, 0.2420167624950409, 0.44680020213127136, 0.20478342473506927, 0.07446669787168503, 0.939437747001648, 0.9416473507881165, 0.9289035797119141, 0.9156537652015686, 0.8756569623947144, 0.944505512714386, 0.9254721999168396, 0.22889059782028198, 0.7657430768013, 0.9019296765327454, 0.9520041346549988, 0.0420001819729805, 0.6996636390686035, 0.8198169469833374, 0.9492940902709961, 0.3349057137966156, 0.5657191276550293, 0.045257531106472015, 0.01357725914567709, 0.040731776505708694, 0.8522480130195618, 0.8685492873191833, 0.5919927954673767, 0.4017094075679779, 0.894116997718811, 0.2844398319721222, 0.1799517422914505, 0.15479719638824463, 0.1915615200996399, 0.05224405229091644, 0.01354475412517786, 0.12383775413036346, 0.16355127096176147, 0.8177562952041626, 0.9946698546409607, 0.9002143144607544, 0.8624151349067688, 0.21682922542095184, 0.7805852293968201, 0.2036542296409607, 0.260224848985672, 0.5317638516426086, 0.19881634414196014, 0.7455613017082214, 0.049704086035490036, 0.36725345253944397, 0.31893062591552734, 0.12080705165863037, 0.1932912915945053, 0.9246360063552856, 0.009399153292179108, 0.41356274485588074, 0.06579407304525375, 0.18798306584358215, 0.31957119703292847, 0.9885262846946716, 0.8990564942359924, 0.944915235042572, 0.9448074102401733, 0.9685353636741638, 0.9236183166503906, 0.9789815545082092, 0.8575322031974792, 0.9366472959518433, 0.8266554474830627, 0.13777591288089752, 0.9967110753059387, 0.24939443171024323, 0.12469721585512161, 0.581920325756073, 0.3138597011566162, 0.2567943036556244, 0.07133174687623978, 0.32812604308128357, 0.02853269875049591, 0.2591838240623474, 0.237585186958313, 0.007199550978839397, 0.2087869793176651, 0.08639460802078247, 0.19438786804676056, 0.3122328519821167, 0.6765045523643494, 0.969628632068634, 0.9121668338775635, 0.03965942934155464, 0.8371336460113525, 0.19336117804050446, 0.7992261648178101, 0.8430641293525696, 0.7791147232055664, 0.1731366068124771, 0.1010318323969841, 0.18185730278491974, 0.5051591396331787, 0.18185730278491974, 0.8486984372138977, 0.21853525936603546, 0.2937301993370056, 0.10104318708181381, 0.0023498416412621737, 0.004699683282524347, 0.3407270312309265, 0.02819809876382351, 0.009399366565048695, 0.9072197079658508, 0.08640187233686447, 0.9569891691207886, 0.9898378252983093, 0.9273456931114197, 0.155784472823143, 0.7789223790168762, 0.830366849899292, 0.8723010420799255, 0.969795823097229, 0.1199178397655487, 0.21318727731704712, 0.5329681634902954, 0.1199178397655487], \"Term\": [\"Rs\", \"[\", \"[\", \"]\", \"a6000\", \"a7000\", \"account\", \"adapter\", \"addition\", \"advertisement\", \"advertising\", \"air\", \"airtel\", \"alarm\", \"alot\", \"amazon\", \"amazon\", \"amazon\", \"amazon\", \"amazon\", \"amazon\", \"amazon\", \"android\", \"android\", \"android\", \"answer\", \"app\", \"app\", \"app\", \"apps\", \"apps\", \"asphalt\", \"ata\", \"atom\", \"aur\", \"avarage\", \"average\", \"average\", \"avg\", \"awesome\", \"awsome\", \"background\", \"backup\", \"backup\", \"bahut\", \"band\", \"bar\", \"bar\", \"batter\", \"batter\", \"batter\", \"battery\", \"battery\", \"battery\", \"battery\", \"battry\", \"battry\", \"battry\", \"become\", \"becomes\", \"bed\", \"benefit\", \"betry\", \"bettery\", \"bettry\", \"bhai\", \"bhi\", \"bhut\", \"bhut\", \"bi\", \"bill\", \"bit\", \"bit\", \"bluetooth\", \"bluetooth\", \"blur\", \"blur\", \"blur\", \"board\", \"boast\", \"bogas\", \"bokeh\", \"bottom\", \"box\", \"box\", \"box\", \"box\", \"box\", \"brand\", \"brand\", \"brand\", \"brand\", \"brand\", \"broken\", \"brother\", \"bty\", \"budget\", \"budget\", \"bug\", \"bug\", \"buget\", \"build\", \"buy\", \"buy\", \"buy\", \"buy\", \"buy\", \"buy\", \"buy\", \"buy\", \"buy\", \"buy\", \"buying\", \"buying\", \"buying\", \"buying\", \"cable\", \"cable\", \"cable\", \"call\", \"call\", \"call\", \"caller\", \"caller\", \"camera\", \"camera\", \"camera\", \"camera\", \"camera\", \"camera\", \"camera\", \"camra\", \"capacity\", \"capacity\", \"capture\", \"card\", \"card\", \"card\", \"card\", \"card\", \"card\", \"card\", \"care\", \"care\", \"cash\", \"cash\", \"cashback\", \"cast\", \"cast\", \"category\", \"cause\", \"cause\", \"cell\", \"center\", \"center\", \"centre\", \"centre\", \"chance\", \"charge\", \"charge\", \"charge\", \"charge\", \"charger\", \"charger\", \"charging\", \"charging\", \"charging\", \"cheap\", \"cheat\", \"china\", \"china\", \"choice\", \"choice\", \"choice\", \"chor\", \"clarity\", \"clarity\", \"clarity\", \"clarity\", \"class\", \"class\", \"clearity\", \"color\", \"color\", \"color\", \"comment\", \"company\", \"company\", \"company\", \"company\", \"company\", \"company\", \"company\", \"company\", \"compare\", \"compare\", \"compare\", \"compare\", \"compare\", \"compare\", \"comparison\", \"compass\", \"competition\", \"competitor\", \"complain\", \"complaint\", \"complaint\", \"complaint\", \"con\", \"con\", \"con\", \"configuration\", \"configuration\", \"configuration\", \"configuration\", \"connection\", \"connection\", \"connection\", \"connectivity\", \"connectivity\", \"connectivity\", \"contact\", \"convince\", \"cool\", \"cool\", \"copy\", \"core\", \"core\", \"correct\", \"cost\", \"cost\", \"cost\", \"cost\", \"cost\", \"cost\", \"cost\", \"cover\", \"cover\", \"cover\", \"coverage\", \"coverage\", \"coz\", \"coz\", \"crap\", \"crap\", \"customer\", \"customer\", \"customer\", \"customer\", \"dad\", \"damage\", \"data\", \"data\", \"data\", \"date\", \"date\", \"date\", \"date\", \"date\", \"day\", \"day\", \"day\", \"day\", \"day\", \"day\", \"deal\", \"deal\", \"deal\", \"deal\", \"deal\", \"dear\", \"decrease\", \"defect\", \"defect\", \"defect\", \"defective\", \"delivery\", \"delivery\", \"depth\", \"description\", \"description\", \"design\", \"design\", \"design\", \"design\", \"design\", \"device\", \"device\", \"device\", \"device\", \"dim\", \"dis\", \"dis\", \"discharge\", \"discharge\", \"discount\", \"display\", \"display\", \"display\", \"display\", \"display\", \"display\", \"display\", \"diwali\", \"dnt\", \"dnt\", \"dolby\", \"dolby\", \"dolby\", \"dolby\", \"dolby\", \"dont\", \"dont\", \"dont\", \"dont\", \"dont\", \"dont\", \"download\", \"download\", \"download\", \"drain\", \"drain\", \"drain\", \"duel\", \"dull\", \"duplicate\", \"duration\", \"duty\", \"e\", \"earphone\", \"earphone\", \"earphone\", \"earphone\", \"ease\", \"effect\", \"effect\", \"engineer\", \"everyone\", \"everything\", \"everything\", \"everything\", \"everything\", \"everything\", \"everything\", \"example\", \"excellent\", \"exchange\", \"exchange\", \"exchange\", \"expectation\", \"expectation\", \"expectation\", \"expectation\", \"expectation\", \"experience\", \"experience\", \"experience\", \"experience\", \"experience\", \"experience\", \"experience\", \"facility\", \"facing\", \"facing\", \"fact\", \"fall\", \"fall\", \"fast\", \"fast\", \"feature\", \"feature\", \"feature\", \"feature\", \"feature\", \"feature\", \"feature\", \"feature\", \"feature\", \"feel\", \"feel\", \"feel\", \"feel\", \"feel\", \"feel\", \"fetures\", \"fi\", \"fine\", \"fine\", \"fine\", \"finger\", \"finger\", \"finger\", \"finger\", \"fingerprint\", \"fix\", \"fix\", \"fix\", \"flash\", \"flash\", \"flipkart\", \"focus\", \"fone\", \"foot\", \"forum\", \"frequent\", \"front\", \"fulfill\", \"future\", \"future\", \"future\", \"future\", \"g\", \"g5s\", \"gallery\", \"game\", \"game\", \"game\", \"game\", \"game\", \"gaming\", \"gaming\", \"gaming\", \"gaya\", \"gd\", \"ghatiya\", \"gift\", \"gift\", \"gift\", \"glass\", \"go\", \"good\", \"good\", \"good2\", \"good4\", \"goodbattery\", \"goodbut\", \"goodcamera\", \"goodi\", \"goood\", \"gorilla\", \"grab\", \"group\", \"guard\", \"guard\", \"gud\", \"gud\", \"h\", \"ha\", \"hai\", \"handset\", \"handset\", \"handy\", \"hang\", \"hang\", \"hang\", \"hanging\", \"hardware\", \"hardware\", \"hd\", \"head\", \"headphone\", \"headphone\", \"headset\", \"headset\", \"headset\", \"heard\", \"heat\", \"heat\", \"heat\", \"heat\", \"heat\", \"heat\", \"heating\", \"hell\", \"hell\", \"hell\", \"help\", \"help\", \"help\", \"helpful\", \"heng\", \"hi\", \"hi\", \"highlight\", \"ho\", \"hota\", \"hotspot\", \"hotspot\", \"hotspot\", \"hotspot\", \"hour\", \"hour\", \"hour\", \"hr\", \"hr\", \"hr\", \"hr\", \"hype\", \"iam\", \"iam\", \"iam\", \"iam\", \"im\", \"im\", \"im\", \"image\", \"image\", \"imei\", \"improvement\", \"improvement\", \"inbuilt\", \"incoming\", \"infact\", \"information\", \"information\", \"information\", \"investment\", \"invoice\", \"iphone\", \"iphone\", \"iphone\", \"iron\", \"iron\", \"iron\", \"isme\", \"issue\", \"issue\", \"issue\", \"issue\", \"issue\", \"issue\", \"issue\", \"item\", \"item\", \"jack\", \"jack\", \"jack\", \"jata\", \"jio\", \"joke\", \"jus\", \"k\", \"k\", \"k\", \"k\", \"k\", \"k\", \"k3\", \"k3\", \"k4\", \"k4\", \"k4note\", \"k5\", \"k5\", \"k6\", \"k8\", \"k8\", \"k8note\", \"ka\", \"kar\", \"karne\", \"karo\", \"ke\", \"keep\", \"key\", \"key\", \"ki\", \"kill\", \"killer\", \"killer\", \"killer\", \"ko\", \"koi\", \"lack\", \"lack\", \"lag\", \"lag\", \"lag\", \"lag\", \"laga\", \"language\", \"launch\", \"launch\", \"lenevo\", \"lenevo\", \"lenova\", \"lenova\", \"lenova\", \"lenovo\", \"lenovo\", \"lenovo\", \"lenovo\", \"lenovo\", \"lenovo\", \"lenovo\", \"life\", \"life\", \"life\", \"light\", \"light\", \"lo\", \"look\", \"look\", \"look\", \"look\", \"look\", \"look\", \"lot\", \"lot\", \"lot\", \"lot\", \"lot\", \"lot\", \"love\", \"love\", \"love\", \"lte\", \"mah\", \"mah\", \"mail\", \"mail\", \"maine\", \"man\", \"management\", \"management\", \"manager\", \"manufacturing\", \"mark\", \"mark\", \"mark\", \"mark\", \"mark\", \"mark\", \"market\", \"market\", \"market\", \"market\", \"mast\", \"mast\", \"mat\", \"material\", \"meeting\", \"megapixel\", \"memory\", \"memory\", \"memory\", \"memory\", \"memory\", \"mera\", \"mera\", \"message\", \"message\", \"metal\", \"mh\", \"mi\", \"mi\", \"mi\", \"mi\", \"mi4\", \"mike\", \"mind\", \"mind\", \"mind\", \"minute\", \"minute\", \"mirror\", \"mistake\", \"mobail\", \"mobile\", \"mode\", \"model\", \"model\", \"model\", \"model\", \"model\", \"model\", \"money\", \"month\", \"month\", \"month\", \"month\", \"month\", \"month\", \"month\", \"morning\", \"morning\", \"motherboard\", \"moto\", \"moto\", \"moto\", \"msg\", \"music\", \"music\", \"music\", \"music\", \"n\", \"n\", \"n\", \"n\", \"n\", \"nahi\", \"naugat\", \"need\", \"need\", \"need\", \"need\", \"need\", \"network\", \"network\", \"news\", \"nhi\", \"nhi\", \"nhi\", \"nice\", \"note\", \"note\", \"note\", \"nothing\", \"nothing\", \"nothing\", \"nothing\", \"nothing\", \"number\", \"number\", \"nyc\", \"october\", \"offer\", \"offer\", \"official\", \"ok\", \"ok\", \"okay\", \"okay\", \"one\", \"operating\", \"oppo\", \"opt\", \"option\", \"option\", \"option\", \"option\", \"option\", \"option\", \"option\", \"oreo\", \"oreo\", \"osm\", \"others\", \"others\", \"output\", \"output\", \"owesome\", \"p\", \"package\", \"packaging\", \"packet\", \"paisa\", \"paper\", \"paper\", \"paper\", \"par\", \"par\", \"par\", \"par\", \"part\", \"part\", \"pc\", \"pc\", \"percent\", \"perfect\", \"perfect\", \"perfect\", \"performance\", \"performance\", \"performance\", \"performer\", \"performs\", \"person\", \"person\", \"person\", \"ph\", \"ph\", \"phon\", \"phone\", \"phone\", \"phone\", \"phone\", \"phone\", \"phone\", \"phone\", \"phone\", \"phone\", \"phone\", \"phonecamera\", \"phonei\", \"phoneit\", \"photo\", \"photo\", \"photo\", \"photo\", \"pic\", \"pic\", \"pic\", \"pic\", \"picture\", \"picture\", \"picture\", \"picture\", \"piece\", \"piece\", \"piece\", \"piece\", \"piece\", \"pin\", \"pin\", \"pixel\", \"planning\", \"player\", \"player\", \"playing\", \"please\", \"please\", \"please\", \"please\", \"please\", \"please\", \"pls\", \"pls\", \"pls\", \"pls\", \"plug\", \"plug\", \"plz\", \"plz\", \"plz\", \"plz\", \"plz\", \"plz\", \"policy\", \"policy\", \"port\", \"port\", \"power\", \"power\", \"power\", \"power\", \"power\", \"power\", \"pr\", \"price\", \"price\", \"price\", \"price\", \"priority\", \"prise\", \"pro\", \"problam\", \"problem\", \"problem\", \"problem\", \"problem\", \"problem\", \"problem\", \"problem\", \"problem\", \"problembattery\", \"procedure\", \"process\", \"process\", \"processing\", \"processor\", \"processor\", \"processor\", \"processor\", \"processor\", \"product\", \"pros1\", \"protection\", \"provide\", \"provide\", \"proximity\", \"purchase\", \"purchase\", \"purchase\", \"purchase\", \"purchase\", \"purchase\", \"quality\", \"quality\", \"quick\", \"r\", \"r\", \"r\", \"r\", \"r\", \"r\", \"r\", \"raha\", \"ram\", \"ram\", \"ram\", \"ram\", \"range\", \"range\", \"range\", \"range\", \"rate\", \"rate\", \"rate\", \"rear\", \"receive\", \"reception\", \"recharge\", \"recorder\", \"recorder\", \"recording\", \"recording\", \"redmi\", \"redmi\", \"redmi\", \"redmi\", \"repair\", \"replacement\", \"replacement\", \"replacement\", \"replacement\", \"replacement\", \"replacement\", \"reputation\", \"request\", \"request\", \"request\", \"reset\", \"resolve\", \"responsibility\", \"rest\", \"rest\", \"rest\", \"rest\", \"result\", \"result\", \"result\", \"return\", \"return\", \"return\", \"return\", \"reverse\", \"review\", \"review\", \"review\", \"review\", \"rha\", \"rha\", \"ringtone\", \"ringtone\", \"ringtone\", \"rom\", \"rotation\", \"round\", \"sale\", \"sale\", \"sale\", \"sale\", \"sale\", \"samsung\", \"samsung\", \"samsung\", \"satisfy\", \"saver\", \"scratch\", \"scratch\", \"scratch\", \"screen\", \"screen\", \"screen\", \"screen\", \"screen\", \"screen\", \"screen\", \"screen\", \"se\", \"seal\", \"second\", \"segment\", \"segment\", \"select\", \"selfie\", \"selfie\", \"seller\", \"send\", \"send\", \"sensor\", \"sensor\", \"sensor\", \"sensor\", \"september\", \"series\", \"series\", \"service\", \"service\", \"setting\", \"setting\", \"setup\", \"showing\", \"signal\", \"sim\", \"sir\", \"sir\", \"slip\", \"slot\", \"slot\", \"slot\", \"slow\", \"smart\", \"smart\", \"smartchk\", \"smartphone\", \"smartphone\", \"smartphone\", \"smartphones\", \"smartphones\", \"smooth\", \"smooth\", \"software\", \"software\", \"software\", \"solution\", \"solution\", \"solution\", \"solve\", \"solve\", \"someone\", \"someone\", \"sound\", \"sound\", \"sound\", \"speak\", \"speaker\", \"speaker\", \"speaker\", \"speaker\", \"spec\", \"spec\", \"specification\", \"specification\", \"specification\", \"speed\", \"speed\", \"speed\", \"speed\", \"speed\", \"speed\", \"speed\", \"speed\", \"speed\", \"spending\", \"splash\", \"split\", \"spr\", \"stand\", \"stand\", \"star\", \"star\", \"star\", \"star\", \"star\", \"star\", \"star\", \"star\", \"status\", \"status\", \"stick\", \"stock\", \"strength\", \"strength\", \"strength\", \"suggest\", \"suggest\", \"sunlight\", \"super\", \"superb\", \"superb\", \"superb\", \"superfast\", \"support\", \"support\", \"support\", \"sure\", \"switch\", \"system\", \"system\", \"system\", \"system\", \"tak\", \"take\", \"take\", \"taking\", \"temperature\", \"test\", \"test\", \"tha\", \"thank\", \"thank\", \"thank\", \"thank\", \"thanks\", \"thanks\", \"thanks\", \"thanks\", \"thanx\", \"thats\", \"theme\", \"thing\", \"thing\", \"thing\", \"thing\", \"thing\", \"thing\", \"ti\", \"ti\", \"till\", \"till\", \"till\", \"time\", \"time\", \"time\", \"time\", \"time\", \"time\", \"time\", \"time\", \"time\", \"timing\", \"today\", \"today\", \"today\", \"today\", \"toh\", \"tooo\", \"tower\", \"transfer\", \"trap\", \"tray\", \"trouble\", \"turbo\", \"turbo\", \"turbocharger\", \"tv\", \"tv\", \"tym\", \"unique\", \"unit\", \"update\", \"update\", \"update\", \"update\", \"update\", \"updation\", \"upgrade\", \"usage\", \"usage\", \"usb\", \"use\", \"use\", \"use\", \"use\", \"use\", \"use\", \"use\", \"v\", \"v\", \"value\", \"variant\", \"vasool\", \"venom\", \"venom\", \"version\", \"version\", \"version\", \"vibe\", \"vibe\", \"vibe\", \"video\", \"video\", \"video\", \"video\", \"vivo\", \"voice\", \"voice\", \"voice\", \"voice\", \"voice\", \"volta\", \"vry\", \"w\", \"wait\", \"want\", \"warm\", \"warranty\", \"warrenty\", \"wasool\", \"wastage\", \"wastage\", \"waste\", \"water\", \"water\", \"water\", \"way\", \"way\", \"way\", \"way\", \"way\", \"week\", \"week\", \"week\", \"week\", \"week\", \"week\", \"weight\", \"weight\", \"well\", \"whatsapp\", \"whatsapp\", \"wi\", \"wifi\", \"wifi\", \"winter\", \"wireless\", \"wireless\", \"wise\", \"wise\", \"wise\", \"wise\", \"wonderful\", \"work\", \"work\", \"work\", \"work\", \"work\", \"work\", \"work\", \"work\", \"working\", \"working\", \"world\", \"worth\", \"wow\", \"wrost\", \"wrost\", \"wtf\", \"x3\", \"ye\", \"year\", \"year\", \"year\", \"year\"]}, \"R\": 30, \"lambda.step\": 0.01, \"plot.opts\": {\"xlab\": \"PC1\", \"ylab\": \"PC2\"}, \"topic.order\": [6, 4, 11, 12, 10, 7, 1, 8, 3, 9, 5, 2]};\n",
       "\n",
       "function LDAvis_load_lib(url, callback){\n",
       "  var s = document.createElement('script');\n",
       "  s.src = url;\n",
       "  s.async = true;\n",
       "  s.onreadystatechange = s.onload = callback;\n",
       "  s.onerror = function(){console.warn(\"failed to load library \" + url);};\n",
       "  document.getElementsByTagName(\"head\")[0].appendChild(s);\n",
       "}\n",
       "\n",
       "if(typeof(LDAvis) !== \"undefined\"){\n",
       "   // already loaded: just create the visualization\n",
       "   !function(LDAvis){\n",
       "       new LDAvis(\"#\" + \"ldavis_el1072014212841450961024472792\", ldavis_el1072014212841450961024472792_data);\n",
       "   }(LDAvis);\n",
       "}else if(typeof define === \"function\" && define.amd){\n",
       "   // require.js is available: use it to load d3/LDAvis\n",
       "   require.config({paths: {d3: \"https://cdnjs.cloudflare.com/ajax/libs/d3/3.5.5/d3.min\"}});\n",
       "   require([\"d3\"], function(d3){\n",
       "      window.d3 = d3;\n",
       "      LDAvis_load_lib(\"https://cdn.rawgit.com/bmabey/pyLDAvis/files/ldavis.v1.0.0.js\", function(){\n",
       "        new LDAvis(\"#\" + \"ldavis_el1072014212841450961024472792\", ldavis_el1072014212841450961024472792_data);\n",
       "      });\n",
       "    });\n",
       "}else{\n",
       "    // require.js not available: dynamically load d3 & LDAvis\n",
       "    LDAvis_load_lib(\"https://cdnjs.cloudflare.com/ajax/libs/d3/3.5.5/d3.min.js\", function(){\n",
       "         LDAvis_load_lib(\"https://cdn.rawgit.com/bmabey/pyLDAvis/files/ldavis.v1.0.0.js\", function(){\n",
       "                 new LDAvis(\"#\" + \"ldavis_el1072014212841450961024472792\", ldavis_el1072014212841450961024472792_data);\n",
       "            })\n",
       "         });\n",
       "}\n",
       "</script>"
      ],
      "text/plain": [
       "PreparedData(topic_coordinates=              x         y  topics  cluster       Freq\n",
       "topic                                                \n",
       "5      0.204947  0.008395       1        1  17.821960\n",
       "3      0.094501 -0.048337       2        1  16.159428\n",
       "10     0.171044 -0.229041       3        1   9.677594\n",
       "11     0.134027  0.199808       4        1   9.650044\n",
       "9      0.151459  0.073466       5        1   8.850589\n",
       "6     -0.129688  0.205281       6        1   7.572256\n",
       "0     -0.152660  0.008604       7        1   6.729895\n",
       "7      0.133608  0.047065       8        1   5.864195\n",
       "2     -0.080824 -0.224795       9        1   5.389410\n",
       "8     -0.171875  0.013410      10        1   4.709984\n",
       "4     -0.226499 -0.030519      11        1   4.032820\n",
       "1     -0.128042 -0.023336      12        1   3.541819, topic_info=          Term         Freq        Total Category  logprob  loglift\n",
       "17       phone  6709.000000  6709.000000  Default  30.0000  30.0000\n",
       "58     product  2112.000000  2112.000000  Default  29.0000  29.0000\n",
       "5      battery  2955.000000  2955.000000  Default  28.0000  28.0000\n",
       "68      camera  3270.000000  3270.000000  Default  27.0000  27.0000\n",
       "109    quality  1322.000000  1322.000000  Default  26.0000  26.0000\n",
       "..         ...          ...          ...      ...      ...      ...\n",
       "69     feature    39.837967   796.145569  Topic12  -4.3651   0.3456\n",
       "38      option    27.676218   396.377075  Topic12  -4.7294   0.6787\n",
       "428  complaint    18.746662    45.913155  Topic12  -5.1189   2.4448\n",
       "53        time    24.232883   978.888855  Topic12  -4.8622  -0.3582\n",
       "499   earphone    19.762896   131.811584  Topic12  -5.0661   1.4430\n",
       "\n",
       "[727 rows x 6 columns], token_table=      Topic      Freq   Term\n",
       "term                        \n",
       "2545      4  0.926675     Rs\n",
       "87        5  0.030028      [\n",
       "87        7  0.930876      [\n",
       "88        7  0.950904      ]\n",
       "1549      6  0.939998  a6000\n",
       "...     ...       ...    ...\n",
       "352      11  0.969796     ye\n",
       "35        4  0.119918   year\n",
       "35        6  0.213187   year\n",
       "35        8  0.532968   year\n",
       "35       10  0.119918   year\n",
       "\n",
       "[1256 rows x 3 columns], R=30, lambda_step=0.01, plot_opts={'xlab': 'PC1', 'ylab': 'PC2'}, topic_order=[6, 4, 11, 12, 10, 7, 1, 8, 3, 9, 5, 2])"
      ]
     },
     "execution_count": 24,
     "metadata": {},
     "output_type": "execute_result"
    }
   ],
   "source": [
    "import pyLDAvis.gensim\n",
    "import pickle \n",
    "import pyLDAvis\n",
    "# Visualize the topics\n",
    "pyLDAvis.enable_notebook()\n",
    "LDAvis_prepared = pyLDAvis.gensim.prepare(lda_model, corpus_sets[0], dictionary)\n",
    "LDAvis_prepared"
   ]
  },
  {
   "cell_type": "markdown",
   "metadata": {},
   "source": []
  },
  {
   "cell_type": "code",
   "execution_count": null,
   "metadata": {},
   "outputs": [],
   "source": []
  }
 ],
 "metadata": {
  "kernelspec": {
   "display_name": "Python 3",
   "language": "python",
   "name": "python3"
  },
  "language_info": {
   "codemirror_mode": {
    "name": "ipython",
    "version": 3
   },
   "file_extension": ".py",
   "mimetype": "text/x-python",
   "name": "python",
   "nbconvert_exporter": "python",
   "pygments_lexer": "ipython3",
   "version": "3.7.6"
  }
 },
 "nbformat": 4,
 "nbformat_minor": 4
}
